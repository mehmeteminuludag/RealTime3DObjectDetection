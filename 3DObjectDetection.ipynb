{
  "cells": [
    {
      "cell_type": "code",
      "execution_count": 1,
      "id": "f44ce32d",
      "metadata": {
        "id": "f44ce32d"
      },
      "outputs": [],
      "source": [
        "import os\n",
        "import cv2\n",
        "import json\n",
        "import torch\n",
        "from math import inf\n",
        "from posixpath import defpath\n",
        "import wandb\n",
        "import optuna\n",
        "import shutil\n",
        "import logging\n",
        "import numpy as np\n",
        "import torchvision\n",
        "import torch.optim as optim\n",
        "from torchvision.ops import nms\n",
        "import torchvision.ops as ops\n",
        "import matplotlib.pyplot as plt\n",
        "import torch.nn.functional as F\n",
        "from torch import nn\n",
        "from tqdm import tqdm\n",
        "from PIL import Image\n",
        "from collections import Counter\n",
        "from torchsummary import summary\n",
        "from sklearn.metrics import f1_score,accuracy_score,precision_score,recall_score,average_precision_score\n",
        "from typing import Dict, Any, Optional\n",
        "from torchvision import transforms , models\n",
        "from torch.utils.data import Dataset, DataLoader, random_split\n",
        "from torchvision.models import efficientnet_b3, EfficientNet_B3_Weights\n",
        "\n",
        "device = torch.device(\"cuda\" if torch.cuda.is_available() else \"cpu\")"
      ]
    },
    {
      "cell_type": "code",
      "execution_count": null,
      "id": "HFHhIGESGWmk",
      "metadata": {
        "colab": {
          "base_uri": "https://localhost:8080/"
        },
        "id": "HFHhIGESGWmk",
        "outputId": "180d644c-4c31-478d-fb40-904bebea523a"
      },
      "outputs": [
        {
          "output_type": "stream",
          "name": "stdout",
          "text": [
            "Drive already mounted at /content/drive; to attempt to forcibly remount, call drive.mount(\"/content/drive\", force_remount=True).\n"
          ]
        }
      ],
      "source": [
        "from google.colab import drive\n",
        "drive.mount('/content/drive')\n",
        "\n",
        "src = \"/content/drive/MyDrive/kitti2012\"\n",
        "dst = \"/content\"\n",
        "os.makedirs(dst, exist_ok=True)\n",
        "\n",
        "!cp -r \"$src\" \"$dst\"\n",
        "\n",
        "#src = \"/content/drive/MyDrive/vkitti_sample (1)\"\n",
        "#dst = \"/content\"\n",
        "#os.makedirs(dst, exist_ok=True)\n",
        "\n",
        "#!cp -r \"$src\" \"$dst\"\n",
        "\n",
        "wandb.login()"
      ]
    },
    {
      "cell_type": "code",
      "execution_count": null,
      "id": "be09f37a",
      "metadata": {
        "id": "be09f37a"
      },
      "outputs": [],
      "source": [
        "class KITTI_Dataset(Dataset):\n",
        "    def __init__(self, data_path, transform=None, mode='train'):\n",
        "        self.data_path = data_path\n",
        "        self.transform = transform\n",
        "        self.mode = mode  # 'train', 'val', veya 'test'\n",
        "        self.classes = ['Car', 'Van', 'Truck', 'Pedestrian', 'Cyclist', 'Tram', 'Misc', 'DontCare']\n",
        "        self.class_map = {cls: idx for idx, cls in enumerate(self.classes)}\n",
        "        self.data = []\n",
        "\n",
        "        # KITTI görsel boyutları - normalizasyon için\n",
        "        self.img_width = 1242\n",
        "        self.img_height = 375\n",
        "        self.max_depth = 80.0  # KITTI max derinlik\n",
        "\n",
        "        image_dir = os.path.join(data_path, 'training', 'colored_0')\n",
        "        label_dir = os.path.join(data_path, 'training', 'label_2')\n",
        "        disp_dir = os.path.join(data_path, 'training', 'disp_noc')\n",
        "\n",
        "        file_names = os.listdir(image_dir)\n",
        "        for fname in file_names:\n",
        "            if fname.endswith('.png'):\n",
        "                scene_id = fname.split('_')[0]\n",
        "                img_path = os.path.join(image_dir, fname)\n",
        "                label_path = os.path.join(label_dir, f'{scene_id}.txt')\n",
        "                disp_path = os.path.join(disp_dir, f'{scene_id}_10.png')\n",
        "                if os.path.exists(label_path) and os.path.exists(disp_path):\n",
        "                    self.data.append((img_path, label_path, disp_path))\n",
        "\n",
        "    def __len__(self):\n",
        "        return len(self.data)\n",
        "\n",
        "    def convert_labels(self, label_file):\n",
        "\n",
        "        labels = []\n",
        "        with open(label_file, 'r') as f:\n",
        "            for line in f:\n",
        "                parts = line.strip().split()\n",
        "                category = parts[0]\n",
        "                if category in self.class_map :\n",
        "                    x1, y1, x2, y2 = map(float, parts[4:8]) # 4-7.etiket değerleri x1,y1,x2,y2 ye denk geliyor\n",
        "\n",
        "                    # [0,1] aralığına normalize et\n",
        "                    x1_norm = x1 / self.img_width\n",
        "                    y1_norm = y1 / self.img_height\n",
        "                    x2_norm = x2 / self.img_width\n",
        "                    y2_norm = y2 / self.img_height\n",
        "\n",
        "                    category_num = self.class_map[category]\n",
        "                    labels.append([category_num, x1_norm, y1_norm, x2_norm, y2_norm])\n",
        "        return labels\n",
        "\n",
        "    def load_disparity(self, disp_path):#konum haritasının olduğu image yüklenir\n",
        "        disp_map = cv2.imread(disp_path, cv2.IMREAD_UNCHANGED) / 256.0\n",
        "        return disp_map\n",
        "\n",
        "    def calculate_depth(self, disp_map): # konum haritasından derinlik haritası çıkartır\n",
        "        baseline = 0.54 # metre cinsinden kameralar arası mesafe\n",
        "        focal_length = 721.5377 # piksel cinsinden kamera odak uzaklığı\n",
        "        depth = (baseline * focal_length) / (disp_map + 1e-6)\n",
        "        depth = np.clip(depth, 0, self.max_depth)\n",
        "\n",
        "        # [0,1] aralığına normalizasyon\n",
        "        normalized_depth = depth / self.max_depth\n",
        "        return normalized_depth\n",
        "\n",
        "    def get_depth_at_box(self, depth_map, x, y, w, h):#her nesnenin ortalama mesafesi için box içerisindeki merkez piksel depthi alınır\n",
        "\n",
        "        x_pixel = int(x * self.img_width)\n",
        "        y_pixel = int(y * self.img_height)\n",
        "\n",
        "        # Sınır kontrolü\n",
        "        x_pixel = np.clip(x_pixel, 0, self.img_width - 1)\n",
        "        y_pixel = np.clip(y_pixel, 0, self.img_height - 1)\n",
        "\n",
        "        if depth_map[y_pixel, x_pixel] == 0:\n",
        "            return 0.0\n",
        "        return depth_map[y_pixel, x_pixel]\n",
        "\n",
        "    def get_disparity_at_box(self, disp_map, x, y, w, h):#her nesnenin box içerisindeki konum değerini hesaplar\n",
        "\n",
        "\n",
        "        x_pixel = int(x * self.img_width)\n",
        "        y_pixel = int(y * self.img_height)\n",
        "\n",
        "        # Sınır kontrolü\n",
        "        x_pixel = np.clip(x_pixel, 0, self.img_width - 1)\n",
        "        y_pixel = np.clip(y_pixel, 0, self.img_height - 1)\n",
        "\n",
        "        if disp_map[y_pixel, x_pixel] == 0:\n",
        "            return 0.0\n",
        "\n",
        "        # Disparite değerini de normalize et (max disparite ~300 civarı)\n",
        "        max_disparity = 300.0\n",
        "        normalized_disparity = disp_map[y_pixel, x_pixel] / max_disparity\n",
        "        return np.clip(normalized_disparity, 0, 1)\n",
        "\n",
        "    def __getitem__(self, idx):\n",
        "        img_path, label_path, disp_path = self.data[idx]\n",
        "        image = Image.open(img_path).convert('RGB')\n",
        "        labels = self.convert_labels(label_path)\n",
        "        disp_map = self.load_disparity(disp_path)\n",
        "        #eğitimde doğrudan konum değerleri ile kayıp hesaplanırken test aşamasında direkt mesafe hesaplanabilir\n",
        "\n",
        "        if self.mode != 'test':\n",
        "            # Eğitim , Doğrulama: Normalize edilmiş disparite ile etiket döndür\n",
        "            labels_with_disparity = []\n",
        "            for label in labels:\n",
        "                category_num, x, y, w, h = label\n",
        "                disparity = self.get_disparity_at_box(disp_map, x, y, w, h)\n",
        "                labels_with_disparity.append([category_num, x, y, w, h, disparity])\n",
        "            output_labels = labels_with_disparity\n",
        "        else:\n",
        "            # Test: Normalize edilmiş derinlik ile etiket döndür\n",
        "            depth_map = self.calculate_depth(disp_map)\n",
        "            labels_with_depth = []\n",
        "            for label in labels:\n",
        "                category_num, x, y, w, h = label\n",
        "                depth = self.get_depth_at_box(depth_map, x, y, w, h)\n",
        "                labels_with_depth.append([category_num, x, y, w, h, depth])\n",
        "            output_labels = labels_with_depth\n",
        "\n",
        "        if self.transform:\n",
        "            image = self.transform(image)\n",
        "        output_labels = torch.tensor(output_labels, dtype=torch.float32)\n",
        "        return image, output_labels\n",
        "\n",
        "class SpatialAttention(nn.Module):\n",
        "    def __init__(self, kernel_size=7):\n",
        "        super(SpatialAttention, self).__init__()\n",
        "        padding = (kernel_size - 1) // 2\n",
        "        self.conv1 = nn.Conv2d(2, 1, kernel_size, padding=padding, bias=False)\n",
        "        self.sigmoid = nn.Sigmoid()\n",
        "\n",
        "    def forward(self, x):\n",
        "        avg_out = torch.mean(x, dim=1, keepdim=True)\n",
        "        max_out, _ = torch.max(x, dim=1, keepdim=True)\n",
        "        x_cat = torch.cat([avg_out, max_out], dim=1)\n",
        "        x_out = self.conv1(x_cat)\n",
        "        attention_map = self.sigmoid(x_out)\n",
        "        return x * attention_map\n",
        "\n",
        "class EncoderBackBone(nn.Module):\n",
        "    def __init__(self,İsPretreained=True):\n",
        "        super(EncoderBackBone,self).__init__()\n",
        "        efficient = models.efficientnet_b3(weights=EfficientNet_B3_Weights.IMAGENET1K_V1)\n",
        "        self.features = efficient.features\n",
        "        self.SAttention = SpatialAttention()\n",
        "\n",
        "    def forward(self, x):         # B,C,H,W\n",
        "\n",
        "        outs = []\n",
        "\n",
        "        # Her iki frame için özellikler\n",
        "        for i, block in enumerate(self.features):\n",
        "            x = block(x)\n",
        "            if i > 2:  # C3'ten sonrası için Spatial Attention\n",
        "                x = x * self.SAttention(x)\n",
        "            if i in [3,5,7]:\n",
        "                out = F.interpolate(x, size=256, mode='bilinear', align_corners=False)\n",
        "                outs.append(out)\n",
        "        return outs\n",
        "\n",
        "class DepthwiseSeparableConv(nn.Module):\n",
        "    def __init__(self, in_channels, out_channels, kernel_size=3, stride=1, padding=1):\n",
        "        super(DepthwiseSeparableConv, self).__init__()\n",
        "        self.depthwise = nn.Conv2d(in_channels, in_channels, kernel_size,\n",
        "                                 stride, padding, groups=in_channels, bias=False)\n",
        "        self.pointwise = nn.Conv2d(in_channels, out_channels, 1, bias=False)\n",
        "        self.bn = nn.BatchNorm2d(out_channels)\n",
        "        self.swish = nn.SiLU()\n",
        "\n",
        "    def forward(self, x):\n",
        "        x = self.depthwise(x)\n",
        "        x = self.pointwise(x)\n",
        "        x = self.bn(x)\n",
        "        return self.swish(x)\n",
        "\n",
        "class BiFPNBlock(nn.Module):\n",
        "    def __init__(self, channels, epsilon=1e-4):\n",
        "        super(BiFPNBlock, self).__init__()\n",
        "        self.epsilon = epsilon\n",
        "        self.channels = channels\n",
        "\n",
        "        # Convolution layers for each level\n",
        "        self.conv_p3 = DepthwiseSeparableConv(channels, channels)\n",
        "        self.conv_p4 = DepthwiseSeparableConv(channels, channels)\n",
        "        self.conv_p5 = DepthwiseSeparableConv(channels, channels)\n",
        "        self.conv_p6 = DepthwiseSeparableConv(channels, channels)\n",
        "        self.conv_p7 = DepthwiseSeparableConv(channels, channels)\n",
        "\n",
        "        # Weight parameters for feature fusion\n",
        "        self.w1 = nn.Parameter(torch.ones(2))\n",
        "        self.w2 = nn.Parameter(torch.ones(2))\n",
        "        self.w3 = nn.Parameter(torch.ones(2))\n",
        "        self.w4 = nn.Parameter(torch.ones(2))\n",
        "        self.w5 = nn.Parameter(torch.ones(3))\n",
        "        self.w6 = nn.Parameter(torch.ones(3))\n",
        "        self.w7 = nn.Parameter(torch.ones(3))\n",
        "        self.w8 = nn.Parameter(torch.ones(2))\n",
        "\n",
        "    def forward(self, inputs):\n",
        "        P3, P4, P5, P6, P7 = inputs\n",
        "\n",
        "        # Bottom-up pathway\n",
        "        w1 = F.relu(self.w1)\n",
        "        P6_td = (w1[0] * P6 + w1[1] * self.up_sampling(P7, P6.shape[-2:])) / (w1.sum() + self.epsilon)\n",
        "        P6_td = self.conv_p6(P6_td)\n",
        "\n",
        "        w2 = F.relu(self.w2)\n",
        "        P5_td = (w2[0] * P5 + w2[1] * self.up_sampling(P6_td, P5.shape[-2:])) / (w2.sum() + self.epsilon)\n",
        "        P5_td = self.conv_p5(P5_td)\n",
        "\n",
        "        w3 = F.relu(self.w3)\n",
        "        P4_td = (w3[0] * P4 + w3[1] * self.up_sampling(P5_td, P4.shape[-2:])) / (w3.sum() + self.epsilon)\n",
        "        P4_td = self.conv_p4(P4_td)\n",
        "\n",
        "        # Top-down pathway\n",
        "        w4 = F.relu(self.w4)\n",
        "        P3_out = (w4[0] * P3 + w4[1] * self.up_sampling(P4_td, P3.shape[-2:])) / (w4.sum() + self.epsilon)\n",
        "        P3_out = self.conv_p3(P3_out)\n",
        "\n",
        "        w5 = F.relu(self.w5)\n",
        "        P4_out = (w5[0] * P4 + w5[1] * P4_td + w5[2] * self.down_sampling(P3_out, P4.shape[-2:])) / (w5.sum() + self.epsilon)\n",
        "        P4_out = self.conv_p4(P4_out)\n",
        "\n",
        "        w6 = F.relu(self.w6)\n",
        "        P5_out = (w6[0] * P5 + w6[1] * P5_td + w6[2] * self.down_sampling(P4_out, P5.shape[-2:])) / (w6.sum() + self.epsilon)\n",
        "        P5_out = self.conv_p5(P5_out)\n",
        "\n",
        "        w7 = F.relu(self.w7)\n",
        "        P6_out = (w7[0] * P6 + w7[1] * P6_td + w7[2] * self.down_sampling(P5_out, P6.shape[-2:])) / (w7.sum() + self.epsilon)\n",
        "        P6_out = self.conv_p6(P6_out)\n",
        "\n",
        "        w8 = F.relu(self.w8)\n",
        "        P7_out = (w8[0] * P7 + w8[1] * self.down_sampling(P6_out, P7.shape[-2:])) / (w8.sum() + self.epsilon)\n",
        "        P7_out = self.conv_p7(P7_out)\n",
        "\n",
        "        return [P3_out, P4_out, P5_out, P6_out, P7_out]\n",
        "\n",
        "    def up_sampling(self, x, target_size):\n",
        "        return F.interpolate(x, size=target_size, mode='nearest')\n",
        "\n",
        "    def down_sampling(self, x, target_size):\n",
        "        if x.shape[-2:] == target_size:\n",
        "            return x\n",
        "        stride = x.shape[-1] // target_size[-1]\n",
        "        kernel_size = stride\n",
        "        return F.max_pool2d(x, kernel_size=kernel_size, stride=stride)\n",
        "\n",
        "class BiFPN(nn.Module):\n",
        "    def __init__(self, in_channels_list, out_channels=256, num_blocks=3):\n",
        "        super(BiFPN, self).__init__()\n",
        "        self.out_channels = out_channels\n",
        "        self.num_blocks = num_blocks\n",
        "\n",
        "        # Input projection layers\n",
        "        self.input_convs = nn.ModuleList([\n",
        "            nn.Conv2d(in_ch, out_channels, 1, bias=False)\n",
        "            for in_ch in in_channels_list\n",
        "        ])\n",
        "\n",
        "        # Additional P6 and P7 layers\n",
        "        self.p6_conv = nn.Conv2d(in_channels_list[-1], out_channels, 3, stride=2, padding=1)\n",
        "        self.p7_conv = nn.Conv2d(out_channels, out_channels, 3, stride=2, padding=1)\n",
        "\n",
        "        # BiFPN blocks\n",
        "        self.bifpn_blocks = nn.ModuleList([\n",
        "            BiFPNBlock(out_channels) for _ in range(num_blocks)\n",
        "        ])\n",
        "\n",
        "    def forward(self, inputs):\n",
        "        # Project input features\n",
        "        features = []\n",
        "        for i, feat in enumerate(inputs):\n",
        "            features.append(self.input_convs[i](feat))\n",
        "\n",
        "        # Create P6 and P7\n",
        "        P6 = self.p6_conv(inputs[-1])\n",
        "        P7 = self.p7_conv(P6)\n",
        "\n",
        "        # Initial feature list\n",
        "        pyramid_features = features + [P6, P7]\n",
        "\n",
        "        # Apply BiFPN blocks\n",
        "        for block in self.bifpn_blocks:\n",
        "            pyramid_features = block(pyramid_features)\n",
        "\n",
        "        return pyramid_features\n",
        "\n",
        "class NNConv3UpBlock(nn.Module):\n",
        "    def __init__(self, in_channels, out_channels):\n",
        "        super().__init__()\n",
        "        self.conv = nn.Conv2d(in_channels, out_channels, kernel_size=3, padding=1)\n",
        "\n",
        "    def forward(self, x):\n",
        "        x = self.conv(x)\n",
        "        x = F.interpolate(x, scale_factor=2, mode='nearest')\n",
        "        return x\n",
        "\n",
        "class FusionBlock(nn.Module):\n",
        "    def __init__(self, fusion_type='add'):\n",
        "        super().__init__()\n",
        "        self.fusion_type = fusion_type\n",
        "\n",
        "    def forward(self, high_level, low_level):\n",
        "        if self.fusion_type == 'add':\n",
        "            return high_level + low_level\n",
        "        elif self.fusion_type == 'concat':\n",
        "            return torch.cat([high_level, low_level], dim=1)\n",
        "\n",
        "class PredictionDecoder(nn.Module):\n",
        "    def __init__(self, in_channels, out_channels=1):\n",
        "        super().__init__()\n",
        "        self.conv1 = nn.Conv2d(in_channels, in_channels//2, kernel_size=3, padding=1)\n",
        "        self.conv2 = nn.Conv2d(in_channels//2, out_channels, kernel_size=3, padding=1)\n",
        "        self.leaky_relu = nn.LeakyReLU(0.1)\n",
        "        self.sigmoid = nn.Sigmoid()\n",
        "\n",
        "    def forward(self, x):\n",
        "        x = self.leaky_relu(self.conv1(x))\n",
        "        x = self.sigmoid(self.conv2(x))\n",
        "        return x\n",
        "\n",
        "class RTMonoDepthDecoder(nn.Module):\n",
        "\n",
        "    def __init__(self, encoder_channels=[48, 136, 384], decoder_channels=[256, 128, 64, 32]):\n",
        "        super().__init__()\n",
        "\n",
        "        # Upsampling blocks\n",
        "        self.upconv2 = NNConv3UpBlock(encoder_channels[2], decoder_channels[0])  # F3 -> D2\n",
        "        self.upconv1 = NNConv3UpBlock(decoder_channels[0], decoder_channels[1])  # After fusion -> D1\n",
        "        self.upconv0 = NNConv3UpBlock(decoder_channels[1], decoder_channels[2])  # After fusion -> D0\n",
        "\n",
        "        # Projection layers to match dimensions for fusion\n",
        "        self.proj2 = nn.Conv2d(encoder_channels[1], decoder_channels[0], 1)  # F2 -> D2 channels\n",
        "        self.proj1 = nn.Conv2d(encoder_channels[0], decoder_channels[1], 1)  # F1 -> D1 channels\n",
        "\n",
        "        # Fusion blocks\n",
        "        self.fusion1 = FusionBlock('add')\n",
        "        self.fusion0 = FusionBlock('concat')\n",
        "\n",
        "        # Prediction decoders at each scale\n",
        "        self.decoder2 = PredictionDecoder(decoder_channels[0])\n",
        "        self.decoder1 = PredictionDecoder(decoder_channels[1])\n",
        "        # After concat: up1_resized (128) + f1_proj (128) = 256 channels\n",
        "        self.decoder0 = PredictionDecoder(decoder_channels[1] + decoder_channels[1])\n",
        "\n",
        "    def forward(self, features, inference_mode=False):\n",
        "        f1, f2, f3 = features  # [low_res -> high_res]\n",
        "        depth_maps = {}\n",
        "\n",
        "        # Level 2: Start from highest level feature\n",
        "        up2 = self.upconv2(f3)\n",
        "        if not inference_mode:\n",
        "            depth_maps['depth_2'] = self.decoder2(up2)\n",
        "\n",
        "        # Level 1: Project F2 to match up2 channels and fuse\n",
        "        f2_proj = self.proj2(f2)\n",
        "        # Resize up2 to match f2 spatial dimensions\n",
        "        up2_resized = F.interpolate(up2, size=f2_proj.shape[-2:], mode='bilinear', align_corners=False)\n",
        "        fused1 = self.fusion1(up2_resized, f2_proj)\n",
        "        up1 = self.upconv1(fused1)\n",
        "        if not inference_mode:\n",
        "            depth_maps['depth_1'] = self.decoder1(up1)\n",
        "\n",
        "        # Level 0: Project F1 to match up1 channels and fuse\n",
        "        f1_proj = self.proj1(f1)\n",
        "        # Resize up1 to match f1 spatial dimensions\n",
        "        up1_resized = F.interpolate(up1, size=f1_proj.shape[-2:], mode='bilinear', align_corners=False)\n",
        "        fused0 = self.fusion0(up1_resized, f1_proj)\n",
        "        depth_maps['depth_0'] = self.decoder0(fused0)\n",
        "\n",
        "        return depth_maps\n",
        "\n",
        "class DepthHead2(nn.Module):\n",
        "    def __init__(self, in_channels=256, out_channels=1):\n",
        "        super(DepthHead2, self).__init__()\n",
        "        # small refinement conv stack\n",
        "        self.refine = nn.Sequential(\n",
        "            nn.Conv2d(in_channels * 3, in_channels, 3, padding=1),\n",
        "            nn.ReLU(inplace=True),\n",
        "            nn.Conv2d(in_channels, in_channels // 2, 3, padding=1),\n",
        "            nn.ReLU(inplace=True),\n",
        "            nn.Conv2d(in_channels // 2, out_channels, 1),\n",
        "            nn.Sigmoid()\n",
        "        )\n",
        "\n",
        "    def forward(self, depth_features):\n",
        "        # Accept either dict from RTMonoDepthDecoder or list/tuple\n",
        "        if isinstance(depth_features, dict):\n",
        "            # prefer 'depth_0' as highest res; upsample others to its size\n",
        "            keys = ['depth_0', 'depth_1', 'depth_2']\n",
        "            maps = []\n",
        "            # find first existing key for target size\n",
        "            target = None\n",
        "            for k in keys:\n",
        "                if k in depth_features:\n",
        "                    target = depth_features[k].shape[2:]\n",
        "                    break\n",
        "            if target is None:\n",
        "                raise ValueError(\"depth_features dict empty or unexpected keys\")\n",
        "            for k in keys:\n",
        "                if k in depth_features:\n",
        "                    m = depth_features[k]\n",
        "                    if m.shape[2:] != target:\n",
        "                        m = F.interpolate(m, size=target, mode='bilinear', align_corners=False)\n",
        "                    maps.append(m)\n",
        "            # if less than 3 maps, duplicate last to keep consistent channels\n",
        "            while len(maps) < 3:\n",
        "                maps.append(maps[-1])\n",
        "        else:\n",
        "            # assume iterable: take first 3 or duplicate if fewer\n",
        "            maps = list(depth_features)\n",
        "            while len(maps) < 3:\n",
        "                maps.append(maps[-1])\n",
        "            # upsample to first map's size\n",
        "            target = maps[0].shape[2:]\n",
        "            maps = [m if m.shape[2:] == target else F.interpolate(m, size=target, mode='bilinear', align_corners=False) for m in maps[:3]]\n",
        "\n",
        "        # concat along channels and refine\n",
        "        concat = torch.cat(maps, dim=1)  # C= sum of channels\n",
        "        out = self.refine(concat)\n",
        "        return out  # [B,1,H,W] sigmoid-normalized\n",
        "\n",
        "class DepthHead(nn.Module):\n",
        "    def __init__(self, in_channels=1):  # Change to 1 to match input depth maps\n",
        "        super(DepthHead, self).__init__()\n",
        "        self.conv = nn.Sequential(\n",
        "            nn.Conv2d(in_channels, 128, 3, padding=1),\n",
        "            nn.ReLU(inplace=True),\n",
        "            nn.Conv2d(128, 64, 3, padding=1),\n",
        "            nn.ReLU(inplace=True),\n",
        "            nn.Conv2d(64, 1, 1),\n",
        "            nn.Sigmoid()\n",
        "        )\n",
        "        self.weights = nn.Parameter(torch.ones(3))  # Adjust to 3 for the number of features (depth_2, depth_1, depth_0); previously 5, which may cause issues in zip()\n",
        "\n",
        "    def weighted_fusion(self, features, weights, target_size):\n",
        "        weights = F.softmax(weights, dim=0)\n",
        "        fused = None\n",
        "        for feat, weight in zip(features, weights): # features liste halinde : depthmap2 B,1,512,512 depthmap1 B,1,512,512 depthmap0 B,1,256,256\n",
        "            if feat.shape[2:] != target_size:\n",
        "                feat = F.interpolate(feat, size=target_size, mode='bilinear', align_corners=False)\n",
        "            if fused is None:\n",
        "                fused = weight * feat\n",
        "            else:\n",
        "                fused += weight * feat\n",
        "        return fused\n",
        "\n",
        "    def forward(self, features):\n",
        "        processed = [self.conv(feat) for feat in features]\n",
        "        target_size = processed[0].shape[2:]  # Or use processed[-1].shape[2:] for higher resolution (e.g., 512x512) if preferred\n",
        "        return self.weighted_fusion(processed, self.weights, target_size)\n",
        "\n",
        "class DetectionHead(nn.Module):\n",
        "    def __init__(self, in_channels=256, num_anchors=3, num_classes=8):\n",
        "        super(DetectionHead, self).__init__()\n",
        "        self.num_anchors = num_anchors\n",
        "        self.num_classes = num_classes\n",
        "\n",
        "        # Classification head: her anchor için sınıf olasılıkları (sigmoid / softmax)\n",
        "        self.cls_conv = nn.Conv2d(in_channels, num_anchors * num_classes, kernel_size=3, padding=1)\n",
        "\n",
        "        # Regression head: her anchor için bbox 4 koordinatı\n",
        "        self.reg_conv = nn.Conv2d(in_channels, num_anchors * 4, kernel_size=3, padding=1)\n",
        "\n",
        "        # istersen headlerde BatchNorm + Activation koyabilirsin\n",
        "\n",
        "    def forward(self, features):\n",
        "        \"\"\"\n",
        "        features: list of tensor, her biri [B, C, H, W]\n",
        "        returns:\n",
        "            cls_preds: [B, total_anchors, num_classes]\n",
        "            reg_preds: [B, total_anchors, 4]\n",
        "        \"\"\"\n",
        "        cls_outputs = []\n",
        "        reg_outputs = []\n",
        "\n",
        "        for feat in features:\n",
        "            # feat: [B, C, H, W]\n",
        "            cls_out = self.cls_conv(feat)  # [B, A*C, H, W]\n",
        "            reg_out = self.reg_conv(feat)  # [B, A*4, H, W]\n",
        "\n",
        "            B, _, H, W = cls_out.shape\n",
        "\n",
        "            # reshape: (B, A, C, H, W) → (B, H*W*A, C)\n",
        "            cls_out = cls_out.view(B, self.num_anchors, self.num_classes, H, W)\n",
        "            cls_out = cls_out.permute(0, 3, 4, 1, 2).contiguous()  # B, H, W, A, C\n",
        "            cls_out = cls_out.view(B, -1, self.num_classes)         # B, (H*W*A), C\n",
        "\n",
        "            # regression benzer şekilde (B, A, 4, H, W) → (B, H*W*A, 4)\n",
        "            reg_out = reg_out.view(B, self.num_anchors, 4, H, W)\n",
        "            reg_out = reg_out.permute(0, 3, 4, 1, 2).contiguous()  # B, H, W, A, 4\n",
        "            reg_out = reg_out.view(B, -1, 4)                       # B, (H*W*A), 4\n",
        "\n",
        "            cls_outputs.append(cls_out)\n",
        "            reg_outputs.append(reg_out)\n",
        "\n",
        "        # Tüm seviyeleri birleştir\n",
        "        cls_preds = torch.cat(cls_outputs, dim=1)  # B, total_anchors, num_classes\n",
        "        reg_preds = torch.cat(reg_outputs, dim=1)  # B, total_anchors, 4\n",
        "\n",
        "        return cls_preds, reg_preds\n",
        "\n",
        "class MultiTaskHeads(nn.Module):\n",
        "    def __init__(self, num_classes=10, in_channels=256, num_anchors=3):\n",
        "        super(MultiTaskHeads, self).__init__()\n",
        "        # Depth heads unchanged (they expect depth_maps dict/list)\n",
        "        self.depth_head1 = DepthHead(in_channels=1)   # train fusion from depth_decoder outputs\n",
        "        self.depth_head2 = DepthHead2(in_channels=1)  # inference refinement\n",
        "        self.detection_head = DetectionHead(num_anchors=num_anchors)\n",
        "\n",
        "    def forward(self, bifpn_features, depth_features, inference_mode=False):\n",
        "        \"\"\"\n",
        "        bifpn_features: list [P3,P4,P5,P6,P7] each [B, C, H, W]\n",
        "        depth_features: dict from RTMonoDepthDecoder (depth_0,1,2)\n",
        "        returns:\n",
        "           classification: list(len=5) of [B, num_anchors*num_classes, H, W]\n",
        "           regression:     list(len=5) of [B, num_anchors*4, H, W]\n",
        "           depth: [B,1,Hd,Wd]\n",
        "        \"\"\"\n",
        "        # Depth: use decoder outputs (pixel-wise). Use depth_head1 in train, depth_head2 in inference\n",
        "        depth_list = [depth_features['depth_2'], depth_features['depth_1'], depth_features['depth_0']]\n",
        "        if inference_mode:\n",
        "            depth = self.depth_head2(depth_list)\n",
        "        else:\n",
        "            depth = self.depth_head1(depth_list)\n",
        "\n",
        "        cls_preds, reg_preds = self.detection_head(bifpn_features)\n",
        "\n",
        "        return {\n",
        "            'depth': depth,\n",
        "            'classification': cls_preds,\n",
        "            'regression': reg_preds\n",
        "        }\n",
        "\n",
        "class PostProcessor:\n",
        "    \"\"\"Model çıktısını loss fonksiyonu için hazırlar\"\"\"\n",
        "\n",
        "    def __init__(self, num_classes=8, num_anchors=3, strides=[8, 16, 32, 64, 128]):\n",
        "        self.num_classes = num_classes\n",
        "        self.num_anchors = num_anchors\n",
        "        self.strides = strides\n",
        "\n",
        "    def generate_anchors_for_level(self, feat, stride, sizes=None, ratios=None):\n",
        "        \"\"\"\n",
        "        feat: [B, C, H, W] -> generate anchors at each cell center (in input image coords)\n",
        "        returns: anchors tensor [H*W*num_anchors, 4] in (x1,y1,x2,y2) pixel coords\n",
        "        \"\"\"\n",
        "        device = feat.device\n",
        "        H, W = feat.shape[2], feat.shape[3]\n",
        "        if sizes is None:\n",
        "            sizes = [stride, stride * 1.6, stride * 2.6]  # example scales for each anchor\n",
        "        if ratios is None:\n",
        "            ratios = [0.5, 1.0, 2.0]\n",
        "\n",
        "        # Build center grid in input-image coordinates\n",
        "        shift_x = (torch.arange(0, W, device=device) + 0.5) * stride\n",
        "        shift_y = (torch.arange(0, H, device=device) + 0.5) * stride\n",
        "        shift_y, shift_x = torch.meshgrid(shift_y, shift_x, indexing='ij')\n",
        "        centers = torch.stack((shift_x.reshape(-1), shift_y.reshape(-1)), dim=1)  # [H*W, 2]\n",
        "\n",
        "        anchors = []\n",
        "        for size in sizes:\n",
        "            for r in ratios:\n",
        "                w = size * (r ** 0.5)\n",
        "                h = size / (r ** 0.5)\n",
        "                # x1,y1,x2,y2\n",
        "                xy1 = centers - 0.5 * torch.tensor([w, h], device=device)\n",
        "                xy2 = centers + 0.5 * torch.tensor([w, h], device=device)\n",
        "                anchors.append(torch.cat([xy1, xy2], dim=1))  # [H*W,4]\n",
        "        anchors = torch.cat(anchors, dim=0)  # [H*W*num_anchors, 4]\n",
        "        return anchors\n",
        "\n",
        "    def process_predictions(self, raw_preds, bifpn_features):\n",
        "        \"\"\"\n",
        "        Raw predictions'ı format'a göre işler\n",
        "        \"\"\"\n",
        "        cls_preds = raw_preds['classification']\n",
        "        reg_preds = raw_preds['regression']\n",
        "\n",
        "        # Check format and process accordingly\n",
        "        if isinstance(cls_preds, list):\n",
        "            # List of feature maps - normal case\n",
        "            cls_flat, reg_flat = self.flatten_predictions(cls_preds, reg_preds)\n",
        "        elif isinstance(cls_preds, torch.Tensor):\n",
        "            # Already flattened\n",
        "            cls_flat = cls_preds\n",
        "            reg_flat = reg_preds\n",
        "        else:\n",
        "            raise ValueError(f\"Unexpected prediction format: {type(cls_preds)}\")\n",
        "\n",
        "        # Generate anchors\n",
        "        anchors_all = self.generate_all_anchors(bifpn_features)\n",
        "\n",
        "        return cls_flat, reg_flat, anchors_all\n",
        "        \"\"\"\n",
        "        cls_list: list of [B, num_anchors*num_classes, H, W]\n",
        "        reg_list: list of [B, num_anchors*4, H, W]\n",
        "        return: flattened tensors\n",
        "        \"\"\"\n",
        "        # Debug: Check shapes first\n",
        "\n",
        "        B = cls_list[0].shape[0]\n",
        "        cls_all = []\n",
        "        reg_all = []\n",
        "\n",
        "        for i, (cls_map, reg_map) in enumerate(zip(cls_list, reg_list)):\n",
        "\n",
        "            # Handle different input formats\n",
        "            if cls_map.dim() == 4:\n",
        "                # Expected format: [B, num_anchors*num_classes, H, W]\n",
        "                _, C, H, W = cls_map.shape\n",
        "                cls_map = cls_map.view(B, self.num_anchors, self.num_classes, H, W)\n",
        "                cls_map = cls_map.permute(0, 3, 4, 1, 2).reshape(B, -1, self.num_classes)\n",
        "\n",
        "                reg_map = reg_map.view(B, self.num_anchors, 4, H, W)\n",
        "                reg_map = reg_map.permute(0, 3, 4, 1, 2).reshape(B, -1, 4)\n",
        "\n",
        "            elif cls_map.dim() == 2:\n",
        "                # Already flattened format: [B, features]\n",
        "                # Try to reshape if possible\n",
        "                if cls_map.shape[1] % (self.num_anchors * self.num_classes) == 0:\n",
        "                    n_positions = cls_map.shape[1] // (self.num_anchors * self.num_classes)\n",
        "                    cls_map = cls_map.view(B, n_positions, self.num_anchors, self.num_classes)\n",
        "                    cls_map = cls_map.view(B, -1, self.num_classes)\n",
        "                else:\n",
        "                    raise ValueError(f\"Cannot reshape cls_map with shape {cls_map.shape}\")\n",
        "\n",
        "                if reg_map.shape[1] % (self.num_anchors * 4) == 0:\n",
        "                    n_positions = reg_map.shape[1] // (self.num_anchors * 4)\n",
        "                    reg_map = reg_map.view(B, n_positions, self.num_anchors, 4)\n",
        "                    reg_map = reg_map.view(B, -1, 4)\n",
        "                else:\n",
        "                    raise ValueError(f\"Cannot reshape reg_map with shape {reg_map.shape}\")\n",
        "\n",
        "            else:\n",
        "                raise ValueError(f\"Unexpected cls_map dimensions: {cls_map.dim()}\")\n",
        "\n",
        "            cls_all.append(cls_map)\n",
        "            reg_all.append(reg_map)\n",
        "\n",
        "        cls_flat = torch.cat(cls_all, dim=1)  # [B, N_total, num_classes]\n",
        "        reg_flat = torch.cat(reg_all, dim=1)  # [B, N_total, 4]\n",
        "\n",
        "        return cls_flat, reg_flat\n",
        "\n",
        "    def generate_all_anchors(self, bifpn_features):\n",
        "        \"\"\"Tüm feature map'ler için anchor'ları generate eder\"\"\"\n",
        "        anchors_per_level = []\n",
        "        for feat, stride in zip(bifpn_features, self.strides):\n",
        "            anchors = self.generate_anchors_for_level(feat, stride)\n",
        "            anchors_per_level.append(anchors)\n",
        "\n",
        "        all_anchors = torch.cat(anchors_per_level, dim=0)  # [N_total, 4]\n",
        "        return all_anchors\n",
        "\n",
        "class CompleteMultiTaskModel(nn.Module):\n",
        "    def __init__(self, İsPretreained=True, num_classes=8, bifpn_channels=256, bifpn_blocks=3,\n",
        "                 confidence_threshold=0.5, max_detections=100, num_anchors=3):\n",
        "        super(CompleteMultiTaskModel, self).__init__()\n",
        "\n",
        "        # Model components\n",
        "        self.encoder = EncoderBackBone(İsPretreained)\n",
        "        in_channels_list = [48, 136, 384]\n",
        "        self.bifpn = BiFPN(in_channels_list, bifpn_channels, bifpn_blocks)\n",
        "        self.depth_decoder = RTMonoDepthDecoder()\n",
        "        self.multi_head = MultiTaskHeads(num_classes, bifpn_channels, num_anchors)\n",
        "\n",
        "        # Model parameters\n",
        "        self.num_classes = num_classes\n",
        "        self.conf_thresh = confidence_threshold\n",
        "        self.max_detections = max_detections\n",
        "        self.num_anchors = num_anchors\n",
        "        self.strides = [8, 16, 32, 64, 128]\n",
        "\n",
        "        # Post processor\n",
        "        self.post_processor = PostProcessor(num_classes, num_anchors, self.strides)\n",
        "        self._set_bn_momentum(0.01)\n",
        "\n",
        "    def _set_bn_momentum(self, momentum):\n",
        "        for module in self.modules():\n",
        "            if isinstance(module, torch.nn.BatchNorm2d):\n",
        "                module.momentum = momentum\n",
        "    def forward(self, images, targets=None, mode=\"train\"):\n",
        "        \"\"\"\n",
        "        mode: \"train\" -> return loss-ready format\n",
        "              \"inference\" -> return postprocessed results\n",
        "        \"\"\"\n",
        "        B = images.shape[0]\n",
        "\n",
        "        # Forward pass through model\n",
        "        backbone_features = self.encoder(images)\n",
        "        bifpn_features = self.bifpn(backbone_features)\n",
        "        inference_mode = (mode != \"train\")\n",
        "        depth_maps = self.depth_decoder(backbone_features, inference_mode=inference_mode)\n",
        "        raw_preds = self.multi_head(bifpn_features, depth_maps, inference_mode)\n",
        "\n",
        "        # Extract predictions with debug\n",
        "        cls_list = raw_preds['classification']\n",
        "        reg_list = raw_preds['regression']\n",
        "        depth_pred = raw_preds['depth']\n",
        "\n",
        "\n",
        "\n",
        "        if mode == \"train\":\n",
        "\n",
        "            # Direct use - no flattening needed\n",
        "            cls_flat = cls_list  # [B, N_total, num_classes]\n",
        "            reg_flat = reg_list  # [B, N_total, 4]\n",
        "            anchors_all = self.post_processor.generate_all_anchors(bifpn_features)\n",
        "\n",
        "            return {\n",
        "                \"cls_preds\": cls_flat,      # [B, N_total, num_classes]\n",
        "                \"reg_preds\": reg_flat,      # [B, N_total, 4]\n",
        "                \"anchors\": anchors_all,     # [N_total, 4]\n",
        "                \"depth_pred\": depth_pred,   # [B, 1, H, W]\n",
        "                \"targets\": targets\n",
        "            }\n",
        "\n",
        "        elif mode == \"inference\":\n",
        "            # Inference mode - direct use of flattened predictions\n",
        "            cls_flat = cls_list  # [B, N_total, num_classes]\n",
        "            reg_flat = reg_list  # [B, N_total, 4]\n",
        "            anchors_all = self.post_processor.generate_all_anchors(bifpn_features)\n",
        "\n",
        "            return self._inference_postprocess(cls_flat, reg_flat, depth_pred, anchors_all, images)\n",
        "\n",
        "    def _inference_postprocess(self, cls_flat, reg_flat, depth_pred, anchors_all, images):\n",
        "        \"\"\"Inference için post-processing\"\"\"\n",
        "        B = images.shape[0]\n",
        "\n",
        "        # Decode boxes\n",
        "        boxes = self.decode_boxes(anchors_all, reg_flat)  # [B, N, 4]\n",
        "        scores = torch.softmax(cls_flat, dim=-1)\n",
        "        max_scores, labels = torch.max(scores, dim=-1)  # [B, N]\n",
        "\n",
        "        results = []\n",
        "        for b in range(B):\n",
        "            score_b = max_scores[b]\n",
        "            label_b = labels[b]\n",
        "            box_b = boxes[b]\n",
        "\n",
        "            keep_mask = score_b > self.conf_thresh\n",
        "            if keep_mask.sum() == 0:\n",
        "                results.append({\n",
        "                    \"boxes\": torch.zeros((0, 4), device=box_b.device),\n",
        "                    \"scores\": torch.zeros((0,), device=box_b.device),\n",
        "                    \"labels\": torch.zeros((0,), device=box_b.device),\n",
        "                    \"depth\": F.interpolate(depth_pred[b:b+1], size=images.shape[2:],\n",
        "                                         mode='bilinear', align_corners=False)\n",
        "                })\n",
        "                continue\n",
        "\n",
        "            boxes_k = box_b[keep_mask]\n",
        "            scores_k = score_b[keep_mask]\n",
        "            labels_k = label_b[keep_mask]\n",
        "\n",
        "            keep_idx = nms(boxes_k, scores_k, iou_threshold=0.5)\n",
        "            keep_idx = keep_idx[:self.max_detections]\n",
        "\n",
        "            results.append({\n",
        "                \"boxes\": boxes_k[keep_idx],\n",
        "                \"scores\": scores_k[keep_idx],\n",
        "                \"labels\": labels_k[keep_idx],\n",
        "                \"depth\": F.interpolate(depth_pred[b:b+1], size=images.shape[2:],\n",
        "                                     mode='bilinear', align_corners=False)\n",
        "            })\n",
        "\n",
        "        return results\n",
        "\n",
        "    def decode_boxes(self, anchors, deltas):\n",
        "        \"\"\"Decode bounding boxes from anchors and deltas\"\"\"\n",
        "        widths = anchors[:, 2] - anchors[:, 0]\n",
        "        heights = anchors[:, 3] - anchors[:, 1]\n",
        "        ctr_x = anchors[:, 0] + 0.5 * widths\n",
        "        ctr_y = anchors[:, 1] + 0.5 * heights\n",
        "\n",
        "        dx = deltas[..., 0]\n",
        "        dy = deltas[..., 1]\n",
        "        dw = deltas[..., 2]\n",
        "        dh = deltas[..., 3]\n",
        "\n",
        "        pred_ctr_x = dx * widths.unsqueeze(0) + ctr_x.unsqueeze(0)\n",
        "        pred_ctr_y = dy * heights.unsqueeze(0) + ctr_y.unsqueeze(0)\n",
        "        pred_w = torch.exp(dw) * widths.unsqueeze(0)\n",
        "        pred_h = torch.exp(dh) * heights.unsqueeze(0)\n",
        "\n",
        "        x1 = pred_ctr_x - 0.5 * pred_w\n",
        "        y1 = pred_ctr_y - 0.5 * pred_h\n",
        "        x2 = pred_ctr_x + 0.5 * pred_w\n",
        "        y2 = pred_ctr_y + 0.5 * pred_h\n",
        "        return torch.stack((x1, y1, x2, y2), dim=-1)\n",
        "\n",
        "def calculate_iou(boxes1, boxes2):\n",
        "    \"\"\"\n",
        "    boxes1: [N, 4]  (x1, y1, x2, y2)\n",
        "    boxes2: [M, 4]  (x1, y1, x2, y2)\n",
        "\n",
        "    Returns:\n",
        "        iou: [N, M] IoU matrisi\n",
        "    \"\"\"\n",
        "\n",
        "    # boxes1 ve boxes2 için alan hesapla\n",
        "    area1 = (boxes1[:, 2] - boxes1[:, 0]).clamp(min=0) * (boxes1[:, 3] - boxes1[:, 1]).clamp(min=0)  # [N]\n",
        "    area2 = (boxes2[:, 2] - boxes2[:, 0]).clamp(min=0) * (boxes2[:, 3] - boxes2[:, 1]).clamp(min=0)  # [M]\n",
        "\n",
        "    # intersection (kesişim) köşe koordinatları\n",
        "    lt = torch.max(boxes1[:, None, :2], boxes2[:, :2])  # [N, M, 2]\n",
        "    rb = torch.min(boxes1[:, None, 2:], boxes2[:, 2:])  # [N, M, 2]\n",
        "\n",
        "    wh = (rb - lt).clamp(min=0)  # [N, M, 2], genişlik ve yükseklik\n",
        "    inter = wh[:, :, 0] * wh[:, :, 1]  # [N, M] alan kesişimi\n",
        "\n",
        "    union = area1[:, None] + area2 - inter  # [N, M]\n",
        "\n",
        "    iou = inter / union.clamp(min=1e-6)  # bölme sıfır olmasın diye clamp\n",
        "\n",
        "    return iou\n",
        "\n",
        "def normalize_anchors(anchors, img_h, img_w):\n",
        "    anchors_norm = anchors.clone()\n",
        "    anchors_norm[:, [0, 2]] /= img_w  # x1, x2\n",
        "    anchors_norm[:, [1, 3]] /= img_h  # y1, y2\n",
        "    return anchors_norm\n",
        "\n",
        "def decode_boxes(anchors, deltas):\n",
        "      widths = anchors[:, 2] - anchors[:, 0]\n",
        "      heights = anchors[:, 3] - anchors[:, 1]\n",
        "      ctr_x = anchors[:, 0] + 0.5 * widths\n",
        "      ctr_y = anchors[:, 1] + 0.5 * heights\n",
        "\n",
        "      dx = deltas[:, 0]\n",
        "      dy = deltas[:, 1]\n",
        "      dw = deltas[:, 2]\n",
        "      dh = deltas[:, 3]\n",
        "\n",
        "      pred_ctr_x = dx * widths + ctr_x\n",
        "      pred_ctr_y = dy * heights + ctr_y\n",
        "      pred_w = torch.exp(dw) * widths\n",
        "      pred_h = torch.exp(dh) * heights\n",
        "\n",
        "      pred_boxes = torch.zeros_like(deltas)\n",
        "      pred_boxes[:, 0] = pred_ctr_x - 0.5 * pred_w\n",
        "      pred_boxes[:, 1] = pred_ctr_y - 0.5 * pred_h\n",
        "      pred_boxes[:, 2] = pred_ctr_x + 0.5 * pred_w\n",
        "      pred_boxes[:, 3] = pred_ctr_y + 0.5 * pred_h\n",
        "\n",
        "      return pred_boxes\n",
        "\n",
        "class MultiTaskCriterion(nn.Module):\n",
        "    \"\"\"Multi-task learning loss function - GPU Memory Fixed\"\"\"\n",
        "\n",
        "    def __init__(self, num_classes=8, loss_weights=None, device='cuda',\n",
        "                 pos_iou_threshold=0.5, neg_iou_threshold=0.4,img_size=256):\n",
        "        super(MultiTaskCriterion, self).__init__()\n",
        "        self.device = device\n",
        "        self.img_size = img_size\n",
        "        self.num_classes = num_classes\n",
        "\n",
        "        # Loss weights\n",
        "        self.loss_weights = loss_weights if loss_weights else {\n",
        "            'classification': 1.0,\n",
        "            'regression': 1.0,\n",
        "            'depth': 1.0,\n",
        "            'depth_map': 0.1\n",
        "        }\n",
        "\n",
        "        # Loss functions\n",
        "        self.cls_criterion = nn.CrossEntropyLoss(reduction='none')\n",
        "        self.reg_criterion = nn.SmoothL1Loss(reduction='none')\n",
        "        self.depth_criterion = nn.MSELoss(reduction='none')\n",
        "\n",
        "        # IoU thresholds\n",
        "        self.pos_iou_threshold = pos_iou_threshold\n",
        "        self.neg_iou_threshold = neg_iou_threshold\n",
        "\n",
        "    def forward(self, model_output):\n",
        "        \"\"\"\n",
        "        GPU Memory Optimized Forward Pass\n",
        "        \"\"\"\n",
        "        cls_preds = model_output['cls_preds']\n",
        "        reg_preds = model_output['reg_preds']\n",
        "        anchors = model_output['anchors']\n",
        "        depth_pred = model_output['depth_pred']\n",
        "        targets = model_output['targets']\n",
        "        batch_size = cls_preds.size(0)\n",
        "\n",
        "        # Initialize losses - sadece scalar accumulation\n",
        "        total_loss = 0.0\n",
        "        cls_loss_sum = 0.0\n",
        "        reg_loss_sum = 0.0\n",
        "        depth_loss_sum = 0.0\n",
        "        depth_map_loss_val = 0.0\n",
        "\n",
        "        # Initialize metrics - sadece scalar accumulation\n",
        "        accuracy_sum = 0.0\n",
        "        f1_sum = 0.0\n",
        "        mse_sum = 0.0\n",
        "        rmse_sum = 0.0\n",
        "        map_sum = 0.0\n",
        "        valid_samples = 0\n",
        "\n",
        "        for batch_idx in range(batch_size):\n",
        "          # Training'de targets list, validation'da dict\n",
        "          if isinstance(targets, dict):\n",
        "              target_key = batch_idx\n",
        "              if target_key not in targets or len(targets[target_key]) == 0:\n",
        "                  continue\n",
        "              target = targets[target_key].to(self.device)\n",
        "          else:\n",
        "              # Normal list case (training)\n",
        "              if len(targets) <= batch_idx or len(targets[batch_idx]) == 0:\n",
        "                  continue\n",
        "              target = targets[batch_idx].to(self.device)\n",
        "\n",
        "          target = targets[batch_idx].to(self.device)\n",
        "          gt_classes = target[:, 0].long()\n",
        "          gt_boxes = target[:, 1:5]\n",
        "          gt_depths = target[:, 5] if target.size(1) > 5 else None\n",
        "          # Get predictions for this batch item\n",
        "          batch_cls_preds = cls_preds[batch_idx]\n",
        "          batch_reg_preds = reg_preds[batch_idx]\n",
        "          batch_depth_preds = depth_pred[batch_idx] if depth_pred is not None else None\n",
        "          anchors = normalize_anchors(anchors, self.img_size, self.img_size)\n",
        "          anchors_norm = anchors.clone()\n",
        "          pred_boxes = decode_boxes(anchors, reg_preds[batch_idx])\n",
        "          # Assign targets to anchors\n",
        "          pos_indices, neg_indices, matched_gt_indices = self._assign_targets_to_anchors(\n",
        "              anchors, gt_boxes, gt_classes\n",
        "          )\n",
        "          # Classification Loss + Metrics\n",
        "          if len(pos_indices) > 0:\n",
        "              cls_loss, cls_acc, cls_f1 = self._compute_classification_loss(\n",
        "                  batch_cls_preds, gt_classes, pos_indices, neg_indices, matched_gt_indices\n",
        "              )\n",
        "              if cls_loss is not None:\n",
        "                  total_loss += cls_loss * self.loss_weights['classification']\n",
        "                  cls_loss_sum += cls_loss.detach().item()  # DÜZELTME 1: detach().item()\n",
        "                  accuracy_sum += cls_acc  # DÜZELTME 7: append yerine sum\n",
        "                  f1_sum += cls_f1  # DÜZELTME 7: append yerine sum\n",
        "\n",
        "          # Regression Loss\n",
        "          if len(pos_indices) > 0:\n",
        "              reg_loss = self._compute_regression_loss(\n",
        "                  batch_reg_preds, gt_boxes, anchors, pos_indices, matched_gt_indices\n",
        "              )\n",
        "              if reg_loss is not None:\n",
        "                  total_loss += reg_loss * self.loss_weights['regression']\n",
        "                  reg_loss_sum += reg_loss.detach().item()  # DÜZELTME 1: detach().item()\n",
        "\n",
        "          # Depth Loss + Metrics\n",
        "          if gt_depths is not None and batch_depth_preds is not None:\n",
        "              depth_loss, depth_mse, depth_rmse = self._compute_depth_loss(\n",
        "                  batch_depth_preds, gt_depths, gt_boxes\n",
        "              )\n",
        "              if depth_loss is not None:\n",
        "                  total_loss += depth_loss * self.loss_weights['depth']\n",
        "                  depth_loss_sum += depth_loss.detach().item()  # DÜZELTME 1: detach().item()\n",
        "                  mse_sum += depth_mse  # DÜZELTME 7: append yerine sum\n",
        "                  rmse_sum += depth_rmse  # DÜZELTME 7: append yerine sum\n",
        "\n",
        "          # mAP calculation\n",
        "          try:\n",
        "              map_score = self._compute_simple_map(\n",
        "                  batch_cls_preds.detach(), gt_classes, pos_indices, matched_gt_indices  # DÜZELTME 6: detach\n",
        "              )\n",
        "              map_sum += map_score  # DÜZELTME 7: append yerine sum\n",
        "          except Exception:\n",
        "              map_sum += 0.0\n",
        "\n",
        "          valid_samples += 1\n",
        "\n",
        "        # Depth map smoothness loss\n",
        "        if depth_pred is not None:\n",
        "            depth_map_loss = self._compute_depth_smoothness_loss(depth_pred)\n",
        "            total_loss += depth_map_loss * self.loss_weights['depth_map']\n",
        "            depth_map_loss_val = depth_map_loss.detach().item()\n",
        "\n",
        "        # DÜZELTME 2: torch.stack kullanmak yerine ortalama hesapla\n",
        "        losses = {\n",
        "            'total': total_loss,\n",
        "            'classification': cls_loss_sum / valid_samples if valid_samples > 0 else 0.0,\n",
        "            'regression': reg_loss_sum / valid_samples if valid_samples > 0 else 0.0,\n",
        "            'depth': depth_loss_sum / valid_samples if valid_samples > 0 else 0.0,\n",
        "            'depth_map': depth_map_loss_val\n",
        "        }\n",
        "\n",
        "        metrics = {\n",
        "            'Accuracy': accuracy_sum / valid_samples if valid_samples > 0 else 0.0,\n",
        "            'F1_score': f1_sum / valid_samples if valid_samples > 0 else 0.0,\n",
        "            'MSE': mse_sum / valid_samples if valid_samples > 0 else 0.0,\n",
        "            'RMSE': rmse_sum / valid_samples if valid_samples > 0 else 0.0,\n",
        "            'mAP': map_sum / valid_samples if valid_samples > 0 else 0.0,\n",
        "            'TotalLoss': total_loss.detach().item() if isinstance(total_loss, torch.Tensor) else total_loss,\n",
        "            'ClsLoss': cls_loss_sum / valid_samples if valid_samples > 0 else 0.0\n",
        "        }\n",
        "\n",
        "        return losses, metrics\n",
        "\n",
        "    # Diğer metodlar aynı kalıyor...\n",
        "    def _assign_targets_to_anchors(self, anchors, gt_boxes, gt_classes):\n",
        "        \"\"\"Assign ground truth to anchors based on IoU\"\"\"\n",
        "        if len(gt_boxes) == 0:\n",
        "            return torch.tensor([], dtype=torch.long, device=self.device), \\\n",
        "                   torch.tensor([], dtype=torch.long, device=self.device), \\\n",
        "                   torch.tensor([], dtype=torch.long, device=self.device)\n",
        "\n",
        "        # Compute IoU matrix\n",
        "        ious = self.bbox_iou(anchors, gt_boxes)  # [N_total, N_gt]\n",
        "\n",
        "        # Find best GT for each anchor\n",
        "        max_ious, matched_gt_indices = torch.max(ious, dim=1)  # [N_total]\n",
        "\n",
        "        # Positive and negative indices\n",
        "        pos_mask = max_ious >= self.pos_iou_threshold\n",
        "        neg_mask = max_ious < self.neg_iou_threshold\n",
        "\n",
        "        pos_indices = torch.where(pos_mask)[0]\n",
        "        neg_indices = torch.where(neg_mask)[0]\n",
        "\n",
        "        matched_gt_indices = matched_gt_indices[pos_indices]\n",
        "\n",
        "        return pos_indices, neg_indices, matched_gt_indices\n",
        "\n",
        "    def _compute_classification_loss(self, cls_preds, gt_classes, pos_indices, neg_indices, matched_gt_indices):\n",
        "        \"\"\"Compute focal loss for classification + return metrics\"\"\"\n",
        "        if len(pos_indices) == 0:\n",
        "            return None, 0.0, 0.0\n",
        "\n",
        "        # Positive loss\n",
        "        pos_cls_preds = cls_preds[pos_indices]\n",
        "        pos_gt_classes = gt_classes[matched_gt_indices]\n",
        "        pos_loss = self.focal_loss(pos_cls_preds, pos_gt_classes)\n",
        "\n",
        "        # Negative loss (sınırlı negatif örnek al)\n",
        "        if len(neg_indices) > 0:\n",
        "            # Negatif örnek sayısını pozitif örnek sayısının 3 katı ile sınırla\n",
        "            max_neg_samples = min(len(neg_indices), len(pos_indices) * 3)\n",
        "\n",
        "            # Confidence skoruna göre en zor negatif örnekleri seç (hard negative mining)\n",
        "            neg_cls_preds = cls_preds[neg_indices]\n",
        "            neg_scores = torch.max(torch.softmax(neg_cls_preds, dim=1), dim=1)[0]\n",
        "            _, hard_neg_indices = torch.topk(neg_scores, max_neg_samples, largest=True)\n",
        "\n",
        "            selected_neg_indices = neg_indices[hard_neg_indices]\n",
        "            selected_neg_cls_preds = cls_preds[selected_neg_indices]\n",
        "            neg_gt_classes = torch.zeros(len(selected_neg_indices), dtype=torch.long, device=self.device)\n",
        "            neg_loss = self.focal_loss(selected_neg_cls_preds, neg_gt_classes)\n",
        "\n",
        "            total_cls_loss = pos_loss + neg_loss\n",
        "        else:\n",
        "            total_cls_loss = pos_loss\n",
        "\n",
        "        # Compute metrics\n",
        "        with torch.no_grad():\n",
        "            pred_classes = torch.argmax(pos_cls_preds, dim=1)\n",
        "            accuracy = accuracy_score(pos_gt_classes.cpu().numpy(), pred_classes.cpu().numpy())\n",
        "            f1 = f1_score(pos_gt_classes.cpu().numpy(), pred_classes.cpu().numpy(),\n",
        "                         average='weighted', zero_division=0)\n",
        "\n",
        "        return total_cls_loss, accuracy, f1\n",
        "\n",
        "    def _compute_regression_loss(self, reg_preds, gt_boxes, anchors, pos_indices, matched_gt_indices):\n",
        "        \"\"\"Compute smooth L1 loss for bounding box regression\"\"\"\n",
        "        if len(pos_indices) == 0:\n",
        "            return None\n",
        "\n",
        "        pos_anchors = anchors[pos_indices]\n",
        "        pos_reg_preds = reg_preds[pos_indices]\n",
        "        pos_gt_boxes = gt_boxes[matched_gt_indices]\n",
        "\n",
        "        # Encode ground truth boxes relative to anchors\n",
        "        pos_gt_encoded = self._encode_boxes(pos_anchors, pos_gt_boxes)\n",
        "\n",
        "        # Smooth L1 loss\n",
        "        reg_loss = self.reg_criterion(pos_reg_preds, pos_gt_encoded).mean()\n",
        "\n",
        "        return reg_loss\n",
        "\n",
        "    def _compute_depth_loss(self, depth_pred, gt_depths, gt_boxes):\n",
        "        \"\"\"Compute depth estimation loss + return MSE, RMSE metrics\"\"\"\n",
        "        if len(gt_depths) == 0:\n",
        "            return None, 0.0, 0.0\n",
        "\n",
        "        if depth_pred.dim() == 3:\n",
        "            depth_map = depth_pred[0]  # [H, W]\n",
        "        else:\n",
        "            depth_map = depth_pred\n",
        "\n",
        "        H, W = depth_map.shape\n",
        "\n",
        "        # Sample depth values from GT boxes\n",
        "        sampled_depths = []\n",
        "        target_depths = []\n",
        "\n",
        "        for gt_box, gt_depth in zip(gt_boxes, gt_depths):\n",
        "            x1, y1, x2, y2 = gt_box\n",
        "\n",
        "            # Convert to pixel coordinates\n",
        "            x1_pix = int(x1 * W)\n",
        "            y1_pix = int(y1 * H)\n",
        "            x2_pix = int(x2 * W)\n",
        "            y2_pix = int(y2 * H)\n",
        "\n",
        "            # Clamp to bounds\n",
        "            x1_pix = max(0, min(x1_pix, W-1))\n",
        "            y1_pix = max(0, min(y1_pix, H-1))\n",
        "            x2_pix = max(0, min(x2_pix, W-1))\n",
        "            y2_pix = max(0, min(y2_pix, H-1))\n",
        "\n",
        "            # Sample from center\n",
        "            center_y = (y1_pix + y2_pix) // 2\n",
        "            center_x = (x1_pix + x2_pix) // 2\n",
        "\n",
        "            sampled_depth = depth_map[center_y, center_x]\n",
        "            sampled_depths.append(sampled_depth)\n",
        "            target_depths.append(gt_depth)\n",
        "\n",
        "        if len(sampled_depths) == 0:\n",
        "            return None, 0.0, 0.0\n",
        "\n",
        "        sampled_depths = torch.stack(sampled_depths)\n",
        "        target_depths = torch.stack(target_depths)\n",
        "\n",
        "        depth_loss = self.depth_criterion(sampled_depths, target_depths).mean()\n",
        "\n",
        "        # Compute metrics\n",
        "        with torch.no_grad():\n",
        "            mse = F.mse_loss(sampled_depths, target_depths).item()\n",
        "            rmse = np.sqrt(mse)\n",
        "\n",
        "        return depth_loss, mse, rmse\n",
        "\n",
        "    def _compute_depth_smoothness_loss(self, depth_pred):\n",
        "        \"\"\"Compute depth map smoothness loss\"\"\"\n",
        "        grad_x = torch.abs(depth_pred[:, :, :, :-1] - depth_pred[:, :, :, 1:])\n",
        "        grad_y = torch.abs(depth_pred[:, :, :-1, :] - depth_pred[:, :, 1:, :])\n",
        "\n",
        "        smoothness_loss = grad_x.mean() + grad_y.mean()\n",
        "        return smoothness_loss\n",
        "\n",
        "    def _encode_boxes(self, anchors, gt_boxes):\n",
        "        \"\"\"Encode ground truth boxes relative to anchors\"\"\"\n",
        "        # Anchor properties\n",
        "        anchor_widths = anchors[:, 2] - anchors[:, 0]\n",
        "        anchor_heights = anchors[:, 3] - anchors[:, 1]\n",
        "        anchor_ctr_x = anchors[:, 0] + 0.5 * anchor_widths\n",
        "        anchor_ctr_y = anchors[:, 1] + 0.5 * anchor_heights\n",
        "\n",
        "        # GT box properties\n",
        "        gt_widths = gt_boxes[:, 2] - gt_boxes[:, 0]\n",
        "        gt_heights = gt_boxes[:, 3] - gt_boxes[:, 1]\n",
        "        gt_ctr_x = gt_boxes[:, 0] + 0.5 * gt_widths\n",
        "        gt_ctr_y = gt_boxes[:, 1] + 0.5 * gt_heights\n",
        "\n",
        "        # Compute deltas\n",
        "        dx = (gt_ctr_x - anchor_ctr_x) / anchor_widths\n",
        "        dy = (gt_ctr_y - anchor_ctr_y) / anchor_heights\n",
        "        dw = torch.log(gt_widths / anchor_widths)\n",
        "        dh = torch.log(gt_heights / anchor_heights)\n",
        "\n",
        "        return torch.stack((dx, dy, dw, dh), dim=1)\n",
        "\n",
        "    def bbox_iou(self, box1, box2):\n",
        "        \"\"\"Compute IoU between two sets of boxes\"\"\"\n",
        "        area1 = (box1[:, 2] - box1[:, 0]) * (box1[:, 3] - box1[:, 1])\n",
        "        area2 = (box2[:, 2] - box2[:, 0]) * (box2[:, 3] - box2[:, 1])\n",
        "\n",
        "        lt = torch.max(box1[:, None, :2], box2[:, :2])\n",
        "        rb = torch.min(box1[:, None, 2:], box2[:, 2:])\n",
        "\n",
        "        wh = (rb - lt).clamp(min=0)\n",
        "        inter = wh[:, :, 0] * wh[:, :, 1]\n",
        "\n",
        "        union = area1[:, None] + area2 - inter\n",
        "        iou = inter / union\n",
        "        return iou\n",
        "\n",
        "    def focal_loss(self, inputs, targets, alpha=0.25, gamma=2.0):\n",
        "        \"\"\"Focal Loss implementation\"\"\"\n",
        "        ce_loss = F.cross_entropy(inputs, targets, reduction='none')\n",
        "        pt = torch.exp(-ce_loss)\n",
        "        focal_loss = alpha * (1 - pt) ** gamma * ce_loss\n",
        "        return focal_loss.mean()\n",
        "\n",
        "    def _compute_simple_map(self, cls_preds, gt_classes, pos_indices, matched_gt_indices):\n",
        "        \"\"\"\n",
        "        Basitleştirilmiş mAP hesaplama - tensor boyut uyumsuzluğu problemini çözer\n",
        "        \"\"\"\n",
        "        if len(pos_indices) == 0 or len(gt_classes) == 0:\n",
        "            return 0.0\n",
        "\n",
        "        with torch.no_grad():\n",
        "            # Pozitif örnekler için sınıf tahminleri\n",
        "            pos_cls_preds = cls_preds[pos_indices]  # [N_pos, num_classes]\n",
        "            pos_gt_classes = gt_classes[matched_gt_indices]  # [N_pos]\n",
        "\n",
        "            # Softmax ile sınıf olasılıkları\n",
        "            pos_probs = F.softmax(pos_cls_preds, dim=1)  # [N_pos, num_classes]\n",
        "\n",
        "            # Her pozitif örnek için doğru sınıfın olasılığını al\n",
        "            correct_class_probs = pos_probs[torch.arange(len(pos_gt_classes)), pos_gt_classes]\n",
        "\n",
        "            # Ortalama doğruluk oranını mAP approximation olarak kullan\n",
        "            map_approx = correct_class_probs.mean().item()\n",
        "\n",
        "            return max(0.0, min(1.0, map_approx))  # 0-1 aralığında clamp\n",
        "\n",
        "\n",
        "def train_model(model, train_loader, val_loader, num_epochs=100,\n",
        "                learning_rate=1e-4, device='cuda', save_path='model_checkpoint.pth',\n",
        "                early_stop_patience=3,scheduler_patience=10, scheduler_factor=0.5, class_weights=None, task_weights=None,\n",
        "                p_iou_threshold=0.5, n_iou_threshold=0.4):\n",
        "\n",
        "    # WandB config'e weights ekle\n",
        "    config = {\n",
        "        \"learning_rate\": learning_rate,\n",
        "        \"architecture\": \"EfficientBasedMultiTask\",\n",
        "        \"dataset\": \"KITTI-2012\",\n",
        "        \"epochs\": num_epochs,\n",
        "    }\n",
        "\n",
        "    # Task weights'i config'e ekle\n",
        "    if task_weights:\n",
        "        config.update({\n",
        "            \"task_weights\": task_weights,\n",
        "            \"classification_weight\": task_weights.get(\"classification\", 1.0),\n",
        "            \"regression_weight\": task_weights.get(\"regression\", 1.0),\n",
        "            \"detection_depth_weight\": task_weights.get(\"detection_depth\", 1.0),\n",
        "            \"depth_map_weight\": task_weights.get(\"depth_map\", 1.0)\n",
        "        })\n",
        "\n",
        "    wandb.init(\n",
        "        entity=\"mehmeteminuludag-kirikkale-university\",\n",
        "        project=\"StajProjesi\",\n",
        "        config=config\n",
        "    )\n",
        "\n",
        "    # Move model to device\n",
        "    model = model.to(device)\n",
        "    criterion = MultiTaskCriterion(loss_weights=task_weights, pos_iou_threshold=p_iou_threshold, neg_iou_threshold=n_iou_threshold).to(device)\n",
        "\n",
        "    optimizer = optim.AdamW(\n",
        "        list(model.parameters()) + list(criterion.parameters()),\n",
        "        lr=learning_rate, weight_decay=1e-5, eps=1e-8\n",
        "    )\n",
        "\n",
        "    best_val_loss = float('inf')\n",
        "    counter=0\n",
        "    for epoch in range(num_epochs):\n",
        "        # Training\n",
        "        model.train()\n",
        "        train_losses = {\n",
        "            'total': 0,\n",
        "            'classification': 0,\n",
        "            'regression': 0,\n",
        "            'depth': 0,\n",
        "            'depth_map': 0\n",
        "        }\n",
        "        train_metrics_accum = {\n",
        "            'Accuracy': 0,\n",
        "            'F1_score': 0,\n",
        "            'MSE': 0,\n",
        "            'RMSE': 0,\n",
        "            'mAP': 0,\n",
        "            'TotalLoss': 0,\n",
        "            'ClsLoss': 0\n",
        "        }\n",
        "\n",
        "        pbar = tqdm(train_loader, desc=f'Epoch {epoch+1}/{num_epochs} Train')\n",
        "\n",
        "        for batch_idx, (images, targets) in enumerate(pbar):\n",
        "            images = images.to(device)\n",
        "            batch_size = len(targets)\n",
        "\n",
        "            optimizer.zero_grad()\n",
        "            model_outputs = model(images, mode=\"train\")\n",
        "            values = {}\n",
        "            values['cls_preds'] = model_outputs['cls_preds']\n",
        "            values['reg_preds'] = model_outputs['reg_preds']\n",
        "            values['anchors'] = model_outputs['anchors']\n",
        "            values['depth_pred'] = model_outputs['depth_pred']\n",
        "            values['targets'] = targets\n",
        "\n",
        "            losses, metrics = criterion(values)\n",
        "            losses['total'].backward()\n",
        "            torch.nn.utils.clip_grad_norm_(model.parameters(), max_norm=1.0)\n",
        "            optimizer.step()\n",
        "\n",
        "            # Hataları biriktirir\n",
        "            for key in train_losses:\n",
        "                if key in losses:\n",
        "                    if isinstance(losses[key], torch.Tensor):\n",
        "                        train_losses[key] += losses[key].item() * batch_size\n",
        "                    else:\n",
        "                        train_losses[key] += losses[key] * batch_size\n",
        "\n",
        "            # Metrikleri biriktir\n",
        "            for key in train_metrics_accum:\n",
        "                if key in metrics:\n",
        "                    if isinstance(metrics[key], torch.Tensor):\n",
        "                        train_metrics_accum[key] += metrics[key].item() * batch_size\n",
        "                    else:\n",
        "                        train_metrics_accum[key] += metrics[key] * batch_size\n",
        "\n",
        "            # DÜZELTME 4: Memory cleanup\n",
        "            if batch_idx % 10 == 0:\n",
        "                torch.cuda.empty_cache()\n",
        "\n",
        "            pbar.set_postfix({\n",
        "                'Acc': f\"{train_metrics_accum['Accuracy']/((batch_idx+1)*batch_size): .3f}\",\n",
        "                'ClsLoss': f\"{train_losses['classification']/((batch_idx+1)*batch_size):.3f}\",\n",
        "                'F1': f\"{train_metrics_accum['F1_score']/((batch_idx+1)*batch_size):.3f}\",\n",
        "                'RMSE': f\"{train_metrics_accum['RMSE']/((batch_idx+1)*batch_size):.3f}\",\n",
        "                'mAP': f\"{train_metrics_accum['mAP']/((batch_idx+1)*batch_size):.3f}\",\n",
        "                'TotalLoss': f\"{train_losses['total']/((batch_idx+1)*batch_size):.3f}\"\n",
        "            })\n",
        "\n",
        "        # DÜZELTME 3: Loop dışına çıkarıldı\n",
        "        for key in train_losses:\n",
        "            train_losses[key] /= len(train_loader.dataset)\n",
        "\n",
        "        for key in train_metrics_accum:\n",
        "            train_metrics_accum[key] /= len(train_loader.dataset)\n",
        "\n",
        "        # Validation\n",
        "\n",
        "        val_losses = {\n",
        "            'total': 0,\n",
        "            'classification': 0,\n",
        "            'regression': 0,\n",
        "            'depth': 0,\n",
        "            'depth_map': 0\n",
        "        }\n",
        "        val_metrics_accum = {\n",
        "            'Accuracy': 0,\n",
        "            'F1_score': 0,\n",
        "            'MSE': 0,\n",
        "            'RMSE': 0,\n",
        "            'mAP': 0,\n",
        "            'TotalLoss': 0,\n",
        "            'ClsLoss': 0\n",
        "        }\n",
        "\n",
        "        with torch.no_grad():\n",
        "            #model.train()\n",
        "            pbar2 = tqdm(val_loader, desc=f'Epoch {epoch+1}/{num_epochs} Validation')\n",
        "\n",
        "            for batch_idx, (images, targets) in enumerate(pbar2):\n",
        "                images = images.to(device)\n",
        "                batch_size = len(targets)\n",
        "\n",
        "\n",
        "                model_outputs = model(images, mode=\"train\")\n",
        "                values = {}\n",
        "                values['cls_preds'] = model_outputs['cls_preds']\n",
        "                values['reg_preds'] = model_outputs['reg_preds']\n",
        "                values['anchors'] = model_outputs['anchors']\n",
        "                values['depth_pred'] = model_outputs['depth_pred']\n",
        "                values['targets'] = targets\n",
        "                losses, metrics = criterion(values)\n",
        "\n",
        "                # Hataları biriktirir\n",
        "                for key in val_losses:\n",
        "                    if key in losses:\n",
        "                        if isinstance(losses[key], torch.Tensor):\n",
        "                            val_losses[key] += losses[key].item() * batch_size\n",
        "                        else:\n",
        "                            val_losses[key] += losses[key] * batch_size\n",
        "\n",
        "                # Metrikleri biriktir\n",
        "                for key in val_metrics_accum:\n",
        "                    if key in metrics:\n",
        "                        if isinstance(metrics[key], torch.Tensor):\n",
        "                            val_metrics_accum[key] += metrics[key].item() * batch_size\n",
        "                        else:\n",
        "                            val_metrics_accum[key] += metrics[key] * batch_size\n",
        "\n",
        "                pbar2.set_postfix({\n",
        "                    'Acc': f\"{val_metrics_accum['Accuracy']/((batch_idx+1)*batch_size): .3f}\",\n",
        "                    'ClsLoss': f\"{val_losses['classification']/((batch_idx+1)*batch_size):.3f}\",\n",
        "                    'F1': f\"{val_metrics_accum['F1_score']/((batch_idx+1)*batch_size):.3f}\",\n",
        "                    'RMSE': f\"{val_metrics_accum['RMSE']/((batch_idx+1)*batch_size):.3f}\",\n",
        "                    'mAP': f\"{val_metrics_accum['mAP']/((batch_idx+1)*batch_size):.3f}\",\n",
        "                    'TotalLoss': f\"{val_losses['total']/((batch_idx+1)*batch_size):.3f}\"\n",
        "                })\n",
        "\n",
        "        # DÜZELTME 5: Validation loop dışına çıkarıldı\n",
        "        for key in val_losses:\n",
        "            val_losses[key] /= len(val_loader.dataset)\n",
        "\n",
        "        for key in val_metrics_accum:\n",
        "            val_metrics_accum[key] /= len(val_loader.dataset)\n",
        "\n",
        "        # en iyi val loss un olduğu ağırlıkları kaydeder\n",
        "        if val_losses['total'] < best_val_loss:\n",
        "            best_val_loss = val_losses['total']\n",
        "            torch.save({\n",
        "                'epoch': epoch + 1,\n",
        "                'model_state_dict': model.state_dict(),\n",
        "                'optimizer_state_dict': optimizer.state_dict(),\n",
        "                'criterion_state_dict': criterion.state_dict()\n",
        "            }, save_path)\n",
        "\n",
        "        # wandb logları alınıyor\n",
        "        wandb.log({\n",
        "            \"val/accuracy\": val_metrics_accum['Accuracy'],\n",
        "            \"val/classification_loss\": val_losses['classification'],\n",
        "            \"val/f1_score\": val_metrics_accum['F1_score'],\n",
        "            \"val/rmse\": val_metrics_accum['RMSE'],\n",
        "            \"val/map\": val_metrics_accum['mAP']\n",
        "        }, step=epoch+1)\n",
        "\n",
        "        wandb.log({\n",
        "            \"train/accuracy\": train_metrics_accum['Accuracy'],\n",
        "            \"train/classification_loss\": train_losses['classification'],\n",
        "            \"train/f1_score\": train_metrics_accum['F1_score'],\n",
        "            \"train/rmse\": train_metrics_accum['RMSE'],\n",
        "            \"train/map\": train_metrics_accum['mAP']\n",
        "        }, step=epoch+1)\n",
        "\n",
        "        if val_losses['total'] +0.15 < best_val_loss:\n",
        "          best_val_loss = val_losses['total']\n",
        "          counter = 0  # İyileşme oldu, sıfırla\n",
        "          torch.save({\n",
        "              'epoch': epoch + 1,\n",
        "              'model_state_dict': model.state_dict(),\n",
        "              'optimizer_state_dict': optimizer.state_dict(),\n",
        "              'criterion_state_dict': criterion.state_dict()\n",
        "          }, save_path)\n",
        "        else:\n",
        "            counter += 1\n",
        "            print(f\"No improvement in val loss for {counter} epochs.\")\n",
        "\n",
        "        if counter >= early_stop_patience:\n",
        "            print(f\"Early stopping at epoch {epoch+1}\")\n",
        "            break\n",
        "    wandb.finish()\n",
        "    return best_val_loss\n",
        "\n",
        "\n",
        "def kitti_collate_fn(batch):\n",
        "    images = [item[0] for item in batch]\n",
        "    labels = [item[1] for item in batch]\n",
        "    images = torch.stack(images, dim=0)  # [B, C, H, W]\n",
        "    return images, labels\n",
        "\n",
        "def analyze_dataset(train_dataset, device):\n",
        "    \"\"\"\n",
        "    Veri seti analizi ve görselleştirme fonksiyonu - Optimize edilmiş versiyon\n",
        "    \"\"\"\n",
        "    import numpy as np\n",
        "    import torch\n",
        "    from collections import Counter\n",
        "\n",
        "    # === 0. Veri Setinden Özellikleri Çıkarma - TEK DÖNGÜ İLE ===\n",
        "    print(f\"Veri seti boyutu: {len(train_dataset)} örnek\")\n",
        "\n",
        "    # Tüm listeleri tek seferde oluştur\n",
        "    cls_labels = []\n",
        "    depth_maps = []\n",
        "    bboxes = []\n",
        "    objects_per_image = []\n",
        "\n",
        "\n",
        "    for i in range(len(train_dataset)):\n",
        "        image_data = train_dataset[i][1]  # Bir kez al\n",
        "        objects_per_image.append(len(image_data))\n",
        "\n",
        "        # Bu görüntüdeki tüm objeleri işle\n",
        "        for obj in image_data:\n",
        "            cls_labels.append(obj[0])           # sınıf\n",
        "            depth_maps.append(obj[5])           # depth\n",
        "            bboxes.append(obj[1:5])             # [x1,y1,x2,y2]\n",
        "            print(obj)\n",
        "    total_objects = len(cls_labels)\n",
        "    print(f\"Toplam obje sayısı: {total_objects}\")\n",
        "    print(f\"Toplam bbox sayısı: {len(bboxes)}\")\n",
        "    print(f\"Toplam depth değeri: {len(depth_maps)}\")\n",
        "\n",
        "    # === 1. Sınıf Dağılımı Analizi ===\n",
        "    cls_distribution = Counter(cls_labels)\n",
        "    sorted_cls_distribution = sorted(cls_distribution.items(), key=lambda x: x[0])\n",
        "\n",
        "    # Class weights hesaplama\n",
        "    class_weights = torch.tensor([count for _, count in sorted_cls_distribution],\n",
        "                                dtype=torch.float32).to(device)\n",
        "    return class_weights\n",
        "    # === 2. BBox Analizi - VEKTÖRLEŞTİRİLMİŞ ===\n",
        "    # NumPy array'e çevir hızlı işlem için\n",
        "    bboxes_array = np.array(bboxes)\n",
        "\n",
        "    # Format: [x1, y1, x2, y2]\n",
        "    bbox_widths = bboxes_array[:, 2] - bboxes_array[:, 0]   # x2 - x1\n",
        "    bbox_heights = bboxes_array[:, 3] - bboxes_array[:, 1]  # y2 - y1\n",
        "    bbox_areas = bbox_widths * bbox_heights\n",
        "\n",
        "    # Sıfıra bölme kontrolü ile aspect ratio\n",
        "    bbox_aspect_ratios = np.divide(bbox_widths, bbox_heights,\n",
        "                                  out=np.zeros_like(bbox_widths),\n",
        "                                  where=bbox_heights!=0)\n",
        "\n",
        "    # === 3. Görsel Başına Obje Sayısı Analizi - ZATEN HAZIR ===\n",
        "    # objects_per_image yukarıda hesaplandı\n",
        "\n",
        "    # === 4. Depth Analizi - VEKTÖRLEŞTİRİLMİŞ ===\n",
        "    depth_array = np.array(depth_maps)\n",
        "    valid_mask = ~np.isnan(depth_array)\n",
        "    valid_depths = depth_array[valid_mask]\n",
        "    invalid_depths = np.sum(~valid_mask)\n",
        "\n",
        "\n",
        "\n",
        "\n",
        "    # === 5. Görselleştirme ===\n",
        "    fig = plt.figure(figsize=(18, 12))\n",
        "\n",
        "    # Sınıf dağılımı pasta grafiği\n",
        "    plt.subplot(3, 4, 1)\n",
        "    labels, values = zip(*sorted_cls_distribution)\n",
        "    plt.pie(values, labels=labels, autopct='%1.1f%%', startangle=140)\n",
        "    plt.title('Sınıf Dağılımı', fontsize=12, fontweight='bold')\n",
        "    plt.axis('equal')\n",
        "\n",
        "    # Sınıf dağılımı bar grafiği\n",
        "    plt.subplot(3, 4, 2)\n",
        "    plt.bar(labels, values, alpha=0.7, edgecolor='black')\n",
        "    plt.title('Sınıf Dağılımı (Bar Chart)', fontsize=12, fontweight='bold')\n",
        "    plt.xlabel('Sınıf')\n",
        "    plt.ylabel('Örnek Sayısı')\n",
        "    plt.xticks(rotation=45)\n",
        "\n",
        "    # Görsel başına obje sayısı histogramı\n",
        "    plt.subplot(3, 4, 3)\n",
        "    plt.hist(objects_per_image, bins=range(1, max(objects_per_image)+2),\n",
        "             alpha=0.7, edgecolor='black', color='skyblue')\n",
        "    plt.title('Görsel Başına Obje Sayısı', fontsize=12, fontweight='bold')\n",
        "    plt.xlabel('Obje Sayısı')\n",
        "    plt.ylabel('Görsel Sayısı')\n",
        "    plt.grid(True, alpha=0.3)\n",
        "\n",
        "    # BBox genişlik histogramı\n",
        "    plt.subplot(3, 4, 4)\n",
        "    plt.hist(bbox_widths, bins=50, alpha=0.7, edgecolor='black', color='orange')\n",
        "    plt.title('BBox Genişlik Dağılımı', fontsize=12, fontweight='bold')\n",
        "    plt.xlabel('Genişlik')\n",
        "    plt.ylabel('Frekans')\n",
        "    plt.grid(True, alpha=0.3)\n",
        "\n",
        "    # BBox yükseklik histogramı\n",
        "    plt.subplot(3, 4, 5)\n",
        "    plt.hist(bbox_heights, bins=50, alpha=0.7, edgecolor='black', color='red')\n",
        "    plt.title('BBox Yükseklik Dağılımı', fontsize=12, fontweight='bold')\n",
        "    plt.xlabel('Yükseklik')\n",
        "    plt.ylabel('Frekans')\n",
        "    plt.grid(True, alpha=0.3)\n",
        "\n",
        "    # BBox alan histogramı\n",
        "    plt.subplot(3, 4, 6)\n",
        "    plt.hist(bbox_areas, bins=50, alpha=0.7, edgecolor='black', color='purple')\n",
        "    plt.title('BBox Alan Dağılımı', fontsize=12, fontweight='bold')\n",
        "    plt.xlabel('Alan')\n",
        "    plt.ylabel('Frekans')\n",
        "    plt.grid(True, alpha=0.3)\n",
        "\n",
        "    # BBox aspect ratio histogramı\n",
        "    plt.subplot(3, 4, 7)\n",
        "    plt.hist(bbox_aspect_ratios, bins=50, alpha=0.7, edgecolor='black', color='brown')\n",
        "    plt.title('BBox En/Boy Oranı', fontsize=12, fontweight='bold')\n",
        "    plt.xlabel('En/Boy Oranı')\n",
        "    plt.ylabel('Frekans')\n",
        "    plt.grid(True, alpha=0.3)\n",
        "\n",
        "    # Depth değerleri histogramı\n",
        "    plt.subplot(3, 4, 8)\n",
        "    if valid_depths:\n",
        "        plt.hist(valid_depths, bins=50, alpha=0.7, edgecolor='black', color='lightgreen')\n",
        "    plt.title('Depth Değerleri Dağılımı', fontsize=12, fontweight='bold')\n",
        "    plt.xlabel('Normalize Edilmiş Depth')\n",
        "    plt.ylabel('Frekans')\n",
        "    plt.grid(True, alpha=0.3)\n",
        "\n",
        "    # Depth box plot\n",
        "    plt.subplot(3, 4, 9)\n",
        "    if valid_depths:\n",
        "        plt.boxplot(valid_depths, vert=True)\n",
        "    plt.title('Depth Box Plot', fontsize=12, fontweight='bold')\n",
        "    plt.ylabel('Normalize Edilmiş Depth')\n",
        "    plt.grid(True, alpha=0.3)\n",
        "\n",
        "    # Obje sayısı box plot\n",
        "    plt.subplot(3, 4, 10)\n",
        "    plt.boxplot(objects_per_image, vert=True)\n",
        "    plt.title('Obje Sayısı Box Plot', fontsize=12, fontweight='bold')\n",
        "    plt.ylabel('Obje Sayısı')\n",
        "    plt.grid(True, alpha=0.3)\n",
        "\n",
        "    # BBox alan box plot\n",
        "    plt.subplot(3, 4, 11)\n",
        "    plt.boxplot(bbox_areas, vert=True)\n",
        "    plt.title('BBox Alan Box Plot', fontsize=12, fontweight='bold')\n",
        "    plt.ylabel('Alan')\n",
        "    plt.grid(True, alpha=0.3)\n",
        "\n",
        "    # BBox aspect ratio box plot\n",
        "    plt.subplot(3, 4, 12)\n",
        "    plt.boxplot(bbox_aspect_ratios, vert=True)\n",
        "    plt.title('En/Boy Oranı Box Plot', fontsize=12, fontweight='bold')\n",
        "    plt.ylabel('En/Boy Oranı')\n",
        "    plt.grid(True, alpha=0.3)\n",
        "\n",
        "    plt.tight_layout()\n",
        "    plt.show()\n",
        "\n",
        "    # === 6. İstatistik Raporları ===\n",
        "    print(\"=\" * 80)\n",
        "    print(\"DATASET ANALİZ RAPORU\")\n",
        "    print(\"=\" * 80)\n",
        "\n",
        "    # Genel bilgiler\n",
        "    print(f\"\\n📋 GENEL BİLGİLER:\")\n",
        "    print(f\"Toplam görsel sayısı:    {len(train_dataset):6d}\")\n",
        "    print(f\"Toplam obje sayısı:      {len(cls_labels):6d}\")\n",
        "    print(f\"Toplam bbox sayısı:      {len(bboxes):6d}\")\n",
        "\n",
        "    # Sınıf dağılımı raporu\n",
        "    print(f\"\\n SINIF DAĞILIMI:\")\n",
        "    print(f\"Toplam sınıf sayısı: {len(cls_distribution)}\")\n",
        "    for label, count in sorted_cls_distribution:\n",
        "        percentage = (count / sum(cls_distribution.values())) * 100\n",
        "        print(f\"  Sınıf {label}: {count:4d} örnek ({percentage:5.1f}%)\")\n",
        "\n",
        "    # BBox analiz raporu\n",
        "    print(f\"\\n BBOX ANALİZ RAPORU:\")\n",
        "    print(f\"Ortalama genişlik:       {np.mean(bbox_widths):8.2f}\")\n",
        "    print(f\"Ortalama yükseklik:      {np.mean(bbox_heights):8.2f}\")\n",
        "    print(f\"Ortalama alan:           {np.mean(bbox_areas):8.2f}\")\n",
        "    print(f\"Ortalama en/boy oranı:   {np.mean(bbox_aspect_ratios):8.2f}\")\n",
        "    print(f\"Min genişlik:            {np.min(bbox_widths):8.2f}\")\n",
        "    print(f\"Max genişlik:            {np.max(bbox_widths):8.2f}\")\n",
        "    print(f\"Min yükseklik:           {np.min(bbox_heights):8.2f}\")\n",
        "    print(f\"Max yükseklik:           {np.max(bbox_heights):8.2f}\")\n",
        "    print(f\"Min alan:                {np.min(bbox_areas):8.2f}\")\n",
        "    print(f\"Max alan:                {np.max(bbox_areas):8.2f}\")\n",
        "\n",
        "    # Obje sayısı raporu\n",
        "    print(f\"\\n OBJE SAYISI İSTATİSTİKLERİ:\")\n",
        "    print(f\"Ortalama obje sayısı: {np.mean(objects_per_image):6.2f}\")\n",
        "    print(f\"Medyan obje sayısı:   {np.median(objects_per_image):6.2f}\")\n",
        "    print(f\"Maksimum obje sayısı: {max(objects_per_image):6d}\")\n",
        "    print(f\"Minimum obje sayısı:  {min(objects_per_image):6d}\")\n",
        "    print(f\"Standart sapma:       {np.std(objects_per_image):6.2f}\")\n",
        "\n",
        "    # Depth raporu\n",
        "    print(f\"\\n DEPTH ANALİZ RAPORU:\")\n",
        "    print(f\"Toplam depth değeri:     {len(depth_maps):6d}\")\n",
        "    print(f\"Geçerli depth değeri:    {len(valid_depths):6d}\")\n",
        "    print(f\"Geçersiz depth (NaN):    {invalid_depths:6d}\")\n",
        "    print(f\"Depth geçerlilik oranı:  {len(valid_depths)/len(depth_maps)*100:6.1f}%\")\n",
        "\n",
        "    if valid_depths:\n",
        "        print(f\"\\n DEPTH İSTATİSTİKLERİ:\")\n",
        "        for key, value in depth_stats.items():\n",
        "            print(f\"{key:>8}: {value:8.4f}\")\n",
        "\n",
        "    print(\"=\" * 80)\n",
        "\n",
        "    return {\n",
        "        'class_weights': class_weights,\n",
        "        'cls_distribution': sorted_cls_distribution,\n",
        "        'bbox_stats': {\n",
        "            'mean_width': np.mean(bbox_widths),\n",
        "            'mean_height': np.mean(bbox_heights),\n",
        "            'mean_area': np.mean(bbox_areas),\n",
        "            'mean_aspect_ratio': np.mean(bbox_aspect_ratios),\n",
        "            'width_std': np.std(bbox_widths),\n",
        "            'height_std': np.std(bbox_heights),\n",
        "            'area_std': np.std(bbox_areas)\n",
        "        },\n",
        "        'objects_per_image_stats': {\n",
        "            'mean': np.mean(objects_per_image),\n",
        "            'median': np.median(objects_per_image),\n",
        "            'max': max(objects_per_image),\n",
        "            'min': min(objects_per_image),\n",
        "            'std': np.std(objects_per_image)\n",
        "        },\n",
        "        'depth_stats': depth_stats,\n",
        "        'depth_validity_ratio': len(valid_depths)/len(depth_maps)*100 if depth_maps else 0,\n",
        "        'total_images': len(train_dataset),\n",
        "        'total_objects': len(cls_labels)\n",
        "    }\n",
        "\n",
        "def get_labels(targets,device='cuda'):\n",
        "  target_dict = {}\n",
        "  max_objects = max(len(target_list) for target_list in targets) if targets else 1 # her batchdeki maksimum nesne sayısı belirlenir\n",
        "\n",
        "  #sınıf,box ve depth etiketleri için tensörler oluşturuluyor\n",
        "  cls_labels = torch.full((batch_size, max_objects), -1, dtype=torch.long)\n",
        "  bbox_labels = torch.zeros((batch_size, max_objects, 4), dtype=torch.float32)\n",
        "  depth_labels = torch.full((batch_size, max_objects), float('nan'), dtype=torch.float32)\n",
        "\n",
        "\n",
        "  #tensörler gerçek değerler ile dolduruldu\n",
        "  for b, target_list in enumerate(targets):\n",
        "      for obj_idx, obj_data in enumerate(target_list):\n",
        "          if obj_idx < max_objects:\n",
        "              category_num, x, y, w, h, depth_or_disp = obj_data\n",
        "              cls_labels[b, obj_idx] = int(category_num)\n",
        "              bbox_labels[b, obj_idx] = torch.tensor([x, y, w, h], dtype=torch.float32)\n",
        "\n",
        "              # etiket değeri nan değilse doldur\n",
        "              if not np.isnan(depth_or_disp):\n",
        "                  depth_labels[b, obj_idx] = depth_or_disp\n",
        "\n",
        "\n",
        "  # tensörler kullanılabilir olması için 'target_dict' kütüphanesine gömüldü ve gpu belleğe taşındı\n",
        "  target_dict['classification'] = cls_labels.to(device)\n",
        "  target_dict['regression'] = bbox_labels.to(device)\n",
        "  target_dict['depth'] = depth_labels.to(device)\n",
        "  target_dict['depth_map'] = torch.zeros(batch_size, 1, 512, 512).to(device)\n",
        "\n",
        "  return target_dict\n",
        "\n"
      ]
    },
    {
      "cell_type": "code",
      "execution_count": null,
      "id": "f04dbc5a",
      "metadata": {
        "id": "f04dbc5a"
      },
      "outputs": [],
      "source": [
        "data_path = \"/content/kitti2012\" #colab\n",
        "#vkitti_path = \"/content/vkitti_sample (1)\" #vkitti path\n",
        "#data_path = \"C:/Users/Mehmet/Desktop/kitti2012\" #lcoal\n",
        "test_path = data_path+\"/testing\"\n",
        "\n",
        "image_size=256\n",
        "batch_size=1\n",
        "\n",
        "transform = transforms.Compose([\n",
        "    transforms.Resize((image_size, image_size)),\n",
        "    transforms.ToTensor()\n",
        "])\n",
        "#train_val_2_dataset = VKITTI_Dataset(root_dir=vkitti_path,transform=transform)\n",
        "#train_2_size = int(0.8 * len(train_val_2_dataset))  # ~155 sahne\n",
        "#val_2_size = len(train_val_2_dataset) - train_2_size  # ~39 sahne\n",
        "#train_2_dataset, val_2_dataset = random_split(train_val_2_dataset, [train_2_size, val_2_size])\n",
        "\n",
        "\n",
        "#train_2_loader = DataLoader(train_2_dataset, batch_size=batch_size, shuffle=True, pin_memory=True, num_workers=0,collate_fn=kitti_collate_fn)\n",
        "#test_loader = DataLoader(test_dataset, batch_size=batch_size, shuffle=False,pin_memory=True, num_workers=0,collate_fn=kitti_collate_fn)\n",
        "#val_2_loader = DataLoader(val_2_dataset, batch_size=batch_size, shuffle=False, pin_memory=True, num_workers=0,collate_fn=kitti_collate_fn)\n",
        "\n",
        "\n",
        "train_val_dataset = KITTI_Dataset(data_path=data_path ,transform=transform, mode='train')\n",
        "train_size = int(0.8 * len(train_val_dataset))  # ~155 sahne\n",
        "val_size = len(train_val_dataset) - train_size  # ~39 sahne\n",
        "train_dataset, val_dataset = random_split(train_val_dataset, [train_size, val_size])\n",
        "\n",
        "#test_dataset  = KITTI_Dataset(test_path,transform)\n",
        "\n",
        "train_loader = DataLoader(train_dataset, batch_size=batch_size, shuffle=True, pin_memory=True, num_workers=0,collate_fn=kitti_collate_fn)\n",
        "#test_loader = DataLoader(test_dataset, batch_size=batch_size, shuffle=False,pin_memory=True, num_workers=0,collate_fn=kitti_collate_fn)\n",
        "val_loader = DataLoader(val_dataset, batch_size=batch_size, shuffle=False, pin_memory=True, num_workers=0,collate_fn=kitti_collate_fn)"
      ]
    },
    {
      "cell_type": "code",
      "source": [
        "results = analyze_dataset(train_dataset,device)"
      ],
      "metadata": {
        "colab": {
          "base_uri": "https://localhost:8080/"
        },
        "collapsed": true,
        "id": "rrO5j91dPxmQ",
        "outputId": "1baea96c-06e2-4b1d-918b-0b8b0c1f1ad1"
      },
      "id": "rrO5j91dPxmQ",
      "execution_count": 27,
      "outputs": [
        {
          "output_type": "stream",
          "name": "stdout",
          "text": [
            "Veri seti boyutu: 1169 örnek\n",
            "Toplam obje sayısı: 0\n",
            "Toplam bbox sayısı: 0\n",
            "Toplam depth değeri: 0\n"
          ]
        }
      ]
    },
    {
      "cell_type": "code",
      "source": [
        "class_weights = torch.tensor([w / sum([1 / w for w in [1201,113,39,161,76,36,35,657]]) for w in [1 / w for w in [1201,113,39,161,76,36,35,657]]], dtype=torch.float32).to(device)"
      ],
      "metadata": {
        "id": "Kox1L1rxbfYR"
      },
      "id": "Kox1L1rxbfYR",
      "execution_count": null,
      "outputs": []
    },
    {
      "cell_type": "code",
      "source": [
        "def objective(trial):\n",
        "    # Hiperparametre önerileri\n",
        "    learning_rate = trial.suggest_float('learning_rate', 1e-5, 1e-2, log=True)\n",
        "\n",
        "    # Task weights - dengeli bir şekilde ayarla\n",
        "    classification_weight = trial.suggest_float('classification_weight', 0.5, 2.0)\n",
        "    regression_weight = trial.suggest_float('regression_weight', 0.5, 2.0)\n",
        "    detection_depth_weight = trial.suggest_float('detection_depth_weight', 0.1, 0.5)\n",
        "    depth_map_weight = trial.suggest_float('depth_map_weight', 0.1, 0.5)\n",
        "\n",
        "    task_weights = {\n",
        "        'classification': classification_weight,\n",
        "        'regression': regression_weight,\n",
        "        'depth': detection_depth_weight,\n",
        "        'depth_map': depth_map_weight\n",
        "    }\n",
        "\n",
        "    # IoU thresholds\n",
        "    p_iou_threshold = trial.suggest_float('p_iou_threshold', 0.3, 0.7)\n",
        "    n_iou_threshold = trial.suggest_float('n_iou_threshold', 0.1, 0.4)\n",
        "\n",
        "    # Model oluştur ve BatchNorm ayarla\n",
        "    model = CompleteMultiTaskModel(num_classes=8, num_anchors=9).to(device)\n",
        "\n",
        "    best_val_loss = train_model(\n",
        "        model=model,\n",
        "        train_loader=train_loader,\n",
        "        val_loader=val_loader,\n",
        "        num_epochs=10,  # Optuna için kısa epoch\n",
        "        learning_rate=learning_rate,\n",
        "        device=device,\n",
        "        save_path=f'optuna_trial_{trial.number}.pth',\n",
        "        class_weights=classification_weight,\n",
        "        task_weights=task_weights,\n",
        "        scheduler_patience=3,\n",
        "        scheduler_factor=0.2,\n",
        "        p_iou_threshold=p_iou_threshold,\n",
        "        n_iou_threshold=n_iou_threshold\n",
        "    )\n",
        "\n",
        "    return best_val_loss\n",
        "study = optuna.create_study(direction=\"minimize\")\n",
        "study.optimize(objective, n_trials=20)\n",
        "\n",
        "print(\"En iyi parametreler:\", study.best_params)"
      ],
      "metadata": {
        "id": "TDLujm0-svCb",
        "colab": {
          "base_uri": "https://localhost:8080/",
          "height": 1000
        },
        "outputId": "712863e2-9aa2-4fac-fced-47a4909a6a1d",
        "collapsed": true
      },
      "id": "TDLujm0-svCb",
      "execution_count": null,
      "outputs": [
        {
          "output_type": "stream",
          "name": "stderr",
          "text": [
            "[I 2025-08-10 10:56:47,348] A new study created in memory with name: no-name-c4ef8536-aeef-4847-be9e-67b82886e01e\n",
            "\u001b[34m\u001b[1mwandb\u001b[0m: Currently logged in as: \u001b[33mmehmeteminuludag\u001b[0m (\u001b[33mmehmeteminuludag-kirikkale-university\u001b[0m) to \u001b[32mhttps://api.wandb.ai\u001b[0m. Use \u001b[1m`wandb login --relogin`\u001b[0m to force relogin\n"
          ]
        },
        {
          "output_type": "display_data",
          "data": {
            "text/plain": [
              "<IPython.core.display.HTML object>"
            ],
            "text/html": [
              "Tracking run with wandb version 0.21.0"
            ]
          },
          "metadata": {}
        },
        {
          "output_type": "display_data",
          "data": {
            "text/plain": [
              "<IPython.core.display.HTML object>"
            ],
            "text/html": [
              "Run data is saved locally in <code>/content/wandb/run-20250810_105648-p4pmmgmi</code>"
            ]
          },
          "metadata": {}
        },
        {
          "output_type": "display_data",
          "data": {
            "text/plain": [
              "<IPython.core.display.HTML object>"
            ],
            "text/html": [
              "Syncing run <strong><a href='https://wandb.ai/mehmeteminuludag-kirikkale-university/StajProjesi/runs/p4pmmgmi' target=\"_blank\">zesty-deluge-258</a></strong> to <a href='https://wandb.ai/mehmeteminuludag-kirikkale-university/StajProjesi' target=\"_blank\">Weights & Biases</a> (<a href='https://wandb.me/developer-guide' target=\"_blank\">docs</a>)<br>"
            ]
          },
          "metadata": {}
        },
        {
          "output_type": "display_data",
          "data": {
            "text/plain": [
              "<IPython.core.display.HTML object>"
            ],
            "text/html": [
              " View project at <a href='https://wandb.ai/mehmeteminuludag-kirikkale-university/StajProjesi' target=\"_blank\">https://wandb.ai/mehmeteminuludag-kirikkale-university/StajProjesi</a>"
            ]
          },
          "metadata": {}
        },
        {
          "output_type": "display_data",
          "data": {
            "text/plain": [
              "<IPython.core.display.HTML object>"
            ],
            "text/html": [
              " View run at <a href='https://wandb.ai/mehmeteminuludag-kirikkale-university/StajProjesi/runs/p4pmmgmi' target=\"_blank\">https://wandb.ai/mehmeteminuludag-kirikkale-university/StajProjesi/runs/p4pmmgmi</a>"
            ]
          },
          "metadata": {}
        },
        {
          "output_type": "stream",
          "name": "stderr",
          "text": [
            "Epoch 1/10 Train: 100%|██████████| 310/310 [03:23<00:00,  1.52it/s, Acc=0.565, ClsLoss=0.245, F1=0.557, RMSE=0.041, mAP=0.382, TotalLoss=0.538]\n",
            "Epoch 1/10 Validation: 100%|██████████| 78/78 [00:17<00:00,  4.36it/s, Acc=0.612, ClsLoss=0.159, F1=0.559, RMSE=0.035, mAP=0.382, TotalLoss=0.312]\n",
            "Epoch 2/10 Train: 100%|██████████| 310/310 [03:22<00:00,  1.53it/s, Acc=0.585, ClsLoss=0.157, F1=0.572, RMSE=0.038, mAP=0.401, TotalLoss=0.365]\n",
            "Epoch 2/10 Validation: 100%|██████████| 78/78 [00:17<00:00,  4.38it/s, Acc=0.485, ClsLoss=0.180, F1=0.516, RMSE=0.035, mAP=0.298, TotalLoss=0.366]\n",
            "Epoch 3/10 Train: 100%|██████████| 310/310 [03:23<00:00,  1.52it/s, Acc=0.607, ClsLoss=0.140, F1=0.592, RMSE=0.038, mAP=0.408, TotalLoss=0.285]\n",
            "Epoch 3/10 Validation: 100%|██████████| 78/78 [00:17<00:00,  4.38it/s, Acc=0.608, ClsLoss=0.156, F1=0.553, RMSE=0.035, mAP=0.416, TotalLoss=0.308]\n",
            "Epoch 4/10 Train: 100%|██████████| 310/310 [03:23<00:00,  1.52it/s, Acc=0.619, ClsLoss=0.137, F1=0.598, RMSE=0.038, mAP=0.411, TotalLoss=0.274]\n",
            "Epoch 4/10 Validation: 100%|██████████| 78/78 [00:17<00:00,  4.37it/s, Acc=0.607, ClsLoss=0.163, F1=0.561, RMSE=0.035, mAP=0.421, TotalLoss=0.321]\n",
            "Epoch 5/10 Train: 100%|██████████| 310/310 [03:22<00:00,  1.53it/s, Acc=0.613, ClsLoss=0.161, F1=0.599, RMSE=0.038, mAP=0.421, TotalLoss=0.359]\n",
            "Epoch 5/10 Validation: 100%|██████████| 78/78 [00:17<00:00,  4.38it/s, Acc=0.610, ClsLoss=0.160, F1=0.555, RMSE=0.035, mAP=0.386, TotalLoss=0.335]\n",
            "Epoch 6/10 Train: 100%|██████████| 310/310 [03:22<00:00,  1.53it/s, Acc=0.608, ClsLoss=0.135, F1=0.595, RMSE=0.038, mAP=0.418, TotalLoss=0.273]\n",
            "Epoch 6/10 Validation: 100%|██████████| 78/78 [00:17<00:00,  4.38it/s, Acc=0.592, ClsLoss=0.155, F1=0.574, RMSE=0.035, mAP=0.362, TotalLoss=0.307]\n",
            "Epoch 7/10 Train: 100%|██████████| 310/310 [03:22<00:00,  1.53it/s, Acc=0.620, ClsLoss=0.130, F1=0.603, RMSE=0.038, mAP=0.420, TotalLoss=0.261]\n",
            "Epoch 7/10 Validation: 100%|██████████| 78/78 [00:17<00:00,  4.39it/s, Acc=0.585, ClsLoss=0.173, F1=0.565, RMSE=0.035, mAP=0.420, TotalLoss=0.339]\n",
            "Epoch 8/10 Train: 100%|██████████| 310/310 [03:22<00:00,  1.53it/s, Acc=0.619, ClsLoss=0.128, F1=0.601, RMSE=0.038, mAP=0.419, TotalLoss=0.256]\n",
            "Epoch 8/10 Validation: 100%|██████████| 78/78 [00:17<00:00,  4.38it/s, Acc=0.603, ClsLoss=0.143, F1=0.572, RMSE=0.035, mAP=0.414, TotalLoss=0.284]\n",
            "Epoch 9/10 Train: 100%|██████████| 310/310 [03:23<00:00,  1.53it/s, Acc=0.631, ClsLoss=0.125, F1=0.615, RMSE=0.038, mAP=0.424, TotalLoss=0.251]\n",
            "Epoch 9/10 Validation: 100%|██████████| 78/78 [00:17<00:00,  4.38it/s, Acc=0.607, ClsLoss=0.159, F1=0.583, RMSE=0.035, mAP=0.411, TotalLoss=0.314]\n",
            "Epoch 10/10 Train: 100%|██████████| 310/310 [03:22<00:00,  1.53it/s, Acc=0.632, ClsLoss=0.124, F1=0.613, RMSE=0.038, mAP=0.426, TotalLoss=0.250]\n",
            "Epoch 10/10 Validation: 100%|██████████| 78/78 [00:17<00:00,  4.37it/s, Acc=0.605, ClsLoss=0.159, F1=0.571, RMSE=0.035, mAP=0.432, TotalLoss=0.311]\n"
          ]
        },
        {
          "output_type": "display_data",
          "data": {
            "text/plain": [
              "<IPython.core.display.HTML object>"
            ],
            "text/html": []
          },
          "metadata": {}
        },
        {
          "output_type": "display_data",
          "data": {
            "text/plain": [
              "<IPython.core.display.HTML object>"
            ],
            "text/html": [
              "<br>    <style><br>        .wandb-row {<br>            display: flex;<br>            flex-direction: row;<br>            flex-wrap: wrap;<br>            justify-content: flex-start;<br>            width: 100%;<br>        }<br>        .wandb-col {<br>            display: flex;<br>            flex-direction: column;<br>            flex-basis: 100%;<br>            flex: 1;<br>            padding: 10px;<br>        }<br>    </style><br><div class=\"wandb-row\"><div class=\"wandb-col\"><h3>Run history:</h3><br/><table class=\"wandb\"><tr><td>train/accuracy</td><td>▁▃▅▇▆▆▇▇██</td></tr><tr><td>train/classification_loss</td><td>█▃▂▂▃▂▁▁▁▁</td></tr><tr><td>train/f1_score</td><td>▁▃▅▆▆▆▇▆██</td></tr><tr><td>train/map</td><td>▁▄▅▆▇▇▇▇██</td></tr><tr><td>train/rmse</td><td>█▁▁▁▁▁▁▁▁▁</td></tr><tr><td>val/accuracy</td><td>█▁███▇▇▇██</td></tr><tr><td>val/classification_loss</td><td>▄█▄▅▄▃▇▁▄▄</td></tr><tr><td>val/f1_score</td><td>▅▁▅▆▅▇▆▇█▇</td></tr><tr><td>val/map</td><td>▅▁▇▇▆▄▇▇▇█</td></tr><tr><td>val/rmse</td><td>▁█████████</td></tr></table><br/></div><div class=\"wandb-col\"><h3>Run summary:</h3><br/><table class=\"wandb\"><tr><td>train/accuracy</td><td>0.63186</td></tr><tr><td>train/classification_loss</td><td>0.12418</td></tr><tr><td>train/f1_score</td><td>0.6132</td></tr><tr><td>train/map</td><td>0.42625</td></tr><tr><td>train/rmse</td><td>0.03766</td></tr><tr><td>val/accuracy</td><td>0.60529</td></tr><tr><td>val/classification_loss</td><td>0.15868</td></tr><tr><td>val/f1_score</td><td>0.57142</td></tr><tr><td>val/map</td><td>0.43235</td></tr><tr><td>val/rmse</td><td>0.03549</td></tr></table><br/></div></div>"
            ]
          },
          "metadata": {}
        },
        {
          "output_type": "display_data",
          "data": {
            "text/plain": [
              "<IPython.core.display.HTML object>"
            ],
            "text/html": [
              " View run <strong style=\"color:#cdcd00\">zesty-deluge-258</strong> at: <a href='https://wandb.ai/mehmeteminuludag-kirikkale-university/StajProjesi/runs/p4pmmgmi' target=\"_blank\">https://wandb.ai/mehmeteminuludag-kirikkale-university/StajProjesi/runs/p4pmmgmi</a><br> View project at: <a href='https://wandb.ai/mehmeteminuludag-kirikkale-university/StajProjesi' target=\"_blank\">https://wandb.ai/mehmeteminuludag-kirikkale-university/StajProjesi</a><br>Synced 5 W&B file(s), 0 media file(s), 0 artifact file(s) and 0 other file(s)"
            ]
          },
          "metadata": {}
        },
        {
          "output_type": "display_data",
          "data": {
            "text/plain": [
              "<IPython.core.display.HTML object>"
            ],
            "text/html": [
              "Find logs at: <code>./wandb/run-20250810_105648-p4pmmgmi/logs</code>"
            ]
          },
          "metadata": {}
        },
        {
          "output_type": "stream",
          "name": "stderr",
          "text": [
            "[I 2025-08-10 11:33:43,812] Trial 0 finished with value: 0.2842940606208623 and parameters: {'learning_rate': 0.00443528430144658, 'classification_weight': 1.8030624769288597, 'regression_weight': 1.0711140562854187, 'detection_depth_weight': 0.35664103874392583, 'depth_map_weight': 0.24893458557825682, 'p_iou_threshold': 0.4850267189356135, 'n_iou_threshold': 0.37124729356020936}. Best is trial 0 with value: 0.2842940606208623.\n",
            "/usr/local/lib/python3.11/dist-packages/torch/nn/init.py:511: UserWarning: Initializing zero-element tensors is a no-op\n",
            "  warnings.warn(\"Initializing zero-element tensors is a no-op\")\n"
          ]
        },
        {
          "output_type": "display_data",
          "data": {
            "text/plain": [
              "<IPython.core.display.HTML object>"
            ],
            "text/html": [
              "Tracking run with wandb version 0.21.0"
            ]
          },
          "metadata": {}
        },
        {
          "output_type": "display_data",
          "data": {
            "text/plain": [
              "<IPython.core.display.HTML object>"
            ],
            "text/html": [
              "Run data is saved locally in <code>/content/wandb/run-20250810_113344-5az975k7</code>"
            ]
          },
          "metadata": {}
        },
        {
          "output_type": "display_data",
          "data": {
            "text/plain": [
              "<IPython.core.display.HTML object>"
            ],
            "text/html": [
              "Syncing run <strong><a href='https://wandb.ai/mehmeteminuludag-kirikkale-university/StajProjesi/runs/5az975k7' target=\"_blank\">different-surf-259</a></strong> to <a href='https://wandb.ai/mehmeteminuludag-kirikkale-university/StajProjesi' target=\"_blank\">Weights & Biases</a> (<a href='https://wandb.me/developer-guide' target=\"_blank\">docs</a>)<br>"
            ]
          },
          "metadata": {}
        },
        {
          "output_type": "display_data",
          "data": {
            "text/plain": [
              "<IPython.core.display.HTML object>"
            ],
            "text/html": [
              " View project at <a href='https://wandb.ai/mehmeteminuludag-kirikkale-university/StajProjesi' target=\"_blank\">https://wandb.ai/mehmeteminuludag-kirikkale-university/StajProjesi</a>"
            ]
          },
          "metadata": {}
        },
        {
          "output_type": "display_data",
          "data": {
            "text/plain": [
              "<IPython.core.display.HTML object>"
            ],
            "text/html": [
              " View run at <a href='https://wandb.ai/mehmeteminuludag-kirikkale-university/StajProjesi/runs/5az975k7' target=\"_blank\">https://wandb.ai/mehmeteminuludag-kirikkale-university/StajProjesi/runs/5az975k7</a>"
            ]
          },
          "metadata": {}
        },
        {
          "output_type": "stream",
          "name": "stderr",
          "text": [
            "Epoch 1/10 Train: 100%|██████████| 310/310 [03:24<00:00,  1.52it/s, Acc=0.590, ClsLoss=0.214, F1=0.572, RMSE=0.052, mAP=0.371, TotalLoss=0.284]\n",
            "Epoch 1/10 Validation: 100%|██████████| 78/78 [00:17<00:00,  4.35it/s, Acc=0.602, ClsLoss=0.280, F1=0.549, RMSE=0.034, mAP=0.424, TotalLoss=0.408]\n",
            "Epoch 2/10 Train: 100%|██████████| 310/310 [03:24<00:00,  1.52it/s, Acc=0.629, ClsLoss=0.148, F1=0.582, RMSE=0.035, mAP=0.396, TotalLoss=0.164]\n",
            "Epoch 2/10 Validation: 100%|██████████| 78/78 [00:17<00:00,  4.35it/s, Acc=0.607, ClsLoss=0.157, F1=0.556, RMSE=0.034, mAP=0.396, TotalLoss=0.165]\n",
            "Epoch 3/10 Train: 100%|██████████| 310/310 [03:23<00:00,  1.52it/s, Acc=0.640, ClsLoss=0.141, F1=0.605, RMSE=0.035, mAP=0.428, TotalLoss=0.154]\n",
            "Epoch 3/10 Validation: 100%|██████████| 78/78 [00:17<00:00,  4.35it/s, Acc=0.612, ClsLoss=0.151, F1=0.567, RMSE=0.033, mAP=0.394, TotalLoss=0.158]\n",
            "Epoch 4/10 Train: 100%|██████████| 310/310 [03:23<00:00,  1.52it/s, Acc=0.668, ClsLoss=0.116, F1=0.648, RMSE=0.035, mAP=0.449, TotalLoss=0.127]\n",
            "Epoch 4/10 Validation: 100%|██████████| 78/78 [00:17<00:00,  4.34it/s, Acc=0.610, ClsLoss=0.156, F1=0.572, RMSE=0.034, mAP=0.406, TotalLoss=0.163]\n",
            "Epoch 5/10 Train: 100%|██████████| 310/310 [03:23<00:00,  1.52it/s, Acc=0.695, ClsLoss=0.099, F1=0.685, RMSE=0.035, mAP=0.486, TotalLoss=0.114]\n",
            "Epoch 5/10 Validation: 100%|██████████| 78/78 [00:17<00:00,  4.35it/s, Acc=0.610, ClsLoss=0.147, F1=0.584, RMSE=0.033, mAP=0.412, TotalLoss=0.156]\n",
            "Epoch 6/10 Train: 100%|██████████| 310/310 [03:23<00:00,  1.52it/s, Acc=0.741, ClsLoss=0.078, F1=0.738, RMSE=0.035, mAP=0.540, TotalLoss=0.095]\n",
            "Epoch 6/10 Validation: 100%|██████████| 78/78 [00:17<00:00,  4.35it/s, Acc=0.614, ClsLoss=0.136, F1=0.605, RMSE=0.034, mAP=0.420, TotalLoss=0.145]\n",
            "Epoch 7/10 Train: 100%|██████████| 310/310 [03:23<00:00,  1.52it/s, Acc=0.774, ClsLoss=0.063, F1=0.776, RMSE=0.035, mAP=0.581, TotalLoss=0.079]\n",
            "Epoch 7/10 Validation: 100%|██████████| 78/78 [00:17<00:00,  4.35it/s, Acc=0.611, ClsLoss=0.150, F1=0.609, RMSE=0.035, mAP=0.448, TotalLoss=0.157]\n",
            "Epoch 8/10 Train: 100%|██████████| 310/310 [03:23<00:00,  1.52it/s, Acc=0.798, ClsLoss=0.055, F1=0.801, RMSE=0.035, mAP=0.612, TotalLoss=0.072]\n",
            "Epoch 8/10 Validation: 100%|██████████| 78/78 [00:17<00:00,  4.35it/s, Acc=0.598, ClsLoss=0.146, F1=0.611, RMSE=0.035, mAP=0.459, TotalLoss=0.155]\n",
            "Epoch 9/10 Train: 100%|██████████| 310/310 [03:23<00:00,  1.52it/s, Acc=0.812, ClsLoss=0.046, F1=0.820, RMSE=0.035, mAP=0.643, TotalLoss=0.063]\n",
            "Epoch 9/10 Validation: 100%|██████████| 78/78 [00:17<00:00,  4.35it/s, Acc=0.590, ClsLoss=0.159, F1=0.600, RMSE=0.034, mAP=0.459, TotalLoss=0.168]\n",
            "Epoch 10/10 Train: 100%|██████████| 310/310 [03:24<00:00,  1.52it/s, Acc=0.834, ClsLoss=0.035, F1=0.840, RMSE=0.035, mAP=0.667, TotalLoss=0.052]\n",
            "Epoch 10/10 Validation: 100%|██████████| 78/78 [00:17<00:00,  4.34it/s, Acc=0.634, ClsLoss=0.151, F1=0.649, RMSE=0.038, mAP=0.500, TotalLoss=0.157]\n"
          ]
        },
        {
          "output_type": "display_data",
          "data": {
            "text/plain": [
              "<IPython.core.display.HTML object>"
            ],
            "text/html": []
          },
          "metadata": {}
        },
        {
          "output_type": "display_data",
          "data": {
            "text/plain": [
              "<IPython.core.display.HTML object>"
            ],
            "text/html": [
              "<br>    <style><br>        .wandb-row {<br>            display: flex;<br>            flex-direction: row;<br>            flex-wrap: wrap;<br>            justify-content: flex-start;<br>            width: 100%;<br>        }<br>        .wandb-col {<br>            display: flex;<br>            flex-direction: column;<br>            flex-basis: 100%;<br>            flex: 1;<br>            padding: 10px;<br>        }<br>    </style><br><div class=\"wandb-row\"><div class=\"wandb-col\"><h3>Run history:</h3><br/><table class=\"wandb\"><tr><td>train/accuracy</td><td>▁▂▂▃▄▅▆▇▇█</td></tr><tr><td>train/classification_loss</td><td>█▅▅▄▄▃▂▂▁▁</td></tr><tr><td>train/f1_score</td><td>▁▁▂▃▄▅▆▇▇█</td></tr><tr><td>train/map</td><td>▁▂▂▃▄▅▆▇▇█</td></tr><tr><td>train/rmse</td><td>█▁▁▁▁▁▁▁▁▁</td></tr><tr><td>val/accuracy</td><td>▃▄▄▄▄▅▄▂▁█</td></tr><tr><td>val/classification_loss</td><td>█▂▂▂▂▁▂▁▂▂</td></tr><tr><td>val/f1_score</td><td>▁▂▂▃▃▅▅▅▅█</td></tr><tr><td>val/map</td><td>▃▁▁▂▂▃▅▅▅█</td></tr><tr><td>val/rmse</td><td>▁▁▁▂▁▂▃▄▃█</td></tr></table><br/></div><div class=\"wandb-col\"><h3>Run summary:</h3><br/><table class=\"wandb\"><tr><td>train/accuracy</td><td>0.83368</td></tr><tr><td>train/classification_loss</td><td>0.03473</td></tr><tr><td>train/f1_score</td><td>0.84006</td></tr><tr><td>train/map</td><td>0.6673</td></tr><tr><td>train/rmse</td><td>0.03535</td></tr><tr><td>val/accuracy</td><td>0.6338</td></tr><tr><td>val/classification_loss</td><td>0.15147</td></tr><tr><td>val/f1_score</td><td>0.64881</td></tr><tr><td>val/map</td><td>0.4997</td></tr><tr><td>val/rmse</td><td>0.0382</td></tr></table><br/></div></div>"
            ]
          },
          "metadata": {}
        },
        {
          "output_type": "display_data",
          "data": {
            "text/plain": [
              "<IPython.core.display.HTML object>"
            ],
            "text/html": [
              " View run <strong style=\"color:#cdcd00\">different-surf-259</strong> at: <a href='https://wandb.ai/mehmeteminuludag-kirikkale-university/StajProjesi/runs/5az975k7' target=\"_blank\">https://wandb.ai/mehmeteminuludag-kirikkale-university/StajProjesi/runs/5az975k7</a><br> View project at: <a href='https://wandb.ai/mehmeteminuludag-kirikkale-university/StajProjesi' target=\"_blank\">https://wandb.ai/mehmeteminuludag-kirikkale-university/StajProjesi</a><br>Synced 5 W&B file(s), 0 media file(s), 0 artifact file(s) and 0 other file(s)"
            ]
          },
          "metadata": {}
        },
        {
          "output_type": "display_data",
          "data": {
            "text/plain": [
              "<IPython.core.display.HTML object>"
            ],
            "text/html": [
              "Find logs at: <code>./wandb/run-20250810_113344-5az975k7/logs</code>"
            ]
          },
          "metadata": {}
        },
        {
          "output_type": "stream",
          "name": "stderr",
          "text": [
            "[I 2025-08-10 12:10:47,367] Trial 1 finished with value: 0.14495912502155614 and parameters: {'learning_rate': 0.0007471321366266431, 'classification_weight': 0.894964860659696, 'regression_weight': 0.9581203843332198, 'detection_depth_weight': 0.3681244097839771, 'depth_map_weight': 0.16955074782499602, 'p_iou_threshold': 0.4636327974735715, 'n_iou_threshold': 0.3055644209541635}. Best is trial 1 with value: 0.14495912502155614.\n",
            "/usr/local/lib/python3.11/dist-packages/torch/nn/init.py:511: UserWarning: Initializing zero-element tensors is a no-op\n",
            "  warnings.warn(\"Initializing zero-element tensors is a no-op\")\n"
          ]
        },
        {
          "output_type": "display_data",
          "data": {
            "text/plain": [
              "<IPython.core.display.HTML object>"
            ],
            "text/html": [
              "Tracking run with wandb version 0.21.0"
            ]
          },
          "metadata": {}
        },
        {
          "output_type": "display_data",
          "data": {
            "text/plain": [
              "<IPython.core.display.HTML object>"
            ],
            "text/html": [
              "Run data is saved locally in <code>/content/wandb/run-20250810_121047-izw3bk8f</code>"
            ]
          },
          "metadata": {}
        },
        {
          "output_type": "display_data",
          "data": {
            "text/plain": [
              "<IPython.core.display.HTML object>"
            ],
            "text/html": [
              "Syncing run <strong><a href='https://wandb.ai/mehmeteminuludag-kirikkale-university/StajProjesi/runs/izw3bk8f' target=\"_blank\">atomic-water-260</a></strong> to <a href='https://wandb.ai/mehmeteminuludag-kirikkale-university/StajProjesi' target=\"_blank\">Weights & Biases</a> (<a href='https://wandb.me/developer-guide' target=\"_blank\">docs</a>)<br>"
            ]
          },
          "metadata": {}
        },
        {
          "output_type": "display_data",
          "data": {
            "text/plain": [
              "<IPython.core.display.HTML object>"
            ],
            "text/html": [
              " View project at <a href='https://wandb.ai/mehmeteminuludag-kirikkale-university/StajProjesi' target=\"_blank\">https://wandb.ai/mehmeteminuludag-kirikkale-university/StajProjesi</a>"
            ]
          },
          "metadata": {}
        },
        {
          "output_type": "display_data",
          "data": {
            "text/plain": [
              "<IPython.core.display.HTML object>"
            ],
            "text/html": [
              " View run at <a href='https://wandb.ai/mehmeteminuludag-kirikkale-university/StajProjesi/runs/izw3bk8f' target=\"_blank\">https://wandb.ai/mehmeteminuludag-kirikkale-university/StajProjesi/runs/izw3bk8f</a>"
            ]
          },
          "metadata": {}
        },
        {
          "output_type": "stream",
          "name": "stderr",
          "text": [
            "Epoch 1/10 Train: 100%|██████████| 310/310 [03:24<00:00,  1.52it/s, Acc=0.619, ClsLoss=0.208, F1=0.568, RMSE=0.053, mAP=0.357, TotalLoss=0.285]\n",
            "Epoch 1/10 Validation: 100%|██████████| 78/78 [00:17<00:00,  4.35it/s, Acc=0.592, ClsLoss=0.158, F1=0.544, RMSE=0.033, mAP=0.333, TotalLoss=0.204]\n",
            "Epoch 2/10 Train: 100%|██████████| 310/310 [03:24<00:00,  1.51it/s, Acc=0.640, ClsLoss=0.135, F1=0.600, RMSE=0.035, mAP=0.406, TotalLoss=0.178]\n",
            "Epoch 2/10 Validation: 100%|██████████| 78/78 [00:17<00:00,  4.35it/s, Acc=0.611, ClsLoss=0.148, F1=0.563, RMSE=0.036, mAP=0.383, TotalLoss=0.189]\n",
            "Epoch 3/10 Train: 100%|██████████| 310/310 [03:24<00:00,  1.52it/s, Acc=0.676, ClsLoss=0.112, F1=0.660, RMSE=0.035, mAP=0.454, TotalLoss=0.153]\n",
            "Epoch 3/10 Validation: 100%|██████████| 78/78 [00:17<00:00,  4.35it/s, Acc=0.614, ClsLoss=0.149, F1=0.575, RMSE=0.034, mAP=0.428, TotalLoss=0.191]\n",
            "Epoch 4/10 Train: 100%|██████████| 310/310 [03:23<00:00,  1.52it/s, Acc=0.728, ClsLoss=0.086, F1=0.726, RMSE=0.035, mAP=0.514, TotalLoss=0.128]\n",
            "Epoch 4/10 Validation: 100%|██████████| 78/78 [00:17<00:00,  4.34it/s, Acc=0.614, ClsLoss=0.144, F1=0.594, RMSE=0.035, mAP=0.430, TotalLoss=0.187]\n",
            "Epoch 5/10 Train: 100%|██████████| 310/310 [03:23<00:00,  1.52it/s, Acc=0.781, ClsLoss=0.062, F1=0.785, RMSE=0.035, mAP=0.575, TotalLoss=0.101]\n",
            "Epoch 5/10 Validation: 100%|██████████| 78/78 [00:17<00:00,  4.34it/s, Acc=0.607, ClsLoss=0.135, F1=0.603, RMSE=0.036, mAP=0.433, TotalLoss=0.177]\n",
            "Epoch 6/10 Train: 100%|██████████| 310/310 [03:24<00:00,  1.52it/s, Acc=0.821, ClsLoss=0.044, F1=0.828, RMSE=0.035, mAP=0.630, TotalLoss=0.081]\n",
            "Epoch 6/10 Validation: 100%|██████████| 78/78 [00:18<00:00,  4.33it/s, Acc=0.627, ClsLoss=0.148, F1=0.625, RMSE=0.037, mAP=0.470, TotalLoss=0.189]\n",
            "Epoch 7/10 Train: 100%|██████████| 310/310 [03:24<00:00,  1.52it/s, Acc=0.847, ClsLoss=0.032, F1=0.855, RMSE=0.035, mAP=0.675, TotalLoss=0.068]\n",
            "Epoch 7/10 Validation: 100%|██████████| 78/78 [00:17<00:00,  4.34it/s, Acc=0.609, ClsLoss=0.147, F1=0.627, RMSE=0.036, mAP=0.470, TotalLoss=0.189]\n",
            "Epoch 8/10 Train: 100%|██████████| 310/310 [03:24<00:00,  1.52it/s, Acc=0.873, ClsLoss=0.023, F1=0.880, RMSE=0.035, mAP=0.715, TotalLoss=0.055]\n",
            "Epoch 8/10 Validation: 100%|██████████| 78/78 [00:17<00:00,  4.34it/s, Acc=0.617, ClsLoss=0.149, F1=0.635, RMSE=0.035, mAP=0.491, TotalLoss=0.190]\n",
            "Epoch 9/10 Train: 100%|██████████| 310/310 [03:24<00:00,  1.52it/s, Acc=0.889, ClsLoss=0.017, F1=0.895, RMSE=0.035, mAP=0.743, TotalLoss=0.046]\n",
            "Epoch 9/10 Validation: 100%|██████████| 78/78 [00:17<00:00,  4.35it/s, Acc=0.624, ClsLoss=0.153, F1=0.641, RMSE=0.034, mAP=0.522, TotalLoss=0.194]\n",
            "Epoch 10/10 Train: 100%|██████████| 310/310 [03:23<00:00,  1.52it/s, Acc=0.900, ClsLoss=0.013, F1=0.906, RMSE=0.035, mAP=0.767, TotalLoss=0.041]\n",
            "Epoch 10/10 Validation: 100%|██████████| 78/78 [00:17<00:00,  4.34it/s, Acc=0.641, ClsLoss=0.155, F1=0.657, RMSE=0.034, mAP=0.528, TotalLoss=0.194]\n"
          ]
        },
        {
          "output_type": "display_data",
          "data": {
            "text/plain": [
              "<IPython.core.display.HTML object>"
            ],
            "text/html": []
          },
          "metadata": {}
        },
        {
          "output_type": "display_data",
          "data": {
            "text/plain": [
              "<IPython.core.display.HTML object>"
            ],
            "text/html": [
              "<br>    <style><br>        .wandb-row {<br>            display: flex;<br>            flex-direction: row;<br>            flex-wrap: wrap;<br>            justify-content: flex-start;<br>            width: 100%;<br>        }<br>        .wandb-col {<br>            display: flex;<br>            flex-direction: column;<br>            flex-basis: 100%;<br>            flex: 1;<br>            padding: 10px;<br>        }<br>    </style><br><div class=\"wandb-row\"><div class=\"wandb-col\"><h3>Run history:</h3><br/><table class=\"wandb\"><tr><td>train/accuracy</td><td>▁▂▂▄▅▆▇▇██</td></tr><tr><td>train/classification_loss</td><td>█▅▅▄▃▂▂▁▁▁</td></tr><tr><td>train/f1_score</td><td>▁▂▃▄▅▆▇▇██</td></tr><tr><td>train/map</td><td>▁▂▃▄▅▆▆▇██</td></tr><tr><td>train/rmse</td><td>█▁▁▁▁▁▁▁▁▁</td></tr><tr><td>val/accuracy</td><td>▁▄▄▄▃▆▄▅▆█</td></tr><tr><td>val/classification_loss</td><td>█▅▅▄▁▅▅▅▆▇</td></tr><tr><td>val/f1_score</td><td>▁▂▃▄▅▆▆▇▇█</td></tr><tr><td>val/map</td><td>▁▃▄▄▅▆▆▇██</td></tr><tr><td>val/rmse</td><td>▁▆▂▃▅█▅▃▃▂</td></tr></table><br/></div><div class=\"wandb-col\"><h3>Run summary:</h3><br/><table class=\"wandb\"><tr><td>train/accuracy</td><td>0.90031</td></tr><tr><td>train/classification_loss</td><td>0.01315</td></tr><tr><td>train/f1_score</td><td>0.90552</td></tr><tr><td>train/map</td><td>0.76721</td></tr><tr><td>train/rmse</td><td>0.03504</td></tr><tr><td>val/accuracy</td><td>0.64058</td></tr><tr><td>val/classification_loss</td><td>0.15541</td></tr><tr><td>val/f1_score</td><td>0.65725</td></tr><tr><td>val/map</td><td>0.52769</td></tr><tr><td>val/rmse</td><td>0.03363</td></tr></table><br/></div></div>"
            ]
          },
          "metadata": {}
        },
        {
          "output_type": "display_data",
          "data": {
            "text/plain": [
              "<IPython.core.display.HTML object>"
            ],
            "text/html": [
              " View run <strong style=\"color:#cdcd00\">atomic-water-260</strong> at: <a href='https://wandb.ai/mehmeteminuludag-kirikkale-university/StajProjesi/runs/izw3bk8f' target=\"_blank\">https://wandb.ai/mehmeteminuludag-kirikkale-university/StajProjesi/runs/izw3bk8f</a><br> View project at: <a href='https://wandb.ai/mehmeteminuludag-kirikkale-university/StajProjesi' target=\"_blank\">https://wandb.ai/mehmeteminuludag-kirikkale-university/StajProjesi</a><br>Synced 5 W&B file(s), 0 media file(s), 0 artifact file(s) and 0 other file(s)"
            ]
          },
          "metadata": {}
        },
        {
          "output_type": "display_data",
          "data": {
            "text/plain": [
              "<IPython.core.display.HTML object>"
            ],
            "text/html": [
              "Find logs at: <code>./wandb/run-20250810_121047-izw3bk8f/logs</code>"
            ]
          },
          "metadata": {}
        },
        {
          "output_type": "stream",
          "name": "stderr",
          "text": [
            "[I 2025-08-10 12:47:54,009] Trial 2 finished with value: 0.1768098289363619 and parameters: {'learning_rate': 0.0004383436386931138, 'classification_weight': 0.9778428158846735, 'regression_weight': 1.5646503945581236, 'detection_depth_weight': 0.1316630576881649, 'depth_map_weight': 0.45271247157656114, 'p_iou_threshold': 0.4246966500363821, 'n_iou_threshold': 0.20442134435009027}. Best is trial 1 with value: 0.14495912502155614.\n",
            "/usr/local/lib/python3.11/dist-packages/torch/nn/init.py:511: UserWarning: Initializing zero-element tensors is a no-op\n",
            "  warnings.warn(\"Initializing zero-element tensors is a no-op\")\n"
          ]
        },
        {
          "output_type": "display_data",
          "data": {
            "text/plain": [
              "<IPython.core.display.HTML object>"
            ],
            "text/html": [
              "Tracking run with wandb version 0.21.0"
            ]
          },
          "metadata": {}
        },
        {
          "output_type": "display_data",
          "data": {
            "text/plain": [
              "<IPython.core.display.HTML object>"
            ],
            "text/html": [
              "Run data is saved locally in <code>/content/wandb/run-20250810_124754-wrblp2rj</code>"
            ]
          },
          "metadata": {}
        },
        {
          "output_type": "display_data",
          "data": {
            "text/plain": [
              "<IPython.core.display.HTML object>"
            ],
            "text/html": [
              "Syncing run <strong><a href='https://wandb.ai/mehmeteminuludag-kirikkale-university/StajProjesi/runs/wrblp2rj' target=\"_blank\">lemon-elevator-261</a></strong> to <a href='https://wandb.ai/mehmeteminuludag-kirikkale-university/StajProjesi' target=\"_blank\">Weights & Biases</a> (<a href='https://wandb.me/developer-guide' target=\"_blank\">docs</a>)<br>"
            ]
          },
          "metadata": {}
        },
        {
          "output_type": "display_data",
          "data": {
            "text/plain": [
              "<IPython.core.display.HTML object>"
            ],
            "text/html": [
              " View project at <a href='https://wandb.ai/mehmeteminuludag-kirikkale-university/StajProjesi' target=\"_blank\">https://wandb.ai/mehmeteminuludag-kirikkale-university/StajProjesi</a>"
            ]
          },
          "metadata": {}
        },
        {
          "output_type": "display_data",
          "data": {
            "text/plain": [
              "<IPython.core.display.HTML object>"
            ],
            "text/html": [
              " View run at <a href='https://wandb.ai/mehmeteminuludag-kirikkale-university/StajProjesi/runs/wrblp2rj' target=\"_blank\">https://wandb.ai/mehmeteminuludag-kirikkale-university/StajProjesi/runs/wrblp2rj</a>"
            ]
          },
          "metadata": {}
        },
        {
          "output_type": "stream",
          "name": "stderr",
          "text": [
            "Epoch 1/10 Train: 100%|██████████| 310/310 [03:26<00:00,  1.50it/s, Acc=0.350, ClsLoss=0.509, F1=0.417, RMSE=0.297, mAP=0.144, TotalLoss=0.734]\n",
            "Epoch 1/10 Validation: 100%|██████████| 78/78 [00:17<00:00,  4.34it/s, Acc=0.470, ClsLoss=0.335, F1=0.488, RMSE=0.163, mAP=0.157, TotalLoss=0.502]\n",
            "Epoch 2/10 Train: 100%|██████████| 310/310 [03:26<00:00,  1.50it/s, Acc=0.579, ClsLoss=0.308, F1=0.556, RMSE=0.109, mAP=0.175, TotalLoss=0.458]\n",
            "Epoch 2/10 Validation: 100%|██████████| 78/78 [00:18<00:00,  4.33it/s, Acc=0.579, ClsLoss=0.294, F1=0.531, RMSE=0.078, mAP=0.186, TotalLoss=0.439]\n",
            "Epoch 3/10 Train: 100%|██████████| 310/310 [03:26<00:00,  1.50it/s, Acc=0.626, ClsLoss=0.252, F1=0.578, RMSE=0.060, mAP=0.221, TotalLoss=0.382]\n",
            "Epoch 3/10 Validation: 100%|██████████| 78/78 [00:18<00:00,  4.33it/s, Acc=0.593, ClsLoss=0.244, F1=0.535, RMSE=0.052, mAP=0.237, TotalLoss=0.375]\n",
            "Epoch 4/10 Train: 100%|██████████| 310/310 [03:26<00:00,  1.50it/s, Acc=0.632, ClsLoss=0.204, F1=0.579, RMSE=0.045, mAP=0.282, TotalLoss=0.318]\n",
            "Epoch 4/10 Validation: 100%|██████████| 78/78 [00:18<00:00,  4.32it/s, Acc=0.597, ClsLoss=0.214, F1=0.530, RMSE=0.042, mAP=0.293, TotalLoss=0.335]\n",
            "Epoch 5/10 Train: 100%|██████████| 310/310 [03:26<00:00,  1.50it/s, Acc=0.637, ClsLoss=0.179, F1=0.582, RMSE=0.038, mAP=0.337, TotalLoss=0.283]\n",
            "Epoch 5/10 Validation: 100%|██████████| 78/78 [00:18<00:00,  4.33it/s, Acc=0.598, ClsLoss=0.202, F1=0.534, RMSE=0.038, mAP=0.332, TotalLoss=0.316]\n",
            "Epoch 6/10 Train: 100%|██████████| 310/310 [03:25<00:00,  1.51it/s, Acc=0.639, ClsLoss=0.166, F1=0.585, RMSE=0.036, mAP=0.373, TotalLoss=0.263]\n",
            "Epoch 6/10 Validation: 100%|██████████| 78/78 [00:18<00:00,  4.32it/s, Acc=0.598, ClsLoss=0.198, F1=0.533, RMSE=0.036, mAP=0.355, TotalLoss=0.307]\n",
            "Epoch 7/10 Train: 100%|██████████| 310/310 [03:26<00:00,  1.50it/s, Acc=0.645, ClsLoss=0.158, F1=0.594, RMSE=0.035, mAP=0.394, TotalLoss=0.249]\n",
            "Epoch 7/10 Validation: 100%|██████████| 78/78 [00:17<00:00,  4.33it/s, Acc=0.599, ClsLoss=0.197, F1=0.531, RMSE=0.035, mAP=0.375, TotalLoss=0.302]\n",
            "Epoch 8/10 Train: 100%|██████████| 310/310 [03:26<00:00,  1.50it/s, Acc=0.648, ClsLoss=0.152, F1=0.595, RMSE=0.035, mAP=0.416, TotalLoss=0.240]\n",
            "Epoch 8/10 Validation: 100%|██████████| 78/78 [00:18<00:00,  4.33it/s, Acc=0.599, ClsLoss=0.196, F1=0.533, RMSE=0.035, mAP=0.380, TotalLoss=0.302]\n",
            "Epoch 9/10 Train: 100%|██████████| 310/310 [03:25<00:00,  1.50it/s, Acc=0.650, ClsLoss=0.149, F1=0.601, RMSE=0.035, mAP=0.421, TotalLoss=0.235]\n",
            "Epoch 9/10 Validation: 100%|██████████| 78/78 [00:18<00:00,  4.33it/s, Acc=0.594, ClsLoss=0.196, F1=0.532, RMSE=0.035, mAP=0.386, TotalLoss=0.300]\n",
            "Epoch 10/10 Train: 100%|██████████| 310/310 [03:26<00:00,  1.50it/s, Acc=0.662, ClsLoss=0.144, F1=0.616, RMSE=0.035, mAP=0.432, TotalLoss=0.227]\n",
            "Epoch 10/10 Validation: 100%|██████████| 78/78 [00:18<00:00,  4.33it/s, Acc=0.601, ClsLoss=0.199, F1=0.539, RMSE=0.035, mAP=0.396, TotalLoss=0.302]\n"
          ]
        },
        {
          "output_type": "display_data",
          "data": {
            "text/plain": [
              "<IPython.core.display.HTML object>"
            ],
            "text/html": []
          },
          "metadata": {}
        },
        {
          "output_type": "display_data",
          "data": {
            "text/plain": [
              "<IPython.core.display.HTML object>"
            ],
            "text/html": [
              "<br>    <style><br>        .wandb-row {<br>            display: flex;<br>            flex-direction: row;<br>            flex-wrap: wrap;<br>            justify-content: flex-start;<br>            width: 100%;<br>        }<br>        .wandb-col {<br>            display: flex;<br>            flex-direction: column;<br>            flex-basis: 100%;<br>            flex: 1;<br>            padding: 10px;<br>        }<br>    </style><br><div class=\"wandb-row\"><div class=\"wandb-col\"><h3>Run history:</h3><br/><table class=\"wandb\"><tr><td>train/accuracy</td><td>▁▆▇▇▇▇████</td></tr><tr><td>train/classification_loss</td><td>█▄▃▂▂▁▁▁▁▁</td></tr><tr><td>train/f1_score</td><td>▁▆▇▇▇▇▇▇▇█</td></tr><tr><td>train/map</td><td>▁▂▃▄▆▇▇███</td></tr><tr><td>train/rmse</td><td>█▃▂▁▁▁▁▁▁▁</td></tr><tr><td>val/accuracy</td><td>▁▇████████</td></tr><tr><td>val/classification_loss</td><td>█▆▃▂▁▁▁▁▁▁</td></tr><tr><td>val/f1_score</td><td>▁▇█▇▇▇▇▇▇█</td></tr><tr><td>val/map</td><td>▁▂▃▅▆▇▇███</td></tr><tr><td>val/rmse</td><td>█▃▂▁▁▁▁▁▁▁</td></tr></table><br/></div><div class=\"wandb-col\"><h3>Run summary:</h3><br/><table class=\"wandb\"><tr><td>train/accuracy</td><td>0.66206</td></tr><tr><td>train/classification_loss</td><td>0.14438</td></tr><tr><td>train/f1_score</td><td>0.61562</td></tr><tr><td>train/map</td><td>0.43161</td></tr><tr><td>train/rmse</td><td>0.03522</td></tr><tr><td>val/accuracy</td><td>0.6012</td></tr><tr><td>val/classification_loss</td><td>0.19904</td></tr><tr><td>val/f1_score</td><td>0.53866</td></tr><tr><td>val/map</td><td>0.39592</td></tr><tr><td>val/rmse</td><td>0.03509</td></tr></table><br/></div></div>"
            ]
          },
          "metadata": {}
        },
        {
          "output_type": "display_data",
          "data": {
            "text/plain": [
              "<IPython.core.display.HTML object>"
            ],
            "text/html": [
              " View run <strong style=\"color:#cdcd00\">lemon-elevator-261</strong> at: <a href='https://wandb.ai/mehmeteminuludag-kirikkale-university/StajProjesi/runs/wrblp2rj' target=\"_blank\">https://wandb.ai/mehmeteminuludag-kirikkale-university/StajProjesi/runs/wrblp2rj</a><br> View project at: <a href='https://wandb.ai/mehmeteminuludag-kirikkale-university/StajProjesi' target=\"_blank\">https://wandb.ai/mehmeteminuludag-kirikkale-university/StajProjesi</a><br>Synced 5 W&B file(s), 0 media file(s), 0 artifact file(s) and 0 other file(s)"
            ]
          },
          "metadata": {}
        },
        {
          "output_type": "display_data",
          "data": {
            "text/plain": [
              "<IPython.core.display.HTML object>"
            ],
            "text/html": [
              "Find logs at: <code>./wandb/run-20250810_124754-wrblp2rj/logs</code>"
            ]
          },
          "metadata": {}
        },
        {
          "output_type": "stream",
          "name": "stderr",
          "text": [
            "[I 2025-08-10 13:25:23,928] Trial 3 finished with value: 0.299515854150321 and parameters: {'learning_rate': 1.3092236702298259e-05, 'classification_weight': 1.1200717972144119, 'regression_weight': 1.8764722801744818, 'detection_depth_weight': 0.16208250320848913, 'depth_map_weight': 0.44876776775996907, 'p_iou_threshold': 0.3811806409161767, 'n_iou_threshold': 0.18506326211030605}. Best is trial 1 with value: 0.14495912502155614.\n",
            "/usr/local/lib/python3.11/dist-packages/torch/nn/init.py:511: UserWarning: Initializing zero-element tensors is a no-op\n",
            "  warnings.warn(\"Initializing zero-element tensors is a no-op\")\n"
          ]
        },
        {
          "output_type": "display_data",
          "data": {
            "text/plain": [
              "<IPython.core.display.HTML object>"
            ],
            "text/html": [
              "Tracking run with wandb version 0.21.0"
            ]
          },
          "metadata": {}
        },
        {
          "output_type": "display_data",
          "data": {
            "text/plain": [
              "<IPython.core.display.HTML object>"
            ],
            "text/html": [
              "Run data is saved locally in <code>/content/wandb/run-20250810_132524-pch4wa0c</code>"
            ]
          },
          "metadata": {}
        },
        {
          "output_type": "display_data",
          "data": {
            "text/plain": [
              "<IPython.core.display.HTML object>"
            ],
            "text/html": [
              "Syncing run <strong><a href='https://wandb.ai/mehmeteminuludag-kirikkale-university/StajProjesi/runs/pch4wa0c' target=\"_blank\">misunderstood-disco-262</a></strong> to <a href='https://wandb.ai/mehmeteminuludag-kirikkale-university/StajProjesi' target=\"_blank\">Weights & Biases</a> (<a href='https://wandb.me/developer-guide' target=\"_blank\">docs</a>)<br>"
            ]
          },
          "metadata": {}
        },
        {
          "output_type": "display_data",
          "data": {
            "text/plain": [
              "<IPython.core.display.HTML object>"
            ],
            "text/html": [
              " View project at <a href='https://wandb.ai/mehmeteminuludag-kirikkale-university/StajProjesi' target=\"_blank\">https://wandb.ai/mehmeteminuludag-kirikkale-university/StajProjesi</a>"
            ]
          },
          "metadata": {}
        },
        {
          "output_type": "display_data",
          "data": {
            "text/plain": [
              "<IPython.core.display.HTML object>"
            ],
            "text/html": [
              " View run at <a href='https://wandb.ai/mehmeteminuludag-kirikkale-university/StajProjesi/runs/pch4wa0c' target=\"_blank\">https://wandb.ai/mehmeteminuludag-kirikkale-university/StajProjesi/runs/pch4wa0c</a>"
            ]
          },
          "metadata": {}
        },
        {
          "output_type": "stream",
          "name": "stderr",
          "text": [
            "Epoch 1/10 Train: 100%|██████████| 310/310 [03:07<00:00,  1.66it/s, Acc=0.351, ClsLoss=0.366, F1=0.369, RMSE=0.171, mAP=0.124, TotalLoss=0.657]\n",
            "Epoch 1/10 Validation: 100%|██████████| 78/78 [00:17<00:00,  4.35it/s, Acc=0.426, ClsLoss=0.191, F1=0.424, RMSE=0.059, mAP=0.157, TotalLoss=0.341]\n",
            "Epoch 2/10 Train: 100%|██████████| 310/310 [03:07<00:00,  1.65it/s, Acc=0.468, ClsLoss=0.164, F1=0.473, RMSE=0.043, mAP=0.239, TotalLoss=0.300]\n",
            "Epoch 2/10 Validation: 100%|██████████| 78/78 [00:17<00:00,  4.35it/s, Acc=0.456, ClsLoss=0.155, F1=0.452, RMSE=0.037, mAP=0.226, TotalLoss=0.279]\n",
            "Epoch 3/10 Train: 100%|██████████| 310/310 [03:07<00:00,  1.66it/s, Acc=0.489, ClsLoss=0.138, F1=0.490, RMSE=0.035, mAP=0.314, TotalLoss=0.255]\n",
            "Epoch 3/10 Validation: 100%|██████████| 78/78 [00:17<00:00,  4.36it/s, Acc=0.441, ClsLoss=0.158, F1=0.438, RMSE=0.034, mAP=0.271, TotalLoss=0.289]\n",
            "Epoch 4/10 Train: 100%|██████████| 310/310 [03:06<00:00,  1.66it/s, Acc=0.531, ClsLoss=0.100, F1=0.534, RMSE=0.035, mAP=0.368, TotalLoss=0.191]\n",
            "Epoch 4/10 Validation: 100%|██████████| 78/78 [00:17<00:00,  4.36it/s, Acc=0.437, ClsLoss=0.138, F1=0.434, RMSE=0.035, mAP=0.298, TotalLoss=0.248]\n",
            "Epoch 5/10 Train: 100%|██████████| 310/310 [03:07<00:00,  1.66it/s, Acc=0.554, ClsLoss=0.083, F1=0.555, RMSE=0.035, mAP=0.401, TotalLoss=0.157]\n",
            "Epoch 5/10 Validation: 100%|██████████| 78/78 [00:17<00:00,  4.36it/s, Acc=0.490, ClsLoss=0.120, F1=0.491, RMSE=0.035, mAP=0.335, TotalLoss=0.219]\n",
            "Epoch 6/10 Train: 100%|██████████| 310/310 [03:06<00:00,  1.66it/s, Acc=0.560, ClsLoss=0.065, F1=0.556, RMSE=0.035, mAP=0.435, TotalLoss=0.127]\n",
            "Epoch 6/10 Validation: 100%|██████████| 78/78 [00:17<00:00,  4.36it/s, Acc=0.518, ClsLoss=0.106, F1=0.512, RMSE=0.035, mAP=0.357, TotalLoss=0.194]\n",
            "Epoch 7/10 Train: 100%|██████████| 310/310 [03:06<00:00,  1.66it/s, Acc=0.579, ClsLoss=0.064, F1=0.577, RMSE=0.035, mAP=0.467, TotalLoss=0.123]\n",
            "Epoch 7/10 Validation: 100%|██████████| 78/78 [00:17<00:00,  4.36it/s, Acc=0.514, ClsLoss=0.102, F1=0.512, RMSE=0.034, mAP=0.392, TotalLoss=0.186]\n",
            "Epoch 8/10 Train: 100%|██████████| 310/310 [03:07<00:00,  1.65it/s, Acc=0.586, ClsLoss=0.058, F1=0.585, RMSE=0.035, mAP=0.480, TotalLoss=0.113]\n",
            "Epoch 8/10 Validation: 100%|██████████| 78/78 [00:17<00:00,  4.36it/s, Acc=0.494, ClsLoss=0.173, F1=0.484, RMSE=0.035, mAP=0.391, TotalLoss=0.306]\n",
            "Epoch 9/10 Train: 100%|██████████| 310/310 [03:07<00:00,  1.66it/s, Acc=0.600, ClsLoss=0.053, F1=0.593, RMSE=0.035, mAP=0.500, TotalLoss=0.102]\n",
            "Epoch 9/10 Validation: 100%|██████████| 78/78 [00:17<00:00,  4.36it/s, Acc=0.493, ClsLoss=0.101, F1=0.490, RMSE=0.035, mAP=0.414, TotalLoss=0.183]\n",
            "Epoch 10/10 Train: 100%|██████████| 310/310 [03:06<00:00,  1.66it/s, Acc=0.626, ClsLoss=0.040, F1=0.622, RMSE=0.035, mAP=0.517, TotalLoss=0.081]\n",
            "Epoch 10/10 Validation: 100%|██████████| 78/78 [00:17<00:00,  4.36it/s, Acc=0.501, ClsLoss=0.099, F1=0.493, RMSE=0.035, mAP=0.436, TotalLoss=0.179]\n"
          ]
        },
        {
          "output_type": "display_data",
          "data": {
            "text/plain": [
              "<IPython.core.display.HTML object>"
            ],
            "text/html": []
          },
          "metadata": {}
        },
        {
          "output_type": "display_data",
          "data": {
            "text/plain": [
              "<IPython.core.display.HTML object>"
            ],
            "text/html": [
              "<br>    <style><br>        .wandb-row {<br>            display: flex;<br>            flex-direction: row;<br>            flex-wrap: wrap;<br>            justify-content: flex-start;<br>            width: 100%;<br>        }<br>        .wandb-col {<br>            display: flex;<br>            flex-direction: column;<br>            flex-basis: 100%;<br>            flex: 1;<br>            padding: 10px;<br>        }<br>    </style><br><div class=\"wandb-row\"><div class=\"wandb-col\"><h3>Run history:</h3><br/><table class=\"wandb\"><tr><td>train/accuracy</td><td>▁▄▄▆▆▆▇▇▇█</td></tr><tr><td>train/classification_loss</td><td>█▄▃▂▂▂▂▁▁▁</td></tr><tr><td>train/f1_score</td><td>▁▄▄▆▆▆▇▇▇█</td></tr><tr><td>train/map</td><td>▁▃▄▅▆▇▇▇██</td></tr><tr><td>train/rmse</td><td>█▁▁▁▁▁▁▁▁▁</td></tr><tr><td>val/accuracy</td><td>▁▃▂▂▆██▆▆▇</td></tr><tr><td>val/classification_loss</td><td>█▅▅▄▃▂▁▇▁▁</td></tr><tr><td>val/f1_score</td><td>▁▃▂▂▆██▆▆▇</td></tr><tr><td>val/map</td><td>▁▃▄▅▅▆▇▇▇█</td></tr><tr><td>val/rmse</td><td>█▂▁▁▁▁▁▁▁▁</td></tr></table><br/></div><div class=\"wandb-col\"><h3>Run summary:</h3><br/><table class=\"wandb\"><tr><td>train/accuracy</td><td>0.62587</td></tr><tr><td>train/classification_loss</td><td>0.04021</td></tr><tr><td>train/f1_score</td><td>0.62173</td></tr><tr><td>train/map</td><td>0.51676</td></tr><tr><td>train/rmse</td><td>0.03514</td></tr><tr><td>val/accuracy</td><td>0.50107</td></tr><tr><td>val/classification_loss</td><td>0.09928</td></tr><tr><td>val/f1_score</td><td>0.49343</td></tr><tr><td>val/map</td><td>0.43566</td></tr><tr><td>val/rmse</td><td>0.03516</td></tr></table><br/></div></div>"
            ]
          },
          "metadata": {}
        },
        {
          "output_type": "display_data",
          "data": {
            "text/plain": [
              "<IPython.core.display.HTML object>"
            ],
            "text/html": [
              " View run <strong style=\"color:#cdcd00\">misunderstood-disco-262</strong> at: <a href='https://wandb.ai/mehmeteminuludag-kirikkale-university/StajProjesi/runs/pch4wa0c' target=\"_blank\">https://wandb.ai/mehmeteminuludag-kirikkale-university/StajProjesi/runs/pch4wa0c</a><br> View project at: <a href='https://wandb.ai/mehmeteminuludag-kirikkale-university/StajProjesi' target=\"_blank\">https://wandb.ai/mehmeteminuludag-kirikkale-university/StajProjesi</a><br>Synced 5 W&B file(s), 0 media file(s), 0 artifact file(s) and 0 other file(s)"
            ]
          },
          "metadata": {}
        },
        {
          "output_type": "display_data",
          "data": {
            "text/plain": [
              "<IPython.core.display.HTML object>"
            ],
            "text/html": [
              "Find logs at: <code>./wandb/run-20250810_132524-pch4wa0c/logs</code>"
            ]
          },
          "metadata": {}
        },
        {
          "output_type": "stream",
          "name": "stderr",
          "text": [
            "[I 2025-08-10 13:59:40,185] Trial 4 finished with value: 0.17920076194245782 and parameters: {'learning_rate': 5.2683434322392304e-05, 'classification_weight': 1.689085662817106, 'regression_weight': 0.6915997380138458, 'detection_depth_weight': 0.3326812293599225, 'depth_map_weight': 0.2349275359485685, 'p_iou_threshold': 0.6320655811213576, 'n_iou_threshold': 0.12841288023551728}. Best is trial 1 with value: 0.14495912502155614.\n",
            "/usr/local/lib/python3.11/dist-packages/torch/nn/init.py:511: UserWarning: Initializing zero-element tensors is a no-op\n",
            "  warnings.warn(\"Initializing zero-element tensors is a no-op\")\n"
          ]
        },
        {
          "output_type": "display_data",
          "data": {
            "text/plain": [
              "<IPython.core.display.HTML object>"
            ],
            "text/html": [
              "Tracking run with wandb version 0.21.0"
            ]
          },
          "metadata": {}
        },
        {
          "output_type": "display_data",
          "data": {
            "text/plain": [
              "<IPython.core.display.HTML object>"
            ],
            "text/html": [
              "Run data is saved locally in <code>/content/wandb/run-20250810_135940-y4wf6v7b</code>"
            ]
          },
          "metadata": {}
        },
        {
          "output_type": "display_data",
          "data": {
            "text/plain": [
              "<IPython.core.display.HTML object>"
            ],
            "text/html": [
              "Syncing run <strong><a href='https://wandb.ai/mehmeteminuludag-kirikkale-university/StajProjesi/runs/y4wf6v7b' target=\"_blank\">northern-frost-263</a></strong> to <a href='https://wandb.ai/mehmeteminuludag-kirikkale-university/StajProjesi' target=\"_blank\">Weights & Biases</a> (<a href='https://wandb.me/developer-guide' target=\"_blank\">docs</a>)<br>"
            ]
          },
          "metadata": {}
        },
        {
          "output_type": "display_data",
          "data": {
            "text/plain": [
              "<IPython.core.display.HTML object>"
            ],
            "text/html": [
              " View project at <a href='https://wandb.ai/mehmeteminuludag-kirikkale-university/StajProjesi' target=\"_blank\">https://wandb.ai/mehmeteminuludag-kirikkale-university/StajProjesi</a>"
            ]
          },
          "metadata": {}
        },
        {
          "output_type": "display_data",
          "data": {
            "text/plain": [
              "<IPython.core.display.HTML object>"
            ],
            "text/html": [
              " View run at <a href='https://wandb.ai/mehmeteminuludag-kirikkale-university/StajProjesi/runs/y4wf6v7b' target=\"_blank\">https://wandb.ai/mehmeteminuludag-kirikkale-university/StajProjesi/runs/y4wf6v7b</a>"
            ]
          },
          "metadata": {}
        },
        {
          "output_type": "stream",
          "name": "stderr",
          "text": [
            "Epoch 1/10 Train: 100%|██████████| 310/310 [03:26<00:00,  1.50it/s, Acc=0.576, ClsLoss=0.264, F1=0.544, RMSE=0.094, mAP=0.304, TotalLoss=0.318]\n",
            "Epoch 1/10 Validation: 100%|██████████| 78/78 [00:18<00:00,  4.33it/s, Acc=0.595, ClsLoss=0.228, F1=0.529, RMSE=0.034, mAP=0.380, TotalLoss=0.267]\n",
            "Epoch 2/10 Train: 100%|██████████| 310/310 [03:26<00:00,  1.50it/s, Acc=0.634, ClsLoss=0.185, F1=0.581, RMSE=0.035, mAP=0.417, TotalLoss=0.218]\n",
            "Epoch 2/10 Validation: 100%|██████████| 78/78 [00:18<00:00,  4.33it/s, Acc=0.597, ClsLoss=0.246, F1=0.537, RMSE=0.035, mAP=0.397, TotalLoss=0.271]\n",
            "Epoch 3/10 Train: 100%|██████████| 310/310 [03:26<00:00,  1.50it/s, Acc=0.643, ClsLoss=0.164, F1=0.597, RMSE=0.035, mAP=0.433, TotalLoss=0.193]\n",
            "Epoch 3/10 Validation: 100%|██████████| 78/78 [00:18<00:00,  4.32it/s, Acc=0.602, ClsLoss=0.241, F1=0.547, RMSE=0.034, mAP=0.407, TotalLoss=0.265]\n",
            "Epoch 4/10 Train: 100%|██████████| 310/310 [03:26<00:00,  1.50it/s, Acc=0.664, ClsLoss=0.153, F1=0.628, RMSE=0.035, mAP=0.449, TotalLoss=0.179]\n",
            "Epoch 4/10 Validation: 100%|██████████| 78/78 [00:18<00:00,  4.33it/s, Acc=0.607, ClsLoss=0.236, F1=0.556, RMSE=0.036, mAP=0.434, TotalLoss=0.258]\n",
            "Epoch 5/10 Train: 100%|██████████| 310/310 [03:26<00:00,  1.50it/s, Acc=0.679, ClsLoss=0.137, F1=0.650, RMSE=0.035, mAP=0.474, TotalLoss=0.162]\n",
            "Epoch 5/10 Validation: 100%|██████████| 78/78 [00:18<00:00,  4.32it/s, Acc=0.619, ClsLoss=0.236, F1=0.580, RMSE=0.037, mAP=0.454, TotalLoss=0.267]\n",
            "Epoch 6/10 Train: 100%|██████████| 310/310 [03:25<00:00,  1.51it/s, Acc=0.701, ClsLoss=0.120, F1=0.688, RMSE=0.035, mAP=0.504, TotalLoss=0.147]\n",
            "Epoch 6/10 Validation: 100%|██████████| 78/78 [00:18<00:00,  4.32it/s, Acc=0.625, ClsLoss=0.226, F1=0.605, RMSE=0.034, mAP=0.439, TotalLoss=0.249]\n",
            "Epoch 7/10 Train: 100%|██████████| 310/310 [03:26<00:00,  1.50it/s, Acc=0.726, ClsLoss=0.107, F1=0.720, RMSE=0.035, mAP=0.529, TotalLoss=0.131]\n",
            "Epoch 7/10 Validation: 100%|██████████| 78/78 [00:18<00:00,  4.33it/s, Acc=0.619, ClsLoss=0.216, F1=0.596, RMSE=0.034, mAP=0.456, TotalLoss=0.240]\n",
            "Epoch 8/10 Train: 100%|██████████| 310/310 [03:25<00:00,  1.51it/s, Acc=0.764, ClsLoss=0.086, F1=0.765, RMSE=0.035, mAP=0.575, TotalLoss=0.111]\n",
            "Epoch 8/10 Validation: 100%|██████████| 78/78 [00:18<00:00,  4.33it/s, Acc=0.623, ClsLoss=0.219, F1=0.608, RMSE=0.035, mAP=0.473, TotalLoss=0.242]\n",
            "Epoch 9/10 Train: 100%|██████████| 310/310 [03:26<00:00,  1.50it/s, Acc=0.794, ClsLoss=0.070, F1=0.800, RMSE=0.035, mAP=0.610, TotalLoss=0.095]\n",
            "Epoch 9/10 Validation: 100%|██████████| 78/78 [00:18<00:00,  4.33it/s, Acc=0.607, ClsLoss=0.206, F1=0.615, RMSE=0.037, mAP=0.450, TotalLoss=0.230]\n",
            "Epoch 10/10 Train: 100%|██████████| 310/310 [03:26<00:00,  1.50it/s, Acc=0.815, ClsLoss=0.059, F1=0.825, RMSE=0.035, mAP=0.637, TotalLoss=0.084]\n",
            "Epoch 10/10 Validation: 100%|██████████| 78/78 [00:18<00:00,  4.32it/s, Acc=0.615, ClsLoss=0.204, F1=0.620, RMSE=0.035, mAP=0.471, TotalLoss=0.227]\n"
          ]
        },
        {
          "output_type": "display_data",
          "data": {
            "text/plain": [
              "<IPython.core.display.HTML object>"
            ],
            "text/html": []
          },
          "metadata": {}
        },
        {
          "output_type": "display_data",
          "data": {
            "text/plain": [
              "<IPython.core.display.HTML object>"
            ],
            "text/html": [
              "<br>    <style><br>        .wandb-row {<br>            display: flex;<br>            flex-direction: row;<br>            flex-wrap: wrap;<br>            justify-content: flex-start;<br>            width: 100%;<br>        }<br>        .wandb-col {<br>            display: flex;<br>            flex-direction: column;<br>            flex-basis: 100%;<br>            flex: 1;<br>            padding: 10px;<br>        }<br>    </style><br><div class=\"wandb-row\"><div class=\"wandb-col\"><h3>Run history:</h3><br/><table class=\"wandb\"><tr><td>train/accuracy</td><td>▁▃▃▄▄▅▅▇▇█</td></tr><tr><td>train/classification_loss</td><td>█▅▅▄▄▃▃▂▁▁</td></tr><tr><td>train/f1_score</td><td>▁▂▂▃▄▅▅▆▇█</td></tr><tr><td>train/map</td><td>▁▃▄▄▅▅▆▇▇█</td></tr><tr><td>train/rmse</td><td>█▁▁▁▁▁▁▁▁▁</td></tr><tr><td>val/accuracy</td><td>▁▂▃▄▇█▇█▄▆</td></tr><tr><td>val/classification_loss</td><td>▅█▇▆▆▅▃▃▁▁</td></tr><tr><td>val/f1_score</td><td>▁▂▂▃▅▇▆▇██</td></tr><tr><td>val/map</td><td>▁▂▃▅▇▅▇█▆█</td></tr><tr><td>val/rmse</td><td>▃▄▂▅▇▁▂▅█▃</td></tr></table><br/></div><div class=\"wandb-col\"><h3>Run summary:</h3><br/><table class=\"wandb\"><tr><td>train/accuracy</td><td>0.81526</td></tr><tr><td>train/classification_loss</td><td>0.05896</td></tr><tr><td>train/f1_score</td><td>0.825</td></tr><tr><td>train/map</td><td>0.63701</td></tr><tr><td>train/rmse</td><td>0.03545</td></tr><tr><td>val/accuracy</td><td>0.61522</td></tr><tr><td>val/classification_loss</td><td>0.20414</td></tr><tr><td>val/f1_score</td><td>0.62028</td></tr><tr><td>val/map</td><td>0.47148</td></tr><tr><td>val/rmse</td><td>0.0346</td></tr></table><br/></div></div>"
            ]
          },
          "metadata": {}
        },
        {
          "output_type": "display_data",
          "data": {
            "text/plain": [
              "<IPython.core.display.HTML object>"
            ],
            "text/html": [
              " View run <strong style=\"color:#cdcd00\">northern-frost-263</strong> at: <a href='https://wandb.ai/mehmeteminuludag-kirikkale-university/StajProjesi/runs/y4wf6v7b' target=\"_blank\">https://wandb.ai/mehmeteminuludag-kirikkale-university/StajProjesi/runs/y4wf6v7b</a><br> View project at: <a href='https://wandb.ai/mehmeteminuludag-kirikkale-university/StajProjesi' target=\"_blank\">https://wandb.ai/mehmeteminuludag-kirikkale-university/StajProjesi</a><br>Synced 5 W&B file(s), 0 media file(s), 0 artifact file(s) and 0 other file(s)"
            ]
          },
          "metadata": {}
        },
        {
          "output_type": "display_data",
          "data": {
            "text/plain": [
              "<IPython.core.display.HTML object>"
            ],
            "text/html": [
              "Find logs at: <code>./wandb/run-20250810_135940-y4wf6v7b/logs</code>"
            ]
          },
          "metadata": {}
        },
        {
          "output_type": "stream",
          "name": "stderr",
          "text": [
            "[I 2025-08-10 14:37:08,866] Trial 5 finished with value: 0.2271784991432632 and parameters: {'learning_rate': 0.0001301420535178772, 'classification_weight': 0.8942199077113089, 'regression_weight': 1.1328944941665642, 'detection_depth_weight': 0.4105435206241591, 'depth_map_weight': 0.10198640729345856, 'p_iou_threshold': 0.37320748563139405, 'n_iou_threshold': 0.3823356721527512}. Best is trial 1 with value: 0.14495912502155614.\n",
            "/usr/local/lib/python3.11/dist-packages/torch/nn/init.py:511: UserWarning: Initializing zero-element tensors is a no-op\n",
            "  warnings.warn(\"Initializing zero-element tensors is a no-op\")\n"
          ]
        },
        {
          "output_type": "display_data",
          "data": {
            "text/plain": [
              "<IPython.core.display.HTML object>"
            ],
            "text/html": [
              "Tracking run with wandb version 0.21.0"
            ]
          },
          "metadata": {}
        },
        {
          "output_type": "display_data",
          "data": {
            "text/plain": [
              "<IPython.core.display.HTML object>"
            ],
            "text/html": [
              "Run data is saved locally in <code>/content/wandb/run-20250810_143709-op4ptrl4</code>"
            ]
          },
          "metadata": {}
        },
        {
          "output_type": "display_data",
          "data": {
            "text/plain": [
              "<IPython.core.display.HTML object>"
            ],
            "text/html": [
              "Syncing run <strong><a href='https://wandb.ai/mehmeteminuludag-kirikkale-university/StajProjesi/runs/op4ptrl4' target=\"_blank\">frosty-wind-264</a></strong> to <a href='https://wandb.ai/mehmeteminuludag-kirikkale-university/StajProjesi' target=\"_blank\">Weights & Biases</a> (<a href='https://wandb.me/developer-guide' target=\"_blank\">docs</a>)<br>"
            ]
          },
          "metadata": {}
        },
        {
          "output_type": "display_data",
          "data": {
            "text/plain": [
              "<IPython.core.display.HTML object>"
            ],
            "text/html": [
              " View project at <a href='https://wandb.ai/mehmeteminuludag-kirikkale-university/StajProjesi' target=\"_blank\">https://wandb.ai/mehmeteminuludag-kirikkale-university/StajProjesi</a>"
            ]
          },
          "metadata": {}
        },
        {
          "output_type": "display_data",
          "data": {
            "text/plain": [
              "<IPython.core.display.HTML object>"
            ],
            "text/html": [
              " View run at <a href='https://wandb.ai/mehmeteminuludag-kirikkale-university/StajProjesi/runs/op4ptrl4' target=\"_blank\">https://wandb.ai/mehmeteminuludag-kirikkale-university/StajProjesi/runs/op4ptrl4</a>"
            ]
          },
          "metadata": {}
        },
        {
          "output_type": "stream",
          "name": "stderr",
          "text": [
            "Epoch 1/10 Train: 100%|██████████| 310/310 [03:11<00:00,  1.62it/s, Acc=0.469, ClsLoss=0.220, F1=0.472, RMSE=0.039, mAP=0.318, TotalLoss=0.208]\n",
            "Epoch 1/10 Validation: 100%|██████████| 78/78 [00:17<00:00,  4.38it/s, Acc=0.448, ClsLoss=0.131, F1=0.447, RMSE=0.035, mAP=0.320, TotalLoss=0.104]\n",
            "Epoch 2/10 Train: 100%|██████████| 310/310 [03:10<00:00,  1.63it/s, Acc=0.523, ClsLoss=0.112, F1=0.526, RMSE=0.038, mAP=0.380, TotalLoss=0.090]\n",
            "Epoch 2/10 Validation: 100%|██████████| 78/78 [00:17<00:00,  4.39it/s, Acc=0.454, ClsLoss=0.133, F1=0.458, RMSE=0.035, mAP=0.342, TotalLoss=0.105]\n",
            "Epoch 3/10 Train: 100%|██████████| 310/310 [03:10<00:00,  1.63it/s, Acc=0.528, ClsLoss=0.080, F1=0.526, RMSE=0.038, mAP=0.392, TotalLoss=0.066]\n",
            "Epoch 3/10 Validation: 100%|██████████| 78/78 [00:17<00:00,  4.39it/s, Acc=0.446, ClsLoss=0.119, F1=0.451, RMSE=0.035, mAP=0.339, TotalLoss=0.104]\n",
            "Epoch 4/10 Train: 100%|██████████| 310/310 [03:09<00:00,  1.63it/s, Acc=0.528, ClsLoss=0.077, F1=0.532, RMSE=0.038, mAP=0.392, TotalLoss=0.066]\n",
            "Epoch 4/10 Validation: 100%|██████████| 78/78 [00:17<00:00,  4.39it/s, Acc=0.497, ClsLoss=0.094, F1=0.483, RMSE=0.035, mAP=0.351, TotalLoss=0.075]\n",
            "Epoch 5/10 Train: 100%|██████████| 310/310 [03:10<00:00,  1.63it/s, Acc=0.542, ClsLoss=0.072, F1=0.547, RMSE=0.037, mAP=0.402, TotalLoss=0.059]\n",
            "Epoch 5/10 Validation: 100%|██████████| 78/78 [00:17<00:00,  4.39it/s, Acc=0.449, ClsLoss=0.119, F1=0.438, RMSE=0.035, mAP=0.358, TotalLoss=0.093]\n",
            "Epoch 6/10 Train: 100%|██████████| 310/310 [03:10<00:00,  1.63it/s, Acc=0.541, ClsLoss=0.068, F1=0.547, RMSE=0.038, mAP=0.415, TotalLoss=0.057]\n",
            "Epoch 6/10 Validation: 100%|██████████| 78/78 [00:17<00:00,  4.38it/s, Acc=0.498, ClsLoss=0.121, F1=0.497, RMSE=0.035, mAP=0.373, TotalLoss=0.094]\n",
            "Epoch 7/10 Train: 100%|██████████| 310/310 [03:10<00:00,  1.63it/s, Acc=0.539, ClsLoss=0.073, F1=0.542, RMSE=0.038, mAP=0.403, TotalLoss=0.060]\n",
            "Epoch 7/10 Validation: 100%|██████████| 78/78 [00:17<00:00,  4.39it/s, Acc=0.414, ClsLoss=0.103, F1=0.425, RMSE=0.035, mAP=0.348, TotalLoss=0.080]\n",
            "Epoch 8/10 Train: 100%|██████████| 310/310 [03:10<00:00,  1.63it/s, Acc=0.555, ClsLoss=0.063, F1=0.559, RMSE=0.038, mAP=0.419, TotalLoss=0.053]\n",
            "Epoch 8/10 Validation: 100%|██████████| 78/78 [00:17<00:00,  4.39it/s, Acc=0.451, ClsLoss=0.106, F1=0.452, RMSE=0.035, mAP=0.347, TotalLoss=0.083]\n",
            "Epoch 9/10 Train: 100%|██████████| 310/310 [03:09<00:00,  1.63it/s, Acc=0.552, ClsLoss=0.063, F1=0.550, RMSE=0.038, mAP=0.420, TotalLoss=0.054]\n",
            "Epoch 9/10 Validation: 100%|██████████| 78/78 [00:17<00:00,  4.40it/s, Acc=0.529, ClsLoss=0.093, F1=0.520, RMSE=0.035, mAP=0.364, TotalLoss=0.072]\n",
            "Epoch 10/10 Train: 100%|██████████| 310/310 [03:09<00:00,  1.63it/s, Acc=0.557, ClsLoss=0.116, F1=0.556, RMSE=0.038, mAP=0.419, TotalLoss=0.088]\n",
            "Epoch 10/10 Validation: 100%|██████████| 78/78 [00:17<00:00,  4.39it/s, Acc=0.391, ClsLoss=0.109, F1=0.416, RMSE=0.035, mAP=0.355, TotalLoss=0.085]\n"
          ]
        },
        {
          "output_type": "display_data",
          "data": {
            "text/plain": [
              "<IPython.core.display.HTML object>"
            ],
            "text/html": []
          },
          "metadata": {}
        },
        {
          "output_type": "display_data",
          "data": {
            "text/plain": [
              "<IPython.core.display.HTML object>"
            ],
            "text/html": [
              "<br>    <style><br>        .wandb-row {<br>            display: flex;<br>            flex-direction: row;<br>            flex-wrap: wrap;<br>            justify-content: flex-start;<br>            width: 100%;<br>        }<br>        .wandb-col {<br>            display: flex;<br>            flex-direction: column;<br>            flex-basis: 100%;<br>            flex: 1;<br>            padding: 10px;<br>        }<br>    </style><br><div class=\"wandb-row\"><div class=\"wandb-col\"><h3>Run history:</h3><br/><table class=\"wandb\"><tr><td>train/accuracy</td><td>▁▅▆▆▇▇▇███</td></tr><tr><td>train/classification_loss</td><td>█▃▂▂▁▁▁▁▁▃</td></tr><tr><td>train/f1_score</td><td>▁▅▅▆▇▇▇█▇█</td></tr><tr><td>train/map</td><td>▁▅▆▆▇█▇███</td></tr><tr><td>train/rmse</td><td>█▃▃▃▁▃▃▃▃▃</td></tr><tr><td>val/accuracy</td><td>▄▄▄▆▄▆▂▄█▁</td></tr><tr><td>val/classification_loss</td><td>██▆▁▆▆▃▃▁▄</td></tr><tr><td>val/f1_score</td><td>▃▄▃▅▂▆▂▃█▁</td></tr><tr><td>val/map</td><td>▁▄▃▅▆█▅▅▇▆</td></tr><tr><td>val/rmse</td><td>▁█████████</td></tr></table><br/></div><div class=\"wandb-col\"><h3>Run summary:</h3><br/><table class=\"wandb\"><tr><td>train/accuracy</td><td>0.55722</td></tr><tr><td>train/classification_loss</td><td>0.11562</td></tr><tr><td>train/f1_score</td><td>0.55626</td></tr><tr><td>train/map</td><td>0.41892</td></tr><tr><td>train/rmse</td><td>0.03766</td></tr><tr><td>val/accuracy</td><td>0.39067</td></tr><tr><td>val/classification_loss</td><td>0.1088</td></tr><tr><td>val/f1_score</td><td>0.41626</td></tr><tr><td>val/map</td><td>0.35531</td></tr><tr><td>val/rmse</td><td>0.03549</td></tr></table><br/></div></div>"
            ]
          },
          "metadata": {}
        },
        {
          "output_type": "display_data",
          "data": {
            "text/plain": [
              "<IPython.core.display.HTML object>"
            ],
            "text/html": [
              " View run <strong style=\"color:#cdcd00\">frosty-wind-264</strong> at: <a href='https://wandb.ai/mehmeteminuludag-kirikkale-university/StajProjesi/runs/op4ptrl4' target=\"_blank\">https://wandb.ai/mehmeteminuludag-kirikkale-university/StajProjesi/runs/op4ptrl4</a><br> View project at: <a href='https://wandb.ai/mehmeteminuludag-kirikkale-university/StajProjesi' target=\"_blank\">https://wandb.ai/mehmeteminuludag-kirikkale-university/StajProjesi</a><br>Synced 5 W&B file(s), 0 media file(s), 0 artifact file(s) and 0 other file(s)"
            ]
          },
          "metadata": {}
        },
        {
          "output_type": "display_data",
          "data": {
            "text/plain": [
              "<IPython.core.display.HTML object>"
            ],
            "text/html": [
              "Find logs at: <code>./wandb/run-20250810_143709-op4ptrl4/logs</code>"
            ]
          },
          "metadata": {}
        },
        {
          "output_type": "stream",
          "name": "stderr",
          "text": [
            "[I 2025-08-10 15:11:54,222] Trial 6 finished with value: 0.07242675338306986 and parameters: {'learning_rate': 0.003552281394907798, 'classification_weight': 0.6736651453623459, 'regression_weight': 0.9084780480855039, 'detection_depth_weight': 0.35184588085349644, 'depth_map_weight': 0.18501431401164817, 'p_iou_threshold': 0.6164303603103478, 'n_iou_threshold': 0.15941486858962342}. Best is trial 6 with value: 0.07242675338306986.\n",
            "/usr/local/lib/python3.11/dist-packages/torch/nn/init.py:511: UserWarning: Initializing zero-element tensors is a no-op\n",
            "  warnings.warn(\"Initializing zero-element tensors is a no-op\")\n"
          ]
        },
        {
          "output_type": "display_data",
          "data": {
            "text/plain": [
              "<IPython.core.display.HTML object>"
            ],
            "text/html": [
              "Tracking run with wandb version 0.21.0"
            ]
          },
          "metadata": {}
        },
        {
          "output_type": "display_data",
          "data": {
            "text/plain": [
              "<IPython.core.display.HTML object>"
            ],
            "text/html": [
              "Run data is saved locally in <code>/content/wandb/run-20250810_151154-c38vn3wn</code>"
            ]
          },
          "metadata": {}
        },
        {
          "output_type": "display_data",
          "data": {
            "text/plain": [
              "<IPython.core.display.HTML object>"
            ],
            "text/html": [
              "Syncing run <strong><a href='https://wandb.ai/mehmeteminuludag-kirikkale-university/StajProjesi/runs/c38vn3wn' target=\"_blank\">quiet-cosmos-265</a></strong> to <a href='https://wandb.ai/mehmeteminuludag-kirikkale-university/StajProjesi' target=\"_blank\">Weights & Biases</a> (<a href='https://wandb.me/developer-guide' target=\"_blank\">docs</a>)<br>"
            ]
          },
          "metadata": {}
        },
        {
          "output_type": "display_data",
          "data": {
            "text/plain": [
              "<IPython.core.display.HTML object>"
            ],
            "text/html": [
              " View project at <a href='https://wandb.ai/mehmeteminuludag-kirikkale-university/StajProjesi' target=\"_blank\">https://wandb.ai/mehmeteminuludag-kirikkale-university/StajProjesi</a>"
            ]
          },
          "metadata": {}
        },
        {
          "output_type": "display_data",
          "data": {
            "text/plain": [
              "<IPython.core.display.HTML object>"
            ],
            "text/html": [
              " View run at <a href='https://wandb.ai/mehmeteminuludag-kirikkale-university/StajProjesi/runs/c38vn3wn' target=\"_blank\">https://wandb.ai/mehmeteminuludag-kirikkale-university/StajProjesi/runs/c38vn3wn</a>"
            ]
          },
          "metadata": {}
        },
        {
          "output_type": "stream",
          "name": "stderr",
          "text": [
            "Epoch 1/10 Train: 100%|██████████| 310/310 [02:45<00:00,  1.87it/s, Acc=0.336, ClsLoss=0.158, F1=0.338, RMSE=0.050, mAP=0.171, TotalLoss=0.160]\n",
            "Epoch 1/10 Validation: 100%|██████████| 78/78 [00:17<00:00,  4.38it/s, Acc=0.288, ClsLoss=0.075, F1=0.292, RMSE=0.035, mAP=0.186, TotalLoss=0.134]\n",
            "Epoch 2/10 Train: 100%|██████████| 310/310 [02:45<00:00,  1.87it/s, Acc=0.404, ClsLoss=0.122, F1=0.400, RMSE=0.035, mAP=0.272, TotalLoss=0.144]\n",
            "Epoch 2/10 Validation: 100%|██████████| 78/78 [00:17<00:00,  4.40it/s, Acc=0.293, ClsLoss=0.061, F1=0.297, RMSE=0.036, mAP=0.183, TotalLoss=0.062]\n",
            "Epoch 3/10 Train: 100%|██████████| 310/310 [02:45<00:00,  1.87it/s, Acc=0.432, ClsLoss=0.196, F1=0.432, RMSE=0.035, mAP=0.299, TotalLoss=0.192]\n",
            "Epoch 3/10 Validation: 100%|██████████| 78/78 [00:17<00:00,  4.39it/s, Acc=0.293, ClsLoss=0.030, F1=0.293, RMSE=0.034, mAP=0.204, TotalLoss=0.058]\n",
            "Epoch 4/10 Train: 100%|██████████| 310/310 [02:45<00:00,  1.87it/s, Acc=0.450, ClsLoss=0.037, F1=0.449, RMSE=0.035, mAP=0.325, TotalLoss=0.055]\n",
            "Epoch 4/10 Validation: 100%|██████████| 78/78 [00:17<00:00,  4.40it/s, Acc=0.299, ClsLoss=0.042, F1=0.301, RMSE=0.034, mAP=0.218, TotalLoss=0.065]\n",
            "Epoch 5/10 Train: 100%|██████████| 310/310 [02:45<00:00,  1.88it/s, Acc=0.453, ClsLoss=0.013, F1=0.452, RMSE=0.035, mAP=0.345, TotalLoss=0.023]\n",
            "Epoch 5/10 Validation: 100%|██████████| 78/78 [00:17<00:00,  4.40it/s, Acc=0.318, ClsLoss=0.029, F1=0.318, RMSE=0.034, mAP=0.248, TotalLoss=0.033]\n",
            "Epoch 6/10 Train: 100%|██████████| 310/310 [02:45<00:00,  1.88it/s, Acc=0.460, ClsLoss=0.028, F1=0.460, RMSE=0.035, mAP=0.362, TotalLoss=0.047]\n",
            "Epoch 6/10 Validation: 100%|██████████| 78/78 [00:17<00:00,  4.39it/s, Acc=0.294, ClsLoss=0.084, F1=0.300, RMSE=0.034, mAP=0.232, TotalLoss=0.108]\n",
            "Epoch 7/10 Train: 100%|██████████| 310/310 [02:45<00:00,  1.87it/s, Acc=0.452, ClsLoss=0.065, F1=0.453, RMSE=0.035, mAP=0.360, TotalLoss=0.095]\n",
            "Epoch 7/10 Validation: 100%|██████████| 78/78 [00:17<00:00,  4.39it/s, Acc=0.321, ClsLoss=0.037, F1=0.322, RMSE=0.034, mAP=0.245, TotalLoss=0.056]\n",
            "Epoch 8/10 Train: 100%|██████████| 310/310 [02:45<00:00,  1.87it/s, Acc=0.469, ClsLoss=0.012, F1=0.469, RMSE=0.035, mAP=0.377, TotalLoss=0.050]\n",
            "Epoch 8/10 Validation: 100%|██████████| 78/78 [00:17<00:00,  4.39it/s, Acc=0.299, ClsLoss=0.035, F1=0.304, RMSE=0.035, mAP=0.239, TotalLoss=0.032]\n",
            "Epoch 9/10 Train: 100%|██████████| 310/310 [02:45<00:00,  1.87it/s, Acc=0.465, ClsLoss=0.012, F1=0.465, RMSE=0.035, mAP=0.378, TotalLoss=0.018]\n",
            "Epoch 9/10 Validation: 100%|██████████| 78/78 [00:17<00:00,  4.39it/s, Acc=0.314, ClsLoss=0.030, F1=0.320, RMSE=0.035, mAP=0.247, TotalLoss=0.026]\n",
            "Epoch 10/10 Train: 100%|██████████| 310/310 [02:45<00:00,  1.88it/s, Acc=0.474, ClsLoss=0.039, F1=0.473, RMSE=0.035, mAP=0.391, TotalLoss=0.032]\n",
            "Epoch 10/10 Validation: 100%|██████████| 78/78 [00:17<00:00,  4.39it/s, Acc=0.321, ClsLoss=0.014, F1=0.323, RMSE=0.037, mAP=0.241, TotalLoss=0.014]\n"
          ]
        },
        {
          "output_type": "display_data",
          "data": {
            "text/plain": [
              "<IPython.core.display.HTML object>"
            ],
            "text/html": []
          },
          "metadata": {}
        },
        {
          "output_type": "display_data",
          "data": {
            "text/plain": [
              "<IPython.core.display.HTML object>"
            ],
            "text/html": [
              "<br>    <style><br>        .wandb-row {<br>            display: flex;<br>            flex-direction: row;<br>            flex-wrap: wrap;<br>            justify-content: flex-start;<br>            width: 100%;<br>        }<br>        .wandb-col {<br>            display: flex;<br>            flex-direction: column;<br>            flex-basis: 100%;<br>            flex: 1;<br>            padding: 10px;<br>        }<br>    </style><br><div class=\"wandb-row\"><div class=\"wandb-col\"><h3>Run history:</h3><br/><table class=\"wandb\"><tr><td>train/accuracy</td><td>▁▄▆▇▇▇▇███</td></tr><tr><td>train/classification_loss</td><td>▇▅█▂▁▂▃▁▁▂</td></tr><tr><td>train/f1_score</td><td>▁▄▆▇▇▇▇███</td></tr><tr><td>train/map</td><td>▁▄▅▆▇▇▇███</td></tr><tr><td>train/rmse</td><td>█▁▁▁▁▁▁▁▁▁</td></tr><tr><td>val/accuracy</td><td>▁▂▂▃█▂█▃▇█</td></tr><tr><td>val/classification_loss</td><td>▇▆▃▄▃█▃▃▃▁</td></tr><tr><td>val/f1_score</td><td>▁▂▁▃▇▃█▄▇█</td></tr><tr><td>val/map</td><td>▁▁▃▅█▆█▇█▇</td></tr><tr><td>val/rmse</td><td>▄▆▁▁▂▂▂▃▄█</td></tr></table><br/></div><div class=\"wandb-col\"><h3>Run summary:</h3><br/><table class=\"wandb\"><tr><td>train/accuracy</td><td>0.47409</td></tr><tr><td>train/classification_loss</td><td>0.03889</td></tr><tr><td>train/f1_score</td><td>0.47341</td></tr><tr><td>train/map</td><td>0.39129</td></tr><tr><td>train/rmse</td><td>0.03512</td></tr><tr><td>val/accuracy</td><td>0.32051</td></tr><tr><td>val/classification_loss</td><td>0.01425</td></tr><tr><td>val/f1_score</td><td>0.32265</td></tr><tr><td>val/map</td><td>0.24112</td></tr><tr><td>val/rmse</td><td>0.03733</td></tr></table><br/></div></div>"
            ]
          },
          "metadata": {}
        },
        {
          "output_type": "display_data",
          "data": {
            "text/plain": [
              "<IPython.core.display.HTML object>"
            ],
            "text/html": [
              " View run <strong style=\"color:#cdcd00\">quiet-cosmos-265</strong> at: <a href='https://wandb.ai/mehmeteminuludag-kirikkale-university/StajProjesi/runs/c38vn3wn' target=\"_blank\">https://wandb.ai/mehmeteminuludag-kirikkale-university/StajProjesi/runs/c38vn3wn</a><br> View project at: <a href='https://wandb.ai/mehmeteminuludag-kirikkale-university/StajProjesi' target=\"_blank\">https://wandb.ai/mehmeteminuludag-kirikkale-university/StajProjesi</a><br>Synced 5 W&B file(s), 0 media file(s), 0 artifact file(s) and 0 other file(s)"
            ]
          },
          "metadata": {}
        },
        {
          "output_type": "display_data",
          "data": {
            "text/plain": [
              "<IPython.core.display.HTML object>"
            ],
            "text/html": [
              "Find logs at: <code>./wandb/run-20250810_151154-c38vn3wn/logs</code>"
            ]
          },
          "metadata": {}
        },
        {
          "output_type": "stream",
          "name": "stderr",
          "text": [
            "[I 2025-08-10 15:42:34,063] Trial 7 finished with value: 0.014146041291846463 and parameters: {'learning_rate': 0.00040567870430664255, 'classification_weight': 0.6361435407895153, 'regression_weight': 1.7475245789525151, 'detection_depth_weight': 0.38060624731679427, 'depth_map_weight': 0.301875722351189, 'p_iou_threshold': 0.6988018957643491, 'n_iou_threshold': 0.38633771808693684}. Best is trial 7 with value: 0.014146041291846463.\n",
            "/usr/local/lib/python3.11/dist-packages/torch/nn/init.py:511: UserWarning: Initializing zero-element tensors is a no-op\n",
            "  warnings.warn(\"Initializing zero-element tensors is a no-op\")\n"
          ]
        },
        {
          "output_type": "display_data",
          "data": {
            "text/plain": [
              "<IPython.core.display.HTML object>"
            ],
            "text/html": [
              "Tracking run with wandb version 0.21.0"
            ]
          },
          "metadata": {}
        },
        {
          "output_type": "display_data",
          "data": {
            "text/plain": [
              "<IPython.core.display.HTML object>"
            ],
            "text/html": [
              "Run data is saved locally in <code>/content/wandb/run-20250810_154234-j1l54xpn</code>"
            ]
          },
          "metadata": {}
        },
        {
          "output_type": "display_data",
          "data": {
            "text/plain": [
              "<IPython.core.display.HTML object>"
            ],
            "text/html": [
              "Syncing run <strong><a href='https://wandb.ai/mehmeteminuludag-kirikkale-university/StajProjesi/runs/j1l54xpn' target=\"_blank\">dainty-bush-266</a></strong> to <a href='https://wandb.ai/mehmeteminuludag-kirikkale-university/StajProjesi' target=\"_blank\">Weights & Biases</a> (<a href='https://wandb.me/developer-guide' target=\"_blank\">docs</a>)<br>"
            ]
          },
          "metadata": {}
        },
        {
          "output_type": "display_data",
          "data": {
            "text/plain": [
              "<IPython.core.display.HTML object>"
            ],
            "text/html": [
              " View project at <a href='https://wandb.ai/mehmeteminuludag-kirikkale-university/StajProjesi' target=\"_blank\">https://wandb.ai/mehmeteminuludag-kirikkale-university/StajProjesi</a>"
            ]
          },
          "metadata": {}
        },
        {
          "output_type": "display_data",
          "data": {
            "text/plain": [
              "<IPython.core.display.HTML object>"
            ],
            "text/html": [
              " View run at <a href='https://wandb.ai/mehmeteminuludag-kirikkale-university/StajProjesi/runs/j1l54xpn' target=\"_blank\">https://wandb.ai/mehmeteminuludag-kirikkale-university/StajProjesi/runs/j1l54xpn</a>"
            ]
          },
          "metadata": {}
        },
        {
          "output_type": "stream",
          "name": "stderr",
          "text": [
            "Epoch 1/10 Train: 100%|██████████| 310/310 [02:46<00:00,  1.86it/s, Acc=0.329, ClsLoss=0.148, F1=0.331, RMSE=0.054, mAP=0.138, TotalLoss=0.248]\n",
            "Epoch 1/10 Validation: 100%|██████████| 78/78 [00:17<00:00,  4.40it/s, Acc=0.277, ClsLoss=0.076, F1=0.282, RMSE=0.034, mAP=0.169, TotalLoss=0.129]\n",
            "Epoch 2/10 Train: 100%|██████████| 310/310 [02:46<00:00,  1.86it/s, Acc=0.410, ClsLoss=0.115, F1=0.410, RMSE=0.035, mAP=0.295, TotalLoss=0.200]\n",
            "Epoch 2/10 Validation: 100%|██████████| 78/78 [00:17<00:00,  4.39it/s, Acc=0.307, ClsLoss=0.052, F1=0.312, RMSE=0.035, mAP=0.225, TotalLoss=0.092]\n",
            "Epoch 3/10 Train: 100%|██████████| 310/310 [02:46<00:00,  1.86it/s, Acc=0.429, ClsLoss=0.028, F1=0.426, RMSE=0.035, mAP=0.332, TotalLoss=0.079]\n",
            "Epoch 3/10 Validation: 100%|██████████| 78/78 [00:17<00:00,  4.39it/s, Acc=0.330, ClsLoss=0.025, F1=0.333, RMSE=0.035, mAP=0.251, TotalLoss=0.047]\n",
            "Epoch 4/10 Train: 100%|██████████| 310/310 [02:46<00:00,  1.86it/s, Acc=0.455, ClsLoss=0.048, F1=0.454, RMSE=0.035, mAP=0.370, TotalLoss=0.088]\n",
            "Epoch 4/10 Validation: 100%|██████████| 78/78 [00:17<00:00,  4.39it/s, Acc=0.337, ClsLoss=0.202, F1=0.336, RMSE=0.034, mAP=0.256, TotalLoss=0.310]\n",
            "Epoch 5/10 Train: 100%|██████████| 310/310 [02:46<00:00,  1.87it/s, Acc=0.480, ClsLoss=0.005, F1=0.480, RMSE=0.035, mAP=0.394, TotalLoss=0.026]\n",
            "Epoch 5/10 Validation: 100%|██████████| 78/78 [00:17<00:00,  4.39it/s, Acc=0.317, ClsLoss=0.048, F1=0.319, RMSE=0.035, mAP=0.257, TotalLoss=0.093]\n",
            "Epoch 6/10 Train: 100%|██████████| 310/310 [02:46<00:00,  1.87it/s, Acc=0.471, ClsLoss=0.063, F1=0.471, RMSE=0.035, mAP=0.397, TotalLoss=0.095]\n",
            "Epoch 6/10 Validation: 100%|██████████| 78/78 [00:17<00:00,  4.40it/s, Acc=0.317, ClsLoss=0.027, F1=0.320, RMSE=0.034, mAP=0.272, TotalLoss=0.056]\n",
            "Epoch 7/10 Train: 100%|██████████| 310/310 [02:46<00:00,  1.86it/s, Acc=0.478, ClsLoss=0.010, F1=0.478, RMSE=0.035, mAP=0.404, TotalLoss=0.039]\n",
            "Epoch 7/10 Validation: 100%|██████████| 78/78 [00:17<00:00,  4.40it/s, Acc=0.346, ClsLoss=0.009, F1=0.344, RMSE=0.035, mAP=0.298, TotalLoss=0.036]\n",
            "Epoch 8/10 Train: 100%|██████████| 310/310 [02:46<00:00,  1.86it/s, Acc=0.482, ClsLoss=0.025, F1=0.481, RMSE=0.035, mAP=0.419, TotalLoss=0.051]\n",
            "Epoch 8/10 Validation: 100%|██████████| 78/78 [00:17<00:00,  4.39it/s, Acc=0.333, ClsLoss=0.014, F1=0.331, RMSE=0.037, mAP=0.287, TotalLoss=0.034]\n",
            "Epoch 9/10 Train: 100%|██████████| 310/310 [02:46<00:00,  1.86it/s, Acc=0.480, ClsLoss=0.005, F1=0.480, RMSE=0.035, mAP=0.423, TotalLoss=0.020]\n",
            "Epoch 9/10 Validation: 100%|██████████| 78/78 [00:17<00:00,  4.39it/s, Acc=0.330, ClsLoss=0.019, F1=0.328, RMSE=0.034, mAP=0.281, TotalLoss=0.030]\n",
            "Epoch 10/10 Train: 100%|██████████| 310/310 [02:46<00:00,  1.86it/s, Acc=0.483, ClsLoss=0.039, F1=0.483, RMSE=0.035, mAP=0.425, TotalLoss=0.059]\n",
            "Epoch 10/10 Validation: 100%|██████████| 78/78 [00:17<00:00,  4.39it/s, Acc=0.362, ClsLoss=0.008, F1=0.361, RMSE=0.034, mAP=0.294, TotalLoss=0.021]\n"
          ]
        },
        {
          "output_type": "display_data",
          "data": {
            "text/plain": [
              "<IPython.core.display.HTML object>"
            ],
            "text/html": []
          },
          "metadata": {}
        },
        {
          "output_type": "display_data",
          "data": {
            "text/plain": [
              "<IPython.core.display.HTML object>"
            ],
            "text/html": [
              "<br>    <style><br>        .wandb-row {<br>            display: flex;<br>            flex-direction: row;<br>            flex-wrap: wrap;<br>            justify-content: flex-start;<br>            width: 100%;<br>        }<br>        .wandb-col {<br>            display: flex;<br>            flex-direction: column;<br>            flex-basis: 100%;<br>            flex: 1;<br>            padding: 10px;<br>        }<br>    </style><br><div class=\"wandb-row\"><div class=\"wandb-col\"><h3>Run history:</h3><br/><table class=\"wandb\"><tr><td>train/accuracy</td><td>▁▅▆▇█▇████</td></tr><tr><td>train/classification_loss</td><td>█▆▂▃▁▄▁▂▁▃</td></tr><tr><td>train/f1_score</td><td>▁▅▅▇█▇████</td></tr><tr><td>train/map</td><td>▁▅▆▇▇▇▇███</td></tr><tr><td>train/rmse</td><td>█▁▁▁▁▁▁▁▁▁</td></tr><tr><td>val/accuracy</td><td>▁▃▅▆▄▄▇▆▅█</td></tr><tr><td>val/classification_loss</td><td>▃▃▂█▂▂▁▁▁▁</td></tr><tr><td>val/f1_score</td><td>▁▄▆▆▄▄▇▅▅█</td></tr><tr><td>val/map</td><td>▁▄▅▆▆▇█▇▇█</td></tr><tr><td>val/rmse</td><td>▁▃▃▁▃▁▃█▂▂</td></tr></table><br/></div><div class=\"wandb-col\"><h3>Run summary:</h3><br/><table class=\"wandb\"><tr><td>train/accuracy</td><td>0.48323</td></tr><tr><td>train/classification_loss</td><td>0.03859</td></tr><tr><td>train/f1_score</td><td>0.48294</td></tr><tr><td>train/map</td><td>0.42543</td></tr><tr><td>train/rmse</td><td>0.03505</td></tr><tr><td>val/accuracy</td><td>0.36218</td></tr><tr><td>val/classification_loss</td><td>0.00838</td></tr><tr><td>val/f1_score</td><td>0.36081</td></tr><tr><td>val/map</td><td>0.29359</td></tr><tr><td>val/rmse</td><td>0.03416</td></tr></table><br/></div></div>"
            ]
          },
          "metadata": {}
        },
        {
          "output_type": "display_data",
          "data": {
            "text/plain": [
              "<IPython.core.display.HTML object>"
            ],
            "text/html": [
              " View run <strong style=\"color:#cdcd00\">dainty-bush-266</strong> at: <a href='https://wandb.ai/mehmeteminuludag-kirikkale-university/StajProjesi/runs/j1l54xpn' target=\"_blank\">https://wandb.ai/mehmeteminuludag-kirikkale-university/StajProjesi/runs/j1l54xpn</a><br> View project at: <a href='https://wandb.ai/mehmeteminuludag-kirikkale-university/StajProjesi' target=\"_blank\">https://wandb.ai/mehmeteminuludag-kirikkale-university/StajProjesi</a><br>Synced 5 W&B file(s), 0 media file(s), 0 artifact file(s) and 0 other file(s)"
            ]
          },
          "metadata": {}
        },
        {
          "output_type": "display_data",
          "data": {
            "text/plain": [
              "<IPython.core.display.HTML object>"
            ],
            "text/html": [
              "Find logs at: <code>./wandb/run-20250810_154234-j1l54xpn/logs</code>"
            ]
          },
          "metadata": {}
        },
        {
          "output_type": "stream",
          "name": "stderr",
          "text": [
            "[I 2025-08-10 16:13:23,297] Trial 8 finished with value: 0.02072382223032503 and parameters: {'learning_rate': 0.0001790941521542287, 'classification_weight': 1.2611033130840446, 'regression_weight': 1.820545395104868, 'detection_depth_weight': 0.20188972001851657, 'depth_map_weight': 0.33091699787786677, 'p_iou_threshold': 0.6924289205194154, 'n_iou_threshold': 0.2512017229094623}. Best is trial 7 with value: 0.014146041291846463.\n",
            "/usr/local/lib/python3.11/dist-packages/torch/nn/init.py:511: UserWarning: Initializing zero-element tensors is a no-op\n",
            "  warnings.warn(\"Initializing zero-element tensors is a no-op\")\n"
          ]
        },
        {
          "output_type": "display_data",
          "data": {
            "text/plain": [
              "<IPython.core.display.HTML object>"
            ],
            "text/html": [
              "Tracking run with wandb version 0.21.0"
            ]
          },
          "metadata": {}
        },
        {
          "output_type": "display_data",
          "data": {
            "text/plain": [
              "<IPython.core.display.HTML object>"
            ],
            "text/html": [
              "Run data is saved locally in <code>/content/wandb/run-20250810_161323-2jei59t0</code>"
            ]
          },
          "metadata": {}
        },
        {
          "output_type": "display_data",
          "data": {
            "text/plain": [
              "<IPython.core.display.HTML object>"
            ],
            "text/html": [
              "Syncing run <strong><a href='https://wandb.ai/mehmeteminuludag-kirikkale-university/StajProjesi/runs/2jei59t0' target=\"_blank\">revived-dream-267</a></strong> to <a href='https://wandb.ai/mehmeteminuludag-kirikkale-university/StajProjesi' target=\"_blank\">Weights & Biases</a> (<a href='https://wandb.me/developer-guide' target=\"_blank\">docs</a>)<br>"
            ]
          },
          "metadata": {}
        },
        {
          "output_type": "display_data",
          "data": {
            "text/plain": [
              "<IPython.core.display.HTML object>"
            ],
            "text/html": [
              " View project at <a href='https://wandb.ai/mehmeteminuludag-kirikkale-university/StajProjesi' target=\"_blank\">https://wandb.ai/mehmeteminuludag-kirikkale-university/StajProjesi</a>"
            ]
          },
          "metadata": {}
        },
        {
          "output_type": "display_data",
          "data": {
            "text/plain": [
              "<IPython.core.display.HTML object>"
            ],
            "text/html": [
              " View run at <a href='https://wandb.ai/mehmeteminuludag-kirikkale-university/StajProjesi/runs/2jei59t0' target=\"_blank\">https://wandb.ai/mehmeteminuludag-kirikkale-university/StajProjesi/runs/2jei59t0</a>"
            ]
          },
          "metadata": {}
        },
        {
          "output_type": "stream",
          "name": "stderr",
          "text": [
            "Epoch 1/10 Train: 100%|██████████| 310/310 [02:53<00:00,  1.79it/s, Acc=0.298, ClsLoss=0.266, F1=0.312, RMSE=0.124, mAP=0.089, TotalLoss=0.395]\n",
            "Epoch 1/10 Validation: 100%|██████████| 78/78 [00:17<00:00,  4.38it/s, Acc=0.345, ClsLoss=0.151, F1=0.348, RMSE=0.045, mAP=0.094, TotalLoss=0.218]\n",
            "Epoch 2/10 Train: 100%|██████████| 310/310 [02:53<00:00,  1.79it/s, Acc=0.428, ClsLoss=0.106, F1=0.432, RMSE=0.037, mAP=0.200, TotalLoss=0.159]\n",
            "Epoch 2/10 Validation: 100%|██████████| 78/78 [00:17<00:00,  4.38it/s, Acc=0.328, ClsLoss=0.084, F1=0.335, RMSE=0.035, mAP=0.177, TotalLoss=0.128]\n",
            "Epoch 3/10 Train: 100%|██████████| 310/310 [02:52<00:00,  1.79it/s, Acc=0.482, ClsLoss=0.060, F1=0.480, RMSE=0.035, mAP=0.322, TotalLoss=0.100]\n",
            "Epoch 3/10 Validation: 100%|██████████| 78/78 [00:17<00:00,  4.40it/s, Acc=0.326, ClsLoss=0.090, F1=0.330, RMSE=0.035, mAP=0.222, TotalLoss=0.141]\n",
            "Epoch 4/10 Train: 100%|██████████| 310/310 [02:53<00:00,  1.79it/s, Acc=0.500, ClsLoss=0.034, F1=0.499, RMSE=0.035, mAP=0.394, TotalLoss=0.060]\n",
            "Epoch 4/10 Validation: 100%|██████████| 78/78 [00:17<00:00,  4.39it/s, Acc=0.352, ClsLoss=0.065, F1=0.355, RMSE=0.034, mAP=0.248, TotalLoss=0.103]\n",
            "Epoch 5/10 Train: 100%|██████████| 310/310 [02:53<00:00,  1.79it/s, Acc=0.531, ClsLoss=0.016, F1=0.528, RMSE=0.035, mAP=0.417, TotalLoss=0.037]\n",
            "Epoch 5/10 Validation: 100%|██████████| 78/78 [00:17<00:00,  4.39it/s, Acc=0.342, ClsLoss=0.062, F1=0.344, RMSE=0.035, mAP=0.256, TotalLoss=0.096]\n",
            "Epoch 6/10 Train: 100%|██████████| 310/310 [02:53<00:00,  1.79it/s, Acc=0.531, ClsLoss=0.014, F1=0.530, RMSE=0.035, mAP=0.438, TotalLoss=0.031]\n",
            "Epoch 6/10 Validation: 100%|██████████| 78/78 [00:17<00:00,  4.39it/s, Acc=0.366, ClsLoss=0.053, F1=0.363, RMSE=0.035, mAP=0.269, TotalLoss=0.082]\n",
            "Epoch 7/10 Train: 100%|██████████| 310/310 [02:52<00:00,  1.79it/s, Acc=0.545, ClsLoss=0.011, F1=0.543, RMSE=0.035, mAP=0.462, TotalLoss=0.027]\n",
            "Epoch 7/10 Validation: 100%|██████████| 78/78 [00:17<00:00,  4.38it/s, Acc=0.356, ClsLoss=0.049, F1=0.354, RMSE=0.034, mAP=0.277, TotalLoss=0.079]\n",
            "Epoch 8/10 Train: 100%|██████████| 310/310 [02:52<00:00,  1.80it/s, Acc=0.542, ClsLoss=0.009, F1=0.541, RMSE=0.035, mAP=0.471, TotalLoss=0.020]\n",
            "Epoch 8/10 Validation: 100%|██████████| 78/78 [00:17<00:00,  4.39it/s, Acc=0.370, ClsLoss=0.075, F1=0.369, RMSE=0.035, mAP=0.290, TotalLoss=0.112]\n",
            "Epoch 9/10 Train: 100%|██████████| 310/310 [02:52<00:00,  1.79it/s, Acc=0.550, ClsLoss=0.005, F1=0.550, RMSE=0.035, mAP=0.483, TotalLoss=0.016]\n",
            "Epoch 9/10 Validation: 100%|██████████| 78/78 [00:17<00:00,  4.39it/s, Acc=0.363, ClsLoss=0.054, F1=0.365, RMSE=0.035, mAP=0.295, TotalLoss=0.081]\n",
            "Epoch 10/10 Train: 100%|██████████| 310/310 [02:52<00:00,  1.80it/s, Acc=0.550, ClsLoss=0.005, F1=0.550, RMSE=0.035, mAP=0.488, TotalLoss=0.014]\n",
            "Epoch 10/10 Validation: 100%|██████████| 78/78 [00:17<00:00,  4.39it/s, Acc=0.351, ClsLoss=0.057, F1=0.353, RMSE=0.034, mAP=0.295, TotalLoss=0.085]\n"
          ]
        },
        {
          "output_type": "display_data",
          "data": {
            "text/plain": [
              "<IPython.core.display.HTML object>"
            ],
            "text/html": []
          },
          "metadata": {}
        },
        {
          "output_type": "display_data",
          "data": {
            "text/plain": [
              "<IPython.core.display.HTML object>"
            ],
            "text/html": [
              "<br>    <style><br>        .wandb-row {<br>            display: flex;<br>            flex-direction: row;<br>            flex-wrap: wrap;<br>            justify-content: flex-start;<br>            width: 100%;<br>        }<br>        .wandb-col {<br>            display: flex;<br>            flex-direction: column;<br>            flex-basis: 100%;<br>            flex: 1;<br>            padding: 10px;<br>        }<br>    </style><br><div class=\"wandb-row\"><div class=\"wandb-col\"><h3>Run history:</h3><br/><table class=\"wandb\"><tr><td>train/accuracy</td><td>▁▅▆▇▇▇████</td></tr><tr><td>train/classification_loss</td><td>█▄▂▂▁▁▁▁▁▁</td></tr><tr><td>train/f1_score</td><td>▁▅▆▇▇▇████</td></tr><tr><td>train/map</td><td>▁▃▅▆▇▇████</td></tr><tr><td>train/rmse</td><td>█▁▁▁▁▁▁▁▁▁</td></tr><tr><td>val/accuracy</td><td>▄▁▁▅▄▇▆█▇▅</td></tr><tr><td>val/classification_loss</td><td>█▃▄▂▂▁▁▃▁▂</td></tr><tr><td>val/f1_score</td><td>▄▂▁▅▃▇▅█▇▅</td></tr><tr><td>val/map</td><td>▁▄▅▆▇▇▇███</td></tr><tr><td>val/rmse</td><td>█▂▁▁▂▂▁▁▂▁</td></tr></table><br/></div><div class=\"wandb-col\"><h3>Run summary:</h3><br/><table class=\"wandb\"><tr><td>train/accuracy</td><td>0.55022</td></tr><tr><td>train/classification_loss</td><td>0.00548</td></tr><tr><td>train/f1_score</td><td>0.55014</td></tr><tr><td>train/map</td><td>0.48829</td></tr><tr><td>train/rmse</td><td>0.03515</td></tr><tr><td>val/accuracy</td><td>0.35064</td></tr><tr><td>val/classification_loss</td><td>0.05677</td></tr><tr><td>val/f1_score</td><td>0.35305</td></tr><tr><td>val/map</td><td>0.29503</td></tr><tr><td>val/rmse</td><td>0.03405</td></tr></table><br/></div></div>"
            ]
          },
          "metadata": {}
        },
        {
          "output_type": "display_data",
          "data": {
            "text/plain": [
              "<IPython.core.display.HTML object>"
            ],
            "text/html": [
              " View run <strong style=\"color:#cdcd00\">revived-dream-267</strong> at: <a href='https://wandb.ai/mehmeteminuludag-kirikkale-university/StajProjesi/runs/2jei59t0' target=\"_blank\">https://wandb.ai/mehmeteminuludag-kirikkale-university/StajProjesi/runs/2jei59t0</a><br> View project at: <a href='https://wandb.ai/mehmeteminuludag-kirikkale-university/StajProjesi' target=\"_blank\">https://wandb.ai/mehmeteminuludag-kirikkale-university/StajProjesi</a><br>Synced 5 W&B file(s), 0 media file(s), 0 artifact file(s) and 0 other file(s)"
            ]
          },
          "metadata": {}
        },
        {
          "output_type": "display_data",
          "data": {
            "text/plain": [
              "<IPython.core.display.HTML object>"
            ],
            "text/html": [
              "Find logs at: <code>./wandb/run-20250810_161323-2jei59t0/logs</code>"
            ]
          },
          "metadata": {}
        },
        {
          "output_type": "stream",
          "name": "stderr",
          "text": [
            "[I 2025-08-10 16:45:16,888] Trial 9 finished with value: 0.07865401620218994 and parameters: {'learning_rate': 5.5292857018056875e-05, 'classification_weight': 1.3885316498641553, 'regression_weight': 0.9150176817378766, 'detection_depth_weight': 0.3312325962942875, 'depth_map_weight': 0.2194157408802837, 'p_iou_threshold': 0.6771717173841169, 'n_iou_threshold': 0.2629609545194854}. Best is trial 7 with value: 0.014146041291846463.\n",
            "/usr/local/lib/python3.11/dist-packages/torch/nn/init.py:511: UserWarning: Initializing zero-element tensors is a no-op\n",
            "  warnings.warn(\"Initializing zero-element tensors is a no-op\")\n"
          ]
        },
        {
          "output_type": "display_data",
          "data": {
            "text/plain": [
              "<IPython.core.display.HTML object>"
            ],
            "text/html": [
              "Tracking run with wandb version 0.21.0"
            ]
          },
          "metadata": {}
        },
        {
          "output_type": "display_data",
          "data": {
            "text/plain": [
              "<IPython.core.display.HTML object>"
            ],
            "text/html": [
              "Run data is saved locally in <code>/content/wandb/run-20250810_164517-r54jmp3q</code>"
            ]
          },
          "metadata": {}
        },
        {
          "output_type": "display_data",
          "data": {
            "text/plain": [
              "<IPython.core.display.HTML object>"
            ],
            "text/html": [
              "Syncing run <strong><a href='https://wandb.ai/mehmeteminuludag-kirikkale-university/StajProjesi/runs/r54jmp3q' target=\"_blank\">pious-terrain-268</a></strong> to <a href='https://wandb.ai/mehmeteminuludag-kirikkale-university/StajProjesi' target=\"_blank\">Weights & Biases</a> (<a href='https://wandb.me/developer-guide' target=\"_blank\">docs</a>)<br>"
            ]
          },
          "metadata": {}
        },
        {
          "output_type": "display_data",
          "data": {
            "text/plain": [
              "<IPython.core.display.HTML object>"
            ],
            "text/html": [
              " View project at <a href='https://wandb.ai/mehmeteminuludag-kirikkale-university/StajProjesi' target=\"_blank\">https://wandb.ai/mehmeteminuludag-kirikkale-university/StajProjesi</a>"
            ]
          },
          "metadata": {}
        },
        {
          "output_type": "display_data",
          "data": {
            "text/plain": [
              "<IPython.core.display.HTML object>"
            ],
            "text/html": [
              " View run at <a href='https://wandb.ai/mehmeteminuludag-kirikkale-university/StajProjesi/runs/r54jmp3q' target=\"_blank\">https://wandb.ai/mehmeteminuludag-kirikkale-university/StajProjesi/runs/r54jmp3q</a>"
            ]
          },
          "metadata": {}
        },
        {
          "output_type": "stream",
          "name": "stderr",
          "text": [
            "Epoch 1/10 Train: 100%|██████████| 310/310 [03:21<00:00,  1.54it/s, Acc=0.558, ClsLoss=0.457, F1=0.544, RMSE=0.048, mAP=0.327, TotalLoss=0.364]\n",
            "Epoch 1/10 Validation: 100%|██████████| 78/78 [00:17<00:00,  4.35it/s, Acc=0.555, ClsLoss=0.252, F1=0.518, RMSE=0.034, mAP=0.312, TotalLoss=0.165]\n",
            "Epoch 2/10 Train: 100%|██████████| 310/310 [03:21<00:00,  1.54it/s, Acc=0.630, ClsLoss=0.130, F1=0.613, RMSE=0.035, mAP=0.406, TotalLoss=0.107]\n",
            "Epoch 2/10 Validation: 100%|██████████| 78/78 [00:17<00:00,  4.34it/s, Acc=0.561, ClsLoss=0.131, F1=0.543, RMSE=0.034, mAP=0.373, TotalLoss=0.096]\n",
            "Epoch 3/10 Train: 100%|██████████| 310/310 [03:21<00:00,  1.54it/s, Acc=0.674, ClsLoss=0.092, F1=0.655, RMSE=0.035, mAP=0.446, TotalLoss=0.078]\n",
            "Epoch 3/10 Validation: 100%|██████████| 78/78 [00:17<00:00,  4.35it/s, Acc=0.552, ClsLoss=0.115, F1=0.533, RMSE=0.034, mAP=0.365, TotalLoss=0.081]\n",
            "Epoch 4/10 Train: 100%|██████████| 310/310 [03:20<00:00,  1.55it/s, Acc=0.715, ClsLoss=0.075, F1=0.709, RMSE=0.035, mAP=0.489, TotalLoss=0.065]\n",
            "Epoch 4/10 Validation: 100%|██████████| 78/78 [00:17<00:00,  4.35it/s, Acc=0.562, ClsLoss=0.123, F1=0.544, RMSE=0.034, mAP=0.397, TotalLoss=0.092]\n",
            "Epoch 5/10 Train: 100%|██████████| 310/310 [03:20<00:00,  1.54it/s, Acc=0.717, ClsLoss=0.071, F1=0.710, RMSE=0.035, mAP=0.513, TotalLoss=0.060]\n",
            "Epoch 5/10 Validation: 100%|██████████| 78/78 [00:17<00:00,  4.35it/s, Acc=0.601, ClsLoss=0.108, F1=0.589, RMSE=0.034, mAP=0.414, TotalLoss=0.079]\n",
            "Epoch 6/10 Train: 100%|██████████| 310/310 [03:20<00:00,  1.55it/s, Acc=0.762, ClsLoss=0.112, F1=0.760, RMSE=0.035, mAP=0.554, TotalLoss=0.115]\n",
            "Epoch 6/10 Validation: 100%|██████████| 78/78 [00:17<00:00,  4.36it/s, Acc=0.600, ClsLoss=0.115, F1=0.593, RMSE=0.034, mAP=0.419, TotalLoss=0.079]\n",
            "Epoch 7/10 Train: 100%|██████████| 310/310 [03:21<00:00,  1.54it/s, Acc=0.788, ClsLoss=0.041, F1=0.787, RMSE=0.035, mAP=0.594, TotalLoss=0.043]\n",
            "Epoch 7/10 Validation: 100%|██████████| 78/78 [00:17<00:00,  4.35it/s, Acc=0.610, ClsLoss=0.105, F1=0.590, RMSE=0.034, mAP=0.447, TotalLoss=0.079]\n",
            "Epoch 8/10 Train: 100%|██████████| 310/310 [03:21<00:00,  1.54it/s, Acc=0.786, ClsLoss=0.038, F1=0.784, RMSE=0.035, mAP=0.601, TotalLoss=0.041]\n",
            "Epoch 8/10 Validation: 100%|██████████| 78/78 [00:17<00:00,  4.34it/s, Acc=0.598, ClsLoss=0.102, F1=0.589, RMSE=0.036, mAP=0.449, TotalLoss=0.073]\n",
            "Epoch 9/10 Train: 100%|██████████| 310/310 [03:20<00:00,  1.54it/s, Acc=0.810, ClsLoss=0.033, F1=0.813, RMSE=0.036, mAP=0.631, TotalLoss=0.038]\n",
            "Epoch 9/10 Validation: 100%|██████████| 78/78 [00:17<00:00,  4.35it/s, Acc=0.619, ClsLoss=0.093, F1=0.605, RMSE=0.034, mAP=0.478, TotalLoss=0.068]\n",
            "Epoch 10/10 Train: 100%|██████████| 310/310 [03:20<00:00,  1.55it/s, Acc=0.816, ClsLoss=0.026, F1=0.814, RMSE=0.035, mAP=0.648, TotalLoss=0.033]\n",
            "Epoch 10/10 Validation: 100%|██████████| 78/78 [00:17<00:00,  4.35it/s, Acc=0.629, ClsLoss=0.094, F1=0.621, RMSE=0.033, mAP=0.474, TotalLoss=0.072]\n"
          ]
        },
        {
          "output_type": "display_data",
          "data": {
            "text/plain": [
              "<IPython.core.display.HTML object>"
            ],
            "text/html": []
          },
          "metadata": {}
        },
        {
          "output_type": "display_data",
          "data": {
            "text/plain": [
              "<IPython.core.display.HTML object>"
            ],
            "text/html": [
              "<br>    <style><br>        .wandb-row {<br>            display: flex;<br>            flex-direction: row;<br>            flex-wrap: wrap;<br>            justify-content: flex-start;<br>            width: 100%;<br>        }<br>        .wandb-col {<br>            display: flex;<br>            flex-direction: column;<br>            flex-basis: 100%;<br>            flex: 1;<br>            padding: 10px;<br>        }<br>    </style><br><div class=\"wandb-row\"><div class=\"wandb-col\"><h3>Run history:</h3><br/><table class=\"wandb\"><tr><td>train/accuracy</td><td>▁▃▄▅▅▇▇▇██</td></tr><tr><td>train/classification_loss</td><td>█▃▂▂▂▂▁▁▁▁</td></tr><tr><td>train/f1_score</td><td>▁▃▄▅▅▇▇▇██</td></tr><tr><td>train/map</td><td>▁▃▄▅▅▆▇▇██</td></tr><tr><td>train/rmse</td><td>█▁▁▁▁▁▁▁▁▁</td></tr><tr><td>val/accuracy</td><td>▁▂▁▂▅▅▆▅▇█</td></tr><tr><td>val/classification_loss</td><td>█▃▂▂▂▂▂▁▁▁</td></tr><tr><td>val/f1_score</td><td>▁▃▂▃▆▆▆▆▇█</td></tr><tr><td>val/map</td><td>▁▄▃▅▅▆▇▇██</td></tr><tr><td>val/rmse</td><td>▁▂▂▂▃▃▃█▁▁</td></tr></table><br/></div><div class=\"wandb-col\"><h3>Run summary:</h3><br/><table class=\"wandb\"><tr><td>train/accuracy</td><td>0.8158</td></tr><tr><td>train/classification_loss</td><td>0.02576</td></tr><tr><td>train/f1_score</td><td>0.81418</td></tr><tr><td>train/map</td><td>0.64842</td></tr><tr><td>train/rmse</td><td>0.03522</td></tr><tr><td>val/accuracy</td><td>0.62908</td></tr><tr><td>val/classification_loss</td><td>0.09388</td></tr><tr><td>val/f1_score</td><td>0.62112</td></tr><tr><td>val/map</td><td>0.47361</td></tr><tr><td>val/rmse</td><td>0.03343</td></tr></table><br/></div></div>"
            ]
          },
          "metadata": {}
        },
        {
          "output_type": "display_data",
          "data": {
            "text/plain": [
              "<IPython.core.display.HTML object>"
            ],
            "text/html": [
              " View run <strong style=\"color:#cdcd00\">pious-terrain-268</strong> at: <a href='https://wandb.ai/mehmeteminuludag-kirikkale-university/StajProjesi/runs/r54jmp3q' target=\"_blank\">https://wandb.ai/mehmeteminuludag-kirikkale-university/StajProjesi/runs/r54jmp3q</a><br> View project at: <a href='https://wandb.ai/mehmeteminuludag-kirikkale-university/StajProjesi' target=\"_blank\">https://wandb.ai/mehmeteminuludag-kirikkale-university/StajProjesi</a><br>Synced 5 W&B file(s), 0 media file(s), 0 artifact file(s) and 0 other file(s)"
            ]
          },
          "metadata": {}
        },
        {
          "output_type": "display_data",
          "data": {
            "text/plain": [
              "<IPython.core.display.HTML object>"
            ],
            "text/html": [
              "Find logs at: <code>./wandb/run-20250810_164517-r54jmp3q/logs</code>"
            ]
          },
          "metadata": {}
        },
        {
          "output_type": "stream",
          "name": "stderr",
          "text": [
            "[I 2025-08-10 17:21:52,016] Trial 10 finished with value: 0.06827960982655686 and parameters: {'learning_rate': 0.000983335064312507, 'classification_weight': 0.5269828108991573, 'regression_weight': 1.5338115058039041, 'detection_depth_weight': 0.49332158117902225, 'depth_map_weight': 0.3753093855715984, 'p_iou_threshold': 0.5586446211858067, 'n_iou_threshold': 0.3169885298146174}. Best is trial 7 with value: 0.014146041291846463.\n",
            "/usr/local/lib/python3.11/dist-packages/torch/nn/init.py:511: UserWarning: Initializing zero-element tensors is a no-op\n",
            "  warnings.warn(\"Initializing zero-element tensors is a no-op\")\n"
          ]
        },
        {
          "output_type": "display_data",
          "data": {
            "text/plain": [
              "<IPython.core.display.HTML object>"
            ],
            "text/html": [
              "Tracking run with wandb version 0.21.0"
            ]
          },
          "metadata": {}
        },
        {
          "output_type": "display_data",
          "data": {
            "text/plain": [
              "<IPython.core.display.HTML object>"
            ],
            "text/html": [
              "Run data is saved locally in <code>/content/wandb/run-20250810_172152-0a5zg523</code>"
            ]
          },
          "metadata": {}
        },
        {
          "output_type": "display_data",
          "data": {
            "text/plain": [
              "<IPython.core.display.HTML object>"
            ],
            "text/html": [
              "Syncing run <strong><a href='https://wandb.ai/mehmeteminuludag-kirikkale-university/StajProjesi/runs/0a5zg523' target=\"_blank\">valiant-shadow-269</a></strong> to <a href='https://wandb.ai/mehmeteminuludag-kirikkale-university/StajProjesi' target=\"_blank\">Weights & Biases</a> (<a href='https://wandb.me/developer-guide' target=\"_blank\">docs</a>)<br>"
            ]
          },
          "metadata": {}
        },
        {
          "output_type": "display_data",
          "data": {
            "text/plain": [
              "<IPython.core.display.HTML object>"
            ],
            "text/html": [
              " View project at <a href='https://wandb.ai/mehmeteminuludag-kirikkale-university/StajProjesi' target=\"_blank\">https://wandb.ai/mehmeteminuludag-kirikkale-university/StajProjesi</a>"
            ]
          },
          "metadata": {}
        },
        {
          "output_type": "display_data",
          "data": {
            "text/plain": [
              "<IPython.core.display.HTML object>"
            ],
            "text/html": [
              " View run at <a href='https://wandb.ai/mehmeteminuludag-kirikkale-university/StajProjesi/runs/0a5zg523' target=\"_blank\">https://wandb.ai/mehmeteminuludag-kirikkale-university/StajProjesi/runs/0a5zg523</a>"
            ]
          },
          "metadata": {}
        },
        {
          "output_type": "stream",
          "name": "stderr",
          "text": [
            "Epoch 1/10 Train: 100%|██████████| 310/310 [02:47<00:00,  1.85it/s, Acc=0.312, ClsLoss=0.198, F1=0.316, RMSE=0.098, mAP=0.137, TotalLoss=0.339]\n",
            "Epoch 1/10 Validation: 100%|██████████| 78/78 [00:17<00:00,  4.39it/s, Acc=0.290, ClsLoss=0.125, F1=0.306, RMSE=0.038, mAP=0.180, TotalLoss=0.219]\n",
            "Epoch 2/10 Train: 100%|██████████| 310/310 [02:47<00:00,  1.85it/s, Acc=0.424, ClsLoss=0.045, F1=0.423, RMSE=0.036, mAP=0.305, TotalLoss=0.115]\n",
            "Epoch 2/10 Validation: 100%|██████████| 78/78 [00:17<00:00,  4.40it/s, Acc=0.325, ClsLoss=0.064, F1=0.327, RMSE=0.034, mAP=0.203, TotalLoss=0.149]\n",
            "Epoch 3/10 Train: 100%|██████████| 310/310 [02:47<00:00,  1.85it/s, Acc=0.457, ClsLoss=0.057, F1=0.455, RMSE=0.035, mAP=0.347, TotalLoss=0.122]\n",
            "Epoch 3/10 Validation: 100%|██████████| 78/78 [00:17<00:00,  4.40it/s, Acc=0.319, ClsLoss=0.045, F1=0.323, RMSE=0.034, mAP=0.229, TotalLoss=0.104]\n",
            "Epoch 4/10 Train: 100%|██████████| 310/310 [02:47<00:00,  1.85it/s, Acc=0.477, ClsLoss=0.017, F1=0.476, RMSE=0.034, mAP=0.377, TotalLoss=0.066]\n",
            "Epoch 4/10 Validation: 100%|██████████| 78/78 [00:17<00:00,  4.40it/s, Acc=0.318, ClsLoss=0.059, F1=0.320, RMSE=0.034, mAP=0.254, TotalLoss=0.170]\n",
            "Epoch 5/10 Train: 100%|██████████| 310/310 [02:47<00:00,  1.86it/s, Acc=0.484, ClsLoss=0.006, F1=0.483, RMSE=0.034, mAP=0.398, TotalLoss=0.038]\n",
            "Epoch 5/10 Validation: 100%|██████████| 78/78 [00:17<00:00,  4.39it/s, Acc=0.344, ClsLoss=0.094, F1=0.348, RMSE=0.034, mAP=0.274, TotalLoss=0.182]\n",
            "Epoch 6/10 Train: 100%|██████████| 310/310 [02:46<00:00,  1.86it/s, Acc=0.492, ClsLoss=0.043, F1=0.492, RMSE=0.035, mAP=0.416, TotalLoss=0.079]\n",
            "Epoch 6/10 Validation: 100%|██████████| 78/78 [00:17<00:00,  4.39it/s, Acc=0.343, ClsLoss=0.089, F1=0.349, RMSE=0.034, mAP=0.259, TotalLoss=0.150]\n",
            "Epoch 7/10 Train: 100%|██████████| 310/310 [02:47<00:00,  1.85it/s, Acc=0.496, ClsLoss=0.002, F1=0.496, RMSE=0.035, mAP=0.429, TotalLoss=0.021]\n",
            "Epoch 7/10 Validation: 100%|██████████| 78/78 [00:17<00:00,  4.39it/s, Acc=0.333, ClsLoss=0.094, F1=0.338, RMSE=0.034, mAP=0.277, TotalLoss=0.177]\n",
            "Epoch 8/10 Train: 100%|██████████| 310/310 [02:47<00:00,  1.85it/s, Acc=0.497, ClsLoss=0.002, F1=0.497, RMSE=0.035, mAP=0.431, TotalLoss=0.009]\n",
            "Epoch 8/10 Validation: 100%|██████████| 78/78 [00:17<00:00,  4.40it/s, Acc=0.331, ClsLoss=0.097, F1=0.335, RMSE=0.034, mAP=0.270, TotalLoss=0.176]\n",
            "Epoch 9/10 Train: 100%|██████████| 310/310 [02:46<00:00,  1.86it/s, Acc=0.493, ClsLoss=0.001, F1=0.493, RMSE=0.035, mAP=0.432, TotalLoss=0.014]\n",
            "Epoch 9/10 Validation: 100%|██████████| 78/78 [00:17<00:00,  4.40it/s, Acc=0.356, ClsLoss=0.052, F1=0.361, RMSE=0.034, mAP=0.288, TotalLoss=0.090]\n",
            "Epoch 10/10 Train: 100%|██████████| 310/310 [02:47<00:00,  1.85it/s, Acc=0.493, ClsLoss=0.092, F1=0.493, RMSE=0.035, mAP=0.435, TotalLoss=0.141]\n",
            "Epoch 10/10 Validation: 100%|██████████| 78/78 [00:17<00:00,  4.39it/s, Acc=0.341, ClsLoss=0.027, F1=0.343, RMSE=0.035, mAP=0.291, TotalLoss=0.045]\n"
          ]
        },
        {
          "output_type": "display_data",
          "data": {
            "text/plain": [
              "<IPython.core.display.HTML object>"
            ],
            "text/html": []
          },
          "metadata": {}
        },
        {
          "output_type": "display_data",
          "data": {
            "text/plain": [
              "<IPython.core.display.HTML object>"
            ],
            "text/html": [
              "<br>    <style><br>        .wandb-row {<br>            display: flex;<br>            flex-direction: row;<br>            flex-wrap: wrap;<br>            justify-content: flex-start;<br>            width: 100%;<br>        }<br>        .wandb-col {<br>            display: flex;<br>            flex-direction: column;<br>            flex-basis: 100%;<br>            flex: 1;<br>            padding: 10px;<br>        }<br>    </style><br><div class=\"wandb-row\"><div class=\"wandb-col\"><h3>Run history:</h3><br/><table class=\"wandb\"><tr><td>train/accuracy</td><td>▁▅▆▇██████</td></tr><tr><td>train/classification_loss</td><td>█▃▃▂▁▃▁▁▁▄</td></tr><tr><td>train/f1_score</td><td>▁▅▆▇▇█████</td></tr><tr><td>train/map</td><td>▁▅▆▇▇█████</td></tr><tr><td>train/rmse</td><td>█▁▁▁▁▁▁▁▁▁</td></tr><tr><td>val/accuracy</td><td>▁▅▄▄▇▇▆▅█▆</td></tr><tr><td>val/classification_loss</td><td>█▄▂▃▆▅▆▆▃▁</td></tr><tr><td>val/f1_score</td><td>▁▄▃▃▆▆▅▅█▆</td></tr><tr><td>val/map</td><td>▁▂▄▆▇▆▇▇██</td></tr><tr><td>val/rmse</td><td>█▂▁▁▁▁▂▁▂▂</td></tr></table><br/></div><div class=\"wandb-col\"><h3>Run summary:</h3><br/><table class=\"wandb\"><tr><td>train/accuracy</td><td>0.4929</td></tr><tr><td>train/classification_loss</td><td>0.09195</td></tr><tr><td>train/f1_score</td><td>0.4929</td></tr><tr><td>train/map</td><td>0.43468</td></tr><tr><td>train/rmse</td><td>0.03493</td></tr><tr><td>val/accuracy</td><td>0.34103</td></tr><tr><td>val/classification_loss</td><td>0.02716</td></tr><tr><td>val/f1_score</td><td>0.34338</td></tr><tr><td>val/map</td><td>0.29052</td></tr><tr><td>val/rmse</td><td>0.03464</td></tr></table><br/></div></div>"
            ]
          },
          "metadata": {}
        },
        {
          "output_type": "display_data",
          "data": {
            "text/plain": [
              "<IPython.core.display.HTML object>"
            ],
            "text/html": [
              " View run <strong style=\"color:#cdcd00\">valiant-shadow-269</strong> at: <a href='https://wandb.ai/mehmeteminuludag-kirikkale-university/StajProjesi/runs/0a5zg523' target=\"_blank\">https://wandb.ai/mehmeteminuludag-kirikkale-university/StajProjesi/runs/0a5zg523</a><br> View project at: <a href='https://wandb.ai/mehmeteminuludag-kirikkale-university/StajProjesi' target=\"_blank\">https://wandb.ai/mehmeteminuludag-kirikkale-university/StajProjesi</a><br>Synced 5 W&B file(s), 0 media file(s), 0 artifact file(s) and 0 other file(s)"
            ]
          },
          "metadata": {}
        },
        {
          "output_type": "display_data",
          "data": {
            "text/plain": [
              "<IPython.core.display.HTML object>"
            ],
            "text/html": [
              "Find logs at: <code>./wandb/run-20250810_172152-0a5zg523/logs</code>"
            ]
          },
          "metadata": {}
        },
        {
          "output_type": "stream",
          "name": "stderr",
          "text": [
            "[I 2025-08-10 17:52:48,594] Trial 11 finished with value: 0.04505068290041564 and parameters: {'learning_rate': 0.00018206157603277632, 'classification_weight': 1.4226166619536798, 'regression_weight': 1.9805247221072184, 'detection_depth_weight': 0.2449000477269571, 'depth_map_weight': 0.3384769976942713, 'p_iou_threshold': 0.687678267287252, 'n_iou_threshold': 0.24351178591245679}. Best is trial 7 with value: 0.014146041291846463.\n",
            "/usr/local/lib/python3.11/dist-packages/torch/nn/init.py:511: UserWarning: Initializing zero-element tensors is a no-op\n",
            "  warnings.warn(\"Initializing zero-element tensors is a no-op\")\n"
          ]
        },
        {
          "output_type": "display_data",
          "data": {
            "text/plain": [
              "<IPython.core.display.HTML object>"
            ],
            "text/html": [
              "Tracking run with wandb version 0.21.0"
            ]
          },
          "metadata": {}
        },
        {
          "output_type": "display_data",
          "data": {
            "text/plain": [
              "<IPython.core.display.HTML object>"
            ],
            "text/html": [
              "Run data is saved locally in <code>/content/wandb/run-20250810_175248-mk5whxd6</code>"
            ]
          },
          "metadata": {}
        },
        {
          "output_type": "display_data",
          "data": {
            "text/plain": [
              "<IPython.core.display.HTML object>"
            ],
            "text/html": [
              "Syncing run <strong><a href='https://wandb.ai/mehmeteminuludag-kirikkale-university/StajProjesi/runs/mk5whxd6' target=\"_blank\">avid-aardvark-270</a></strong> to <a href='https://wandb.ai/mehmeteminuludag-kirikkale-university/StajProjesi' target=\"_blank\">Weights & Biases</a> (<a href='https://wandb.me/developer-guide' target=\"_blank\">docs</a>)<br>"
            ]
          },
          "metadata": {}
        },
        {
          "output_type": "display_data",
          "data": {
            "text/plain": [
              "<IPython.core.display.HTML object>"
            ],
            "text/html": [
              " View project at <a href='https://wandb.ai/mehmeteminuludag-kirikkale-university/StajProjesi' target=\"_blank\">https://wandb.ai/mehmeteminuludag-kirikkale-university/StajProjesi</a>"
            ]
          },
          "metadata": {}
        },
        {
          "output_type": "display_data",
          "data": {
            "text/plain": [
              "<IPython.core.display.HTML object>"
            ],
            "text/html": [
              " View run at <a href='https://wandb.ai/mehmeteminuludag-kirikkale-university/StajProjesi/runs/mk5whxd6' target=\"_blank\">https://wandb.ai/mehmeteminuludag-kirikkale-university/StajProjesi/runs/mk5whxd6</a>"
            ]
          },
          "metadata": {}
        },
        {
          "output_type": "stream",
          "name": "stderr",
          "text": [
            "Epoch 1/10 Train: 100%|██████████| 310/310 [03:20<00:00,  1.54it/s, Acc=0.560, ClsLoss=0.400, F1=0.546, RMSE=0.040, mAP=0.365, TotalLoss=0.732]\n",
            "Epoch 1/10 Validation: 100%|██████████| 78/78 [00:17<00:00,  4.35it/s, Acc=0.478, ClsLoss=0.313, F1=0.466, RMSE=0.035, mAP=0.346, TotalLoss=0.481]\n",
            "Epoch 2/10 Train: 100%|██████████| 310/310 [03:20<00:00,  1.54it/s, Acc=0.581, ClsLoss=0.238, F1=0.573, RMSE=0.038, mAP=0.414, TotalLoss=0.632]\n",
            "Epoch 2/10 Validation: 100%|██████████| 78/78 [00:17<00:00,  4.35it/s, Acc=0.516, ClsLoss=2.397, F1=0.511, RMSE=0.035, mAP=0.366, TotalLoss=4.353]\n",
            "Epoch 3/10 Train: 100%|██████████| 310/310 [03:20<00:00,  1.55it/s, Acc=0.605, ClsLoss=0.310, F1=0.591, RMSE=0.038, mAP=0.425, TotalLoss=0.755]\n",
            "Epoch 3/10 Validation: 100%|██████████| 78/78 [00:17<00:00,  4.35it/s, Acc=0.481, ClsLoss=0.492, F1=0.498, RMSE=0.035, mAP=0.389, TotalLoss=1.195]\n",
            "Epoch 4/10 Train: 100%|██████████| 310/310 [03:20<00:00,  1.55it/s, Acc=0.610, ClsLoss=0.264, F1=0.603, RMSE=0.038, mAP=0.426, TotalLoss=0.717]\n",
            "Epoch 4/10 Validation: 100%|██████████| 78/78 [00:17<00:00,  4.34it/s, Acc=0.541, ClsLoss=0.130, F1=0.522, RMSE=0.035, mAP=0.361, TotalLoss=0.191]\n",
            "Epoch 5/10 Train: 100%|██████████| 310/310 [03:20<00:00,  1.54it/s, Acc=0.630, ClsLoss=0.180, F1=0.632, RMSE=0.038, mAP=0.453, TotalLoss=0.439]\n",
            "Epoch 5/10 Validation: 100%|██████████| 78/78 [00:17<00:00,  4.35it/s, Acc=0.516, ClsLoss=0.138, F1=0.509, RMSE=0.035, mAP=0.389, TotalLoss=0.450]\n",
            "Epoch 6/10 Train: 100%|██████████| 310/310 [03:20<00:00,  1.54it/s, Acc=0.642, ClsLoss=0.113, F1=0.642, RMSE=0.038, mAP=0.470, TotalLoss=0.554]\n",
            "Epoch 6/10 Validation: 100%|██████████| 78/78 [00:17<00:00,  4.35it/s, Acc=0.583, ClsLoss=0.120, F1=0.574, RMSE=0.035, mAP=0.396, TotalLoss=0.260]\n",
            "Epoch 7/10 Train: 100%|██████████| 310/310 [03:21<00:00,  1.54it/s, Acc=0.682, ClsLoss=0.097, F1=0.684, RMSE=0.038, mAP=0.499, TotalLoss=0.367]\n",
            "Epoch 7/10 Validation: 100%|██████████| 78/78 [00:17<00:00,  4.35it/s, Acc=0.507, ClsLoss=0.232, F1=0.538, RMSE=0.035, mAP=0.371, TotalLoss=1.246]\n",
            "Epoch 8/10 Train: 100%|██████████| 310/310 [03:20<00:00,  1.54it/s, Acc=0.711, ClsLoss=0.113, F1=0.714, RMSE=0.038, mAP=0.515, TotalLoss=0.460]\n",
            "Epoch 8/10 Validation: 100%|██████████| 78/78 [00:17<00:00,  4.35it/s, Acc=0.598, ClsLoss=0.195, F1=0.595, RMSE=0.035, mAP=0.404, TotalLoss=0.719]\n",
            "Epoch 9/10 Train: 100%|██████████| 310/310 [03:20<00:00,  1.54it/s, Acc=0.709, ClsLoss=0.117, F1=0.715, RMSE=0.038, mAP=0.532, TotalLoss=0.424]\n",
            "Epoch 9/10 Validation: 100%|██████████| 78/78 [00:17<00:00,  4.35it/s, Acc=0.555, ClsLoss=0.258, F1=0.555, RMSE=0.035, mAP=0.427, TotalLoss=0.578]\n",
            "Epoch 10/10 Train: 100%|██████████| 310/310 [03:20<00:00,  1.55it/s, Acc=0.749, ClsLoss=0.064, F1=0.750, RMSE=0.038, mAP=0.562, TotalLoss=0.192]\n",
            "Epoch 10/10 Validation: 100%|██████████| 78/78 [00:17<00:00,  4.34it/s, Acc=0.587, ClsLoss=0.112, F1=0.575, RMSE=0.035, mAP=0.451, TotalLoss=0.165]\n"
          ]
        },
        {
          "output_type": "display_data",
          "data": {
            "text/plain": [
              "<IPython.core.display.HTML object>"
            ],
            "text/html": []
          },
          "metadata": {}
        },
        {
          "output_type": "display_data",
          "data": {
            "text/plain": [
              "<IPython.core.display.HTML object>"
            ],
            "text/html": [
              "<br>    <style><br>        .wandb-row {<br>            display: flex;<br>            flex-direction: row;<br>            flex-wrap: wrap;<br>            justify-content: flex-start;<br>            width: 100%;<br>        }<br>        .wandb-col {<br>            display: flex;<br>            flex-direction: column;<br>            flex-basis: 100%;<br>            flex: 1;<br>            padding: 10px;<br>        }<br>    </style><br><div class=\"wandb-row\"><div class=\"wandb-col\"><h3>Run history:</h3><br/><table class=\"wandb\"><tr><td>train/accuracy</td><td>▁▂▃▃▄▄▆▇▇█</td></tr><tr><td>train/classification_loss</td><td>█▅▆▅▃▂▂▂▂▁</td></tr><tr><td>train/f1_score</td><td>▁▂▃▃▄▄▆▇▇█</td></tr><tr><td>train/map</td><td>▁▃▃▃▄▅▆▆▇█</td></tr><tr><td>train/rmse</td><td>█▁▁▁▁▁▁▁▁▁</td></tr><tr><td>val/accuracy</td><td>▁▃▁▅▃▇▃█▅▇</td></tr><tr><td>val/classification_loss</td><td>▂█▂▁▁▁▁▁▁▁</td></tr><tr><td>val/f1_score</td><td>▁▃▃▄▃▇▅█▆▇</td></tr><tr><td>val/map</td><td>▁▂▄▂▄▄▃▅▆█</td></tr><tr><td>val/rmse</td><td>▁█████████</td></tr></table><br/></div><div class=\"wandb-col\"><h3>Run summary:</h3><br/><table class=\"wandb\"><tr><td>train/accuracy</td><td>0.74947</td></tr><tr><td>train/classification_loss</td><td>0.06375</td></tr><tr><td>train/f1_score</td><td>0.74995</td></tr><tr><td>train/map</td><td>0.56235</td></tr><tr><td>train/rmse</td><td>0.03766</td></tr><tr><td>val/accuracy</td><td>0.58717</td></tr><tr><td>val/classification_loss</td><td>0.11236</td></tr><tr><td>val/f1_score</td><td>0.57527</td></tr><tr><td>val/map</td><td>0.45085</td></tr><tr><td>val/rmse</td><td>0.03549</td></tr></table><br/></div></div>"
            ]
          },
          "metadata": {}
        },
        {
          "output_type": "display_data",
          "data": {
            "text/plain": [
              "<IPython.core.display.HTML object>"
            ],
            "text/html": [
              " View run <strong style=\"color:#cdcd00\">avid-aardvark-270</strong> at: <a href='https://wandb.ai/mehmeteminuludag-kirikkale-university/StajProjesi/runs/mk5whxd6' target=\"_blank\">https://wandb.ai/mehmeteminuludag-kirikkale-university/StajProjesi/runs/mk5whxd6</a><br> View project at: <a href='https://wandb.ai/mehmeteminuludag-kirikkale-university/StajProjesi' target=\"_blank\">https://wandb.ai/mehmeteminuludag-kirikkale-university/StajProjesi</a><br>Synced 5 W&B file(s), 0 media file(s), 0 artifact file(s) and 0 other file(s)"
            ]
          },
          "metadata": {}
        },
        {
          "output_type": "display_data",
          "data": {
            "text/plain": [
              "<IPython.core.display.HTML object>"
            ],
            "text/html": [
              "Find logs at: <code>./wandb/run-20250810_175248-mk5whxd6/logs</code>"
            ]
          },
          "metadata": {}
        },
        {
          "output_type": "stream",
          "name": "stderr",
          "text": [
            "[I 2025-08-10 18:29:20,122] Trial 12 finished with value: 0.16452689370714965 and parameters: {'learning_rate': 0.001593772220282828, 'classification_weight': 1.2536837443429862, 'regression_weight': 1.6348825684114165, 'detection_depth_weight': 0.23654472226279918, 'depth_map_weight': 0.30267297735018006, 'p_iou_threshold': 0.5562265686146393, 'n_iou_threshold': 0.32746014250329286}. Best is trial 7 with value: 0.014146041291846463.\n",
            "/usr/local/lib/python3.11/dist-packages/torch/nn/init.py:511: UserWarning: Initializing zero-element tensors is a no-op\n",
            "  warnings.warn(\"Initializing zero-element tensors is a no-op\")\n"
          ]
        },
        {
          "output_type": "display_data",
          "data": {
            "text/plain": [
              "<IPython.core.display.HTML object>"
            ],
            "text/html": [
              "Tracking run with wandb version 0.21.0"
            ]
          },
          "metadata": {}
        },
        {
          "output_type": "display_data",
          "data": {
            "text/plain": [
              "<IPython.core.display.HTML object>"
            ],
            "text/html": [
              "Run data is saved locally in <code>/content/wandb/run-20250810_182920-6wcjyi71</code>"
            ]
          },
          "metadata": {}
        },
        {
          "output_type": "display_data",
          "data": {
            "text/plain": [
              "<IPython.core.display.HTML object>"
            ],
            "text/html": [
              "Syncing run <strong><a href='https://wandb.ai/mehmeteminuludag-kirikkale-university/StajProjesi/runs/6wcjyi71' target=\"_blank\">breezy-capybara-271</a></strong> to <a href='https://wandb.ai/mehmeteminuludag-kirikkale-university/StajProjesi' target=\"_blank\">Weights & Biases</a> (<a href='https://wandb.me/developer-guide' target=\"_blank\">docs</a>)<br>"
            ]
          },
          "metadata": {}
        },
        {
          "output_type": "display_data",
          "data": {
            "text/plain": [
              "<IPython.core.display.HTML object>"
            ],
            "text/html": [
              " View project at <a href='https://wandb.ai/mehmeteminuludag-kirikkale-university/StajProjesi' target=\"_blank\">https://wandb.ai/mehmeteminuludag-kirikkale-university/StajProjesi</a>"
            ]
          },
          "metadata": {}
        },
        {
          "output_type": "display_data",
          "data": {
            "text/plain": [
              "<IPython.core.display.HTML object>"
            ],
            "text/html": [
              " View run at <a href='https://wandb.ai/mehmeteminuludag-kirikkale-university/StajProjesi/runs/6wcjyi71' target=\"_blank\">https://wandb.ai/mehmeteminuludag-kirikkale-university/StajProjesi/runs/6wcjyi71</a>"
            ]
          },
          "metadata": {}
        },
        {
          "output_type": "stream",
          "name": "stderr",
          "text": [
            "Epoch 1/10 Train: 100%|██████████| 310/310 [03:28<00:00,  1.49it/s, Acc=0.606, ClsLoss=0.233, F1=0.547, RMSE=0.056, mAP=0.349, TotalLoss=0.453]\n",
            "Epoch 1/10 Validation: 100%|██████████| 78/78 [00:18<00:00,  4.33it/s, Acc=0.570, ClsLoss=0.258, F1=0.503, RMSE=0.035, mAP=0.354, TotalLoss=0.486]\n",
            "Epoch 2/10 Train: 100%|██████████| 310/310 [03:27<00:00,  1.49it/s, Acc=0.629, ClsLoss=0.202, F1=0.572, RMSE=0.035, mAP=0.399, TotalLoss=0.389]\n",
            "Epoch 2/10 Validation: 100%|██████████| 78/78 [00:18<00:00,  4.33it/s, Acc=0.576, ClsLoss=0.240, F1=0.514, RMSE=0.036, mAP=0.371, TotalLoss=0.458]\n",
            "Epoch 3/10 Train: 100%|██████████| 310/310 [03:27<00:00,  1.49it/s, Acc=0.641, ClsLoss=0.179, F1=0.597, RMSE=0.035, mAP=0.421, TotalLoss=0.350]\n",
            "Epoch 3/10 Validation: 100%|██████████| 78/78 [00:18<00:00,  4.32it/s, Acc=0.576, ClsLoss=0.233, F1=0.519, RMSE=0.035, mAP=0.379, TotalLoss=0.438]\n",
            "Epoch 4/10 Train: 100%|██████████| 310/310 [03:27<00:00,  1.49it/s, Acc=0.659, ClsLoss=0.157, F1=0.630, RMSE=0.035, mAP=0.458, TotalLoss=0.314]\n",
            "Epoch 4/10 Validation: 100%|██████████| 78/78 [00:17<00:00,  4.34it/s, Acc=0.594, ClsLoss=0.216, F1=0.568, RMSE=0.034, mAP=0.390, TotalLoss=0.411]\n",
            "Epoch 5/10 Train: 100%|██████████| 310/310 [03:27<00:00,  1.50it/s, Acc=0.697, ClsLoss=0.133, F1=0.685, RMSE=0.035, mAP=0.499, TotalLoss=0.273]\n",
            "Epoch 5/10 Validation: 100%|██████████| 78/78 [00:17<00:00,  4.34it/s, Acc=0.579, ClsLoss=0.229, F1=0.552, RMSE=0.036, mAP=0.414, TotalLoss=0.432]\n",
            "Epoch 6/10 Train: 100%|██████████| 310/310 [03:27<00:00,  1.50it/s, Acc=0.740, ClsLoss=0.111, F1=0.739, RMSE=0.035, mAP=0.543, TotalLoss=0.235]\n",
            "Epoch 6/10 Validation: 100%|██████████| 78/78 [00:17<00:00,  4.34it/s, Acc=0.569, ClsLoss=0.225, F1=0.559, RMSE=0.036, mAP=0.382, TotalLoss=0.428]\n",
            "Epoch 7/10 Train: 100%|██████████| 310/310 [03:27<00:00,  1.50it/s, Acc=0.785, ClsLoss=0.085, F1=0.791, RMSE=0.035, mAP=0.591, TotalLoss=0.192]\n",
            "Epoch 7/10 Validation: 100%|██████████| 78/78 [00:17<00:00,  4.34it/s, Acc=0.599, ClsLoss=0.263, F1=0.562, RMSE=0.035, mAP=0.472, TotalLoss=0.486]\n",
            "Epoch 8/10 Train: 100%|██████████| 310/310 [03:27<00:00,  1.50it/s, Acc=0.822, ClsLoss=0.069, F1=0.833, RMSE=0.035, mAP=0.636, TotalLoss=0.163]\n",
            "Epoch 8/10 Validation: 100%|██████████| 78/78 [00:17<00:00,  4.35it/s, Acc=0.595, ClsLoss=0.240, F1=0.584, RMSE=0.036, mAP=0.475, TotalLoss=0.451]\n",
            "Epoch 9/10 Train: 100%|██████████| 310/310 [03:27<00:00,  1.50it/s, Acc=0.865, ClsLoss=0.049, F1=0.876, RMSE=0.035, mAP=0.690, TotalLoss=0.128]\n",
            "Epoch 9/10 Validation: 100%|██████████| 78/78 [00:18<00:00,  4.33it/s, Acc=0.620, ClsLoss=0.257, F1=0.606, RMSE=0.034, mAP=0.509, TotalLoss=0.473]\n",
            "Epoch 10/10 Train: 100%|██████████| 310/310 [03:27<00:00,  1.50it/s, Acc=0.889, ClsLoss=0.039, F1=0.898, RMSE=0.035, mAP=0.722, TotalLoss=0.111]\n",
            "Epoch 10/10 Validation: 100%|██████████| 78/78 [00:17<00:00,  4.34it/s, Acc=0.600, ClsLoss=0.291, F1=0.587, RMSE=0.036, mAP=0.505, TotalLoss=0.530]\n"
          ]
        },
        {
          "output_type": "display_data",
          "data": {
            "text/plain": [
              "<IPython.core.display.HTML object>"
            ],
            "text/html": []
          },
          "metadata": {}
        },
        {
          "output_type": "display_data",
          "data": {
            "text/plain": [
              "<IPython.core.display.HTML object>"
            ],
            "text/html": [
              "<br>    <style><br>        .wandb-row {<br>            display: flex;<br>            flex-direction: row;<br>            flex-wrap: wrap;<br>            justify-content: flex-start;<br>            width: 100%;<br>        }<br>        .wandb-col {<br>            display: flex;<br>            flex-direction: column;<br>            flex-basis: 100%;<br>            flex: 1;<br>            padding: 10px;<br>        }<br>    </style><br><div class=\"wandb-row\"><div class=\"wandb-col\"><h3>Run history:</h3><br/><table class=\"wandb\"><tr><td>train/accuracy</td><td>▁▂▂▂▃▄▅▆▇█</td></tr><tr><td>train/classification_loss</td><td>█▇▆▅▄▄▃▂▁▁</td></tr><tr><td>train/f1_score</td><td>▁▂▂▃▄▅▆▇██</td></tr><tr><td>train/map</td><td>▁▂▂▃▄▅▆▆▇█</td></tr><tr><td>train/rmse</td><td>█▁▁▁▁▁▁▁▁▁</td></tr><tr><td>val/accuracy</td><td>▁▂▂▄▂▁▅▅█▅</td></tr><tr><td>val/classification_loss</td><td>▅▃▃▁▂▂▅▃▅█</td></tr><tr><td>val/f1_score</td><td>▁▂▂▅▄▅▅▇█▇</td></tr><tr><td>val/map</td><td>▁▂▂▃▄▂▆▆██</td></tr><tr><td>val/rmse</td><td>▃▇▃▂▆▆▃█▁▇</td></tr></table><br/></div><div class=\"wandb-col\"><h3>Run summary:</h3><br/><table class=\"wandb\"><tr><td>train/accuracy</td><td>0.88872</td></tr><tr><td>train/classification_loss</td><td>0.03909</td></tr><tr><td>train/f1_score</td><td>0.89769</td></tr><tr><td>train/map</td><td>0.72234</td></tr><tr><td>train/rmse</td><td>0.03512</td></tr><tr><td>val/accuracy</td><td>0.60024</td></tr><tr><td>val/classification_loss</td><td>0.29056</td></tr><tr><td>val/f1_score</td><td>0.58734</td></tr><tr><td>val/map</td><td>0.5047</td></tr><tr><td>val/rmse</td><td>0.03581</td></tr></table><br/></div></div>"
            ]
          },
          "metadata": {}
        },
        {
          "output_type": "display_data",
          "data": {
            "text/plain": [
              "<IPython.core.display.HTML object>"
            ],
            "text/html": [
              " View run <strong style=\"color:#cdcd00\">breezy-capybara-271</strong> at: <a href='https://wandb.ai/mehmeteminuludag-kirikkale-university/StajProjesi/runs/6wcjyi71' target=\"_blank\">https://wandb.ai/mehmeteminuludag-kirikkale-university/StajProjesi/runs/6wcjyi71</a><br> View project at: <a href='https://wandb.ai/mehmeteminuludag-kirikkale-university/StajProjesi' target=\"_blank\">https://wandb.ai/mehmeteminuludag-kirikkale-university/StajProjesi</a><br>Synced 5 W&B file(s), 0 media file(s), 0 artifact file(s) and 0 other file(s)"
            ]
          },
          "metadata": {}
        },
        {
          "output_type": "display_data",
          "data": {
            "text/plain": [
              "<IPython.core.display.HTML object>"
            ],
            "text/html": [
              "Find logs at: <code>./wandb/run-20250810_182920-6wcjyi71/logs</code>"
            ]
          },
          "metadata": {}
        },
        {
          "output_type": "stream",
          "name": "stderr",
          "text": [
            "[I 2025-08-10 19:07:00,062] Trial 13 finished with value: 0.4113715348335413 and parameters: {'learning_rate': 0.00024649919868543086, 'classification_weight': 1.559753352047727, 'regression_weight': 1.3363832830903184, 'detection_depth_weight': 0.2481710274202371, 'depth_map_weight': 0.3859850424106454, 'p_iou_threshold': 0.3065288118848394, 'n_iou_threshold': 0.3984487022943964}. Best is trial 7 with value: 0.014146041291846463.\n",
            "/usr/local/lib/python3.11/dist-packages/torch/nn/init.py:511: UserWarning: Initializing zero-element tensors is a no-op\n",
            "  warnings.warn(\"Initializing zero-element tensors is a no-op\")\n"
          ]
        },
        {
          "output_type": "display_data",
          "data": {
            "text/plain": [
              "<IPython.core.display.HTML object>"
            ],
            "text/html": [
              "Tracking run with wandb version 0.21.0"
            ]
          },
          "metadata": {}
        },
        {
          "output_type": "display_data",
          "data": {
            "text/plain": [
              "<IPython.core.display.HTML object>"
            ],
            "text/html": [
              "Run data is saved locally in <code>/content/wandb/run-20250810_190700-v9dfin95</code>"
            ]
          },
          "metadata": {}
        },
        {
          "output_type": "display_data",
          "data": {
            "text/plain": [
              "<IPython.core.display.HTML object>"
            ],
            "text/html": [
              "Syncing run <strong><a href='https://wandb.ai/mehmeteminuludag-kirikkale-university/StajProjesi/runs/v9dfin95' target=\"_blank\">feasible-spaceship-272</a></strong> to <a href='https://wandb.ai/mehmeteminuludag-kirikkale-university/StajProjesi' target=\"_blank\">Weights & Biases</a> (<a href='https://wandb.me/developer-guide' target=\"_blank\">docs</a>)<br>"
            ]
          },
          "metadata": {}
        },
        {
          "output_type": "display_data",
          "data": {
            "text/plain": [
              "<IPython.core.display.HTML object>"
            ],
            "text/html": [
              " View project at <a href='https://wandb.ai/mehmeteminuludag-kirikkale-university/StajProjesi' target=\"_blank\">https://wandb.ai/mehmeteminuludag-kirikkale-university/StajProjesi</a>"
            ]
          },
          "metadata": {}
        },
        {
          "output_type": "display_data",
          "data": {
            "text/plain": [
              "<IPython.core.display.HTML object>"
            ],
            "text/html": [
              " View run at <a href='https://wandb.ai/mehmeteminuludag-kirikkale-university/StajProjesi/runs/v9dfin95' target=\"_blank\">https://wandb.ai/mehmeteminuludag-kirikkale-university/StajProjesi/runs/v9dfin95</a>"
            ]
          },
          "metadata": {}
        },
        {
          "output_type": "stream",
          "name": "stderr",
          "text": [
            "Epoch 1/10 Train: 100%|██████████| 310/310 [03:14<00:00,  1.60it/s, Acc=0.415, ClsLoss=0.337, F1=0.434, RMSE=0.231, mAP=0.146, TotalLoss=0.750]\n",
            "Epoch 1/10 Validation: 100%|██████████| 78/78 [00:17<00:00,  4.36it/s, Acc=0.442, ClsLoss=0.191, F1=0.442, RMSE=0.098, mAP=0.196, TotalLoss=0.434]\n",
            "Epoch 2/10 Train: 100%|██████████| 310/310 [03:13<00:00,  1.60it/s, Acc=0.588, ClsLoss=0.126, F1=0.576, RMSE=0.067, mAP=0.330, TotalLoss=0.300]\n",
            "Epoch 2/10 Validation: 100%|██████████| 78/78 [00:17<00:00,  4.37it/s, Acc=0.483, ClsLoss=0.134, F1=0.474, RMSE=0.053, mAP=0.297, TotalLoss=0.316]\n",
            "Epoch 3/10 Train: 100%|██████████| 310/310 [03:13<00:00,  1.60it/s, Acc=0.667, ClsLoss=0.063, F1=0.652, RMSE=0.044, mAP=0.461, TotalLoss=0.184]\n",
            "Epoch 3/10 Validation: 100%|██████████| 78/78 [00:17<00:00,  4.36it/s, Acc=0.561, ClsLoss=0.104, F1=0.540, RMSE=0.041, mAP=0.373, TotalLoss=0.253]\n",
            "Epoch 4/10 Train: 100%|██████████| 310/310 [03:13<00:00,  1.60it/s, Acc=0.701, ClsLoss=0.040, F1=0.695, RMSE=0.038, mAP=0.541, TotalLoss=0.122]\n",
            "Epoch 4/10 Validation: 100%|██████████| 78/78 [00:17<00:00,  4.37it/s, Acc=0.566, ClsLoss=0.095, F1=0.551, RMSE=0.037, mAP=0.396, TotalLoss=0.222]\n",
            "Epoch 5/10 Train: 100%|██████████| 310/310 [03:13<00:00,  1.60it/s, Acc=0.741, ClsLoss=0.028, F1=0.738, RMSE=0.036, mAP=0.584, TotalLoss=0.095]\n",
            "Epoch 5/10 Validation: 100%|██████████| 78/78 [00:17<00:00,  4.37it/s, Acc=0.538, ClsLoss=0.112, F1=0.529, RMSE=0.035, mAP=0.404, TotalLoss=0.257]\n",
            "Epoch 6/10 Train: 100%|██████████| 310/310 [03:14<00:00,  1.60it/s, Acc=0.747, ClsLoss=0.019, F1=0.745, RMSE=0.035, mAP=0.612, TotalLoss=0.066]\n",
            "Epoch 6/10 Validation: 100%|██████████| 78/78 [00:17<00:00,  4.37it/s, Acc=0.553, ClsLoss=0.109, F1=0.540, RMSE=0.035, mAP=0.434, TotalLoss=0.243]\n",
            "Epoch 7/10 Train: 100%|██████████| 310/310 [03:13<00:00,  1.60it/s, Acc=0.776, ClsLoss=0.028, F1=0.776, RMSE=0.035, mAP=0.653, TotalLoss=0.083]\n",
            "Epoch 7/10 Validation: 100%|██████████| 78/78 [00:17<00:00,  4.37it/s, Acc=0.546, ClsLoss=0.109, F1=0.533, RMSE=0.034, mAP=0.441, TotalLoss=0.241]\n",
            "Epoch 8/10 Train: 100%|██████████| 310/310 [03:13<00:00,  1.60it/s, Acc=0.778, ClsLoss=0.008, F1=0.778, RMSE=0.035, mAP=0.667, TotalLoss=0.036]\n",
            "Epoch 8/10 Validation: 100%|██████████| 78/78 [00:17<00:00,  4.37it/s, Acc=0.564, ClsLoss=0.112, F1=0.553, RMSE=0.035, mAP=0.463, TotalLoss=0.242]\n",
            "Epoch 9/10 Train: 100%|██████████| 310/310 [03:13<00:00,  1.60it/s, Acc=0.779, ClsLoss=0.007, F1=0.779, RMSE=0.035, mAP=0.682, TotalLoss=0.031]\n",
            "Epoch 9/10 Validation: 100%|██████████| 78/78 [00:17<00:00,  4.37it/s, Acc=0.571, ClsLoss=0.110, F1=0.565, RMSE=0.035, mAP=0.471, TotalLoss=0.240]\n",
            "Epoch 10/10 Train: 100%|██████████| 310/310 [03:13<00:00,  1.60it/s, Acc=0.792, ClsLoss=0.003, F1=0.794, RMSE=0.035, mAP=0.701, TotalLoss=0.021]\n",
            "Epoch 10/10 Validation: 100%|██████████| 78/78 [00:17<00:00,  4.38it/s, Acc=0.569, ClsLoss=0.107, F1=0.558, RMSE=0.034, mAP=0.481, TotalLoss=0.229]\n"
          ]
        },
        {
          "output_type": "display_data",
          "data": {
            "text/plain": [
              "<IPython.core.display.HTML object>"
            ],
            "text/html": []
          },
          "metadata": {}
        },
        {
          "output_type": "display_data",
          "data": {
            "text/plain": [
              "<IPython.core.display.HTML object>"
            ],
            "text/html": [
              "<br>    <style><br>        .wandb-row {<br>            display: flex;<br>            flex-direction: row;<br>            flex-wrap: wrap;<br>            justify-content: flex-start;<br>            width: 100%;<br>        }<br>        .wandb-col {<br>            display: flex;<br>            flex-direction: column;<br>            flex-basis: 100%;<br>            flex: 1;<br>            padding: 10px;<br>        }<br>    </style><br><div class=\"wandb-row\"><div class=\"wandb-col\"><h3>Run history:</h3><br/><table class=\"wandb\"><tr><td>train/accuracy</td><td>▁▄▆▆▇▇████</td></tr><tr><td>train/classification_loss</td><td>█▄▂▂▂▁▂▁▁▁</td></tr><tr><td>train/f1_score</td><td>▁▄▅▆▇▇████</td></tr><tr><td>train/map</td><td>▁▃▅▆▇▇▇███</td></tr><tr><td>train/rmse</td><td>█▂▁▁▁▁▁▁▁▁</td></tr><tr><td>val/accuracy</td><td>▁▃▇█▆▇▇███</td></tr><tr><td>val/classification_loss</td><td>█▄▂▁▂▂▂▂▂▂</td></tr><tr><td>val/f1_score</td><td>▁▃▇▇▆▇▆▇██</td></tr><tr><td>val/map</td><td>▁▃▅▆▆▇▇███</td></tr><tr><td>val/rmse</td><td>█▃▂▁▁▁▁▁▁▁</td></tr></table><br/></div><div class=\"wandb-col\"><h3>Run summary:</h3><br/><table class=\"wandb\"><tr><td>train/accuracy</td><td>0.79246</td></tr><tr><td>train/classification_loss</td><td>0.00313</td></tr><tr><td>train/f1_score</td><td>0.79447</td></tr><tr><td>train/map</td><td>0.70058</td></tr><tr><td>train/rmse</td><td>0.03506</td></tr><tr><td>val/accuracy</td><td>0.56886</td></tr><tr><td>val/classification_loss</td><td>0.10713</td></tr><tr><td>val/f1_score</td><td>0.55837</td></tr><tr><td>val/map</td><td>0.48099</td></tr><tr><td>val/rmse</td><td>0.03448</td></tr></table><br/></div></div>"
            ]
          },
          "metadata": {}
        },
        {
          "output_type": "display_data",
          "data": {
            "text/plain": [
              "<IPython.core.display.HTML object>"
            ],
            "text/html": [
              " View run <strong style=\"color:#cdcd00\">feasible-spaceship-272</strong> at: <a href='https://wandb.ai/mehmeteminuludag-kirikkale-university/StajProjesi/runs/v9dfin95' target=\"_blank\">https://wandb.ai/mehmeteminuludag-kirikkale-university/StajProjesi/runs/v9dfin95</a><br> View project at: <a href='https://wandb.ai/mehmeteminuludag-kirikkale-university/StajProjesi' target=\"_blank\">https://wandb.ai/mehmeteminuludag-kirikkale-university/StajProjesi</a><br>Synced 5 W&B file(s), 0 media file(s), 0 artifact file(s) and 0 other file(s)"
            ]
          },
          "metadata": {}
        },
        {
          "output_type": "display_data",
          "data": {
            "text/plain": [
              "<IPython.core.display.HTML object>"
            ],
            "text/html": [
              "Find logs at: <code>./wandb/run-20250810_190700-v9dfin95/logs</code>"
            ]
          },
          "metadata": {}
        },
        {
          "output_type": "stream",
          "name": "stderr",
          "text": [
            "[I 2025-08-10 19:42:21,947] Trial 14 finished with value: 0.22246332696373336 and parameters: {'learning_rate': 7.298914065895153e-05, 'classification_weight': 1.9335701123081082, 'regression_weight': 1.7547973740994351, 'detection_depth_weight': 0.45674343406445894, 'depth_map_weight': 0.29776098838813947, 'p_iou_threshold': 0.6077011901891718, 'n_iou_threshold': 0.25592213813535725}. Best is trial 7 with value: 0.014146041291846463.\n",
            "/usr/local/lib/python3.11/dist-packages/torch/nn/init.py:511: UserWarning: Initializing zero-element tensors is a no-op\n",
            "  warnings.warn(\"Initializing zero-element tensors is a no-op\")\n"
          ]
        },
        {
          "output_type": "display_data",
          "data": {
            "text/plain": [
              "<IPython.core.display.HTML object>"
            ],
            "text/html": [
              "Tracking run with wandb version 0.21.0"
            ]
          },
          "metadata": {}
        },
        {
          "output_type": "display_data",
          "data": {
            "text/plain": [
              "<IPython.core.display.HTML object>"
            ],
            "text/html": [
              "Run data is saved locally in <code>/content/wandb/run-20250810_194222-sjnxjrv4</code>"
            ]
          },
          "metadata": {}
        },
        {
          "output_type": "display_data",
          "data": {
            "text/plain": [
              "<IPython.core.display.HTML object>"
            ],
            "text/html": [
              "Syncing run <strong><a href='https://wandb.ai/mehmeteminuludag-kirikkale-university/StajProjesi/runs/sjnxjrv4' target=\"_blank\">valiant-leaf-273</a></strong> to <a href='https://wandb.ai/mehmeteminuludag-kirikkale-university/StajProjesi' target=\"_blank\">Weights & Biases</a> (<a href='https://wandb.me/developer-guide' target=\"_blank\">docs</a>)<br>"
            ]
          },
          "metadata": {}
        },
        {
          "output_type": "display_data",
          "data": {
            "text/plain": [
              "<IPython.core.display.HTML object>"
            ],
            "text/html": [
              " View project at <a href='https://wandb.ai/mehmeteminuludag-kirikkale-university/StajProjesi' target=\"_blank\">https://wandb.ai/mehmeteminuludag-kirikkale-university/StajProjesi</a>"
            ]
          },
          "metadata": {}
        },
        {
          "output_type": "display_data",
          "data": {
            "text/plain": [
              "<IPython.core.display.HTML object>"
            ],
            "text/html": [
              " View run at <a href='https://wandb.ai/mehmeteminuludag-kirikkale-university/StajProjesi/runs/sjnxjrv4' target=\"_blank\">https://wandb.ai/mehmeteminuludag-kirikkale-university/StajProjesi/runs/sjnxjrv4</a>"
            ]
          },
          "metadata": {}
        },
        {
          "output_type": "stream",
          "name": "stderr",
          "text": [
            "Epoch 1/10 Train: 100%|██████████| 310/310 [02:47<00:00,  1.85it/s, Acc=0.127, ClsLoss=0.476, F1=0.142, RMSE=0.287, mAP=0.063, TotalLoss=0.379]\n",
            "Epoch 1/10 Validation: 100%|██████████| 78/78 [00:17<00:00,  4.41it/s, Acc=0.175, ClsLoss=0.141, F1=0.193, RMSE=0.121, mAP=0.054, TotalLoss=0.116]\n",
            "Epoch 2/10 Train: 100%|██████████| 310/310 [02:46<00:00,  1.86it/s, Acc=0.303, ClsLoss=0.161, F1=0.316, RMSE=0.076, mAP=0.080, TotalLoss=0.127]\n",
            "Epoch 2/10 Validation: 100%|██████████| 78/78 [00:17<00:00,  4.40it/s, Acc=0.210, ClsLoss=0.123, F1=0.223, RMSE=0.057, mAP=0.061, TotalLoss=0.106]\n",
            "Epoch 3/10 Train: 100%|██████████| 310/310 [02:46<00:00,  1.86it/s, Acc=0.375, ClsLoss=0.132, F1=0.379, RMSE=0.046, mAP=0.101, TotalLoss=0.109]\n",
            "Epoch 3/10 Validation: 100%|██████████| 78/78 [00:17<00:00,  4.41it/s, Acc=0.227, ClsLoss=0.113, F1=0.238, RMSE=0.041, mAP=0.071, TotalLoss=0.103]\n",
            "Epoch 4/10 Train: 100%|██████████| 310/310 [02:47<00:00,  1.85it/s, Acc=0.415, ClsLoss=0.099, F1=0.413, RMSE=0.038, mAP=0.131, TotalLoss=0.080]\n",
            "Epoch 4/10 Validation: 100%|██████████| 78/78 [00:17<00:00,  4.42it/s, Acc=0.236, ClsLoss=0.110, F1=0.247, RMSE=0.036, mAP=0.084, TotalLoss=0.093]\n",
            "Epoch 5/10 Train: 100%|██████████| 310/310 [02:46<00:00,  1.86it/s, Acc=0.410, ClsLoss=0.070, F1=0.409, RMSE=0.035, mAP=0.180, TotalLoss=0.059]\n",
            "Epoch 5/10 Validation: 100%|██████████| 78/78 [00:17<00:00,  4.40it/s, Acc=0.246, ClsLoss=0.089, F1=0.252, RMSE=0.035, mAP=0.114, TotalLoss=0.082]\n",
            "Epoch 6/10 Train: 100%|██████████| 310/310 [02:46<00:00,  1.86it/s, Acc=0.423, ClsLoss=0.053, F1=0.422, RMSE=0.035, mAP=0.227, TotalLoss=0.048]\n",
            "Epoch 6/10 Validation: 100%|██████████| 78/78 [00:17<00:00,  4.41it/s, Acc=0.257, ClsLoss=0.081, F1=0.263, RMSE=0.034, mAP=0.122, TotalLoss=0.071]\n",
            "Epoch 7/10 Train: 100%|██████████| 310/310 [02:47<00:00,  1.86it/s, Acc=0.442, ClsLoss=0.034, F1=0.440, RMSE=0.034, mAP=0.270, TotalLoss=0.034]\n",
            "Epoch 7/10 Validation: 100%|██████████| 78/78 [00:17<00:00,  4.42it/s, Acc=0.256, ClsLoss=0.074, F1=0.259, RMSE=0.034, mAP=0.145, TotalLoss=0.073]\n",
            "Epoch 8/10 Train: 100%|██████████| 310/310 [02:46<00:00,  1.86it/s, Acc=0.454, ClsLoss=0.025, F1=0.452, RMSE=0.034, mAP=0.297, TotalLoss=0.028]\n",
            "Epoch 8/10 Validation: 100%|██████████| 78/78 [00:17<00:00,  4.41it/s, Acc=0.279, ClsLoss=0.071, F1=0.289, RMSE=0.034, mAP=0.155, TotalLoss=0.069]\n",
            "Epoch 9/10 Train: 100%|██████████| 310/310 [02:46<00:00,  1.86it/s, Acc=0.458, ClsLoss=0.019, F1=0.457, RMSE=0.035, mAP=0.327, TotalLoss=0.025]\n",
            "Epoch 9/10 Validation: 100%|██████████| 78/78 [00:17<00:00,  4.41it/s, Acc=0.277, ClsLoss=0.070, F1=0.285, RMSE=0.034, mAP=0.157, TotalLoss=0.068]\n",
            "Epoch 10/10 Train: 100%|██████████| 310/310 [02:46<00:00,  1.86it/s, Acc=0.463, ClsLoss=0.016, F1=0.461, RMSE=0.035, mAP=0.337, TotalLoss=0.018]\n",
            "Epoch 10/10 Validation: 100%|██████████| 78/78 [00:17<00:00,  4.41it/s, Acc=0.268, ClsLoss=0.073, F1=0.277, RMSE=0.034, mAP=0.167, TotalLoss=0.071]\n"
          ]
        },
        {
          "output_type": "display_data",
          "data": {
            "text/plain": [
              "<IPython.core.display.HTML object>"
            ],
            "text/html": []
          },
          "metadata": {}
        },
        {
          "output_type": "display_data",
          "data": {
            "text/plain": [
              "<IPython.core.display.HTML object>"
            ],
            "text/html": [
              "<br>    <style><br>        .wandb-row {<br>            display: flex;<br>            flex-direction: row;<br>            flex-wrap: wrap;<br>            justify-content: flex-start;<br>            width: 100%;<br>        }<br>        .wandb-col {<br>            display: flex;<br>            flex-direction: column;<br>            flex-basis: 100%;<br>            flex: 1;<br>            padding: 10px;<br>        }<br>    </style><br><div class=\"wandb-row\"><div class=\"wandb-col\"><h3>Run history:</h3><br/><table class=\"wandb\"><tr><td>train/accuracy</td><td>▁▅▆▇▇▇████</td></tr><tr><td>train/classification_loss</td><td>█▃▃▂▂▂▁▁▁▁</td></tr><tr><td>train/f1_score</td><td>▁▅▆▇▇▇████</td></tr><tr><td>train/map</td><td>▁▁▂▃▄▅▆▇██</td></tr><tr><td>train/rmse</td><td>█▂▁▁▁▁▁▁▁▁</td></tr><tr><td>val/accuracy</td><td>▁▃▄▅▆▆▆██▇</td></tr><tr><td>val/classification_loss</td><td>█▆▅▅▃▂▁▁▁▁</td></tr><tr><td>val/f1_score</td><td>▁▃▄▅▅▆▆██▇</td></tr><tr><td>val/map</td><td>▁▁▂▃▅▅▇▇▇█</td></tr><tr><td>val/rmse</td><td>█▃▂▁▁▁▁▁▁▁</td></tr></table><br/></div><div class=\"wandb-col\"><h3>Run summary:</h3><br/><table class=\"wandb\"><tr><td>train/accuracy</td><td>0.46301</td></tr><tr><td>train/classification_loss</td><td>0.01615</td></tr><tr><td>train/f1_score</td><td>0.46123</td></tr><tr><td>train/map</td><td>0.33677</td></tr><tr><td>train/rmse</td><td>0.03455</td></tr><tr><td>val/accuracy</td><td>0.26774</td></tr><tr><td>val/classification_loss</td><td>0.07312</td></tr><tr><td>val/f1_score</td><td>0.27733</td></tr><tr><td>val/map</td><td>0.1671</td></tr><tr><td>val/rmse</td><td>0.03417</td></tr></table><br/></div></div>"
            ]
          },
          "metadata": {}
        },
        {
          "output_type": "display_data",
          "data": {
            "text/plain": [
              "<IPython.core.display.HTML object>"
            ],
            "text/html": [
              " View run <strong style=\"color:#cdcd00\">valiant-leaf-273</strong> at: <a href='https://wandb.ai/mehmeteminuludag-kirikkale-university/StajProjesi/runs/sjnxjrv4' target=\"_blank\">https://wandb.ai/mehmeteminuludag-kirikkale-university/StajProjesi/runs/sjnxjrv4</a><br> View project at: <a href='https://wandb.ai/mehmeteminuludag-kirikkale-university/StajProjesi' target=\"_blank\">https://wandb.ai/mehmeteminuludag-kirikkale-university/StajProjesi</a><br>Synced 5 W&B file(s), 0 media file(s), 0 artifact file(s) and 0 other file(s)"
            ]
          },
          "metadata": {}
        },
        {
          "output_type": "display_data",
          "data": {
            "text/plain": [
              "<IPython.core.display.HTML object>"
            ],
            "text/html": [
              "Find logs at: <code>./wandb/run-20250810_194222-sjnxjrv4/logs</code>"
            ]
          },
          "metadata": {}
        },
        {
          "output_type": "stream",
          "name": "stderr",
          "text": [
            "[I 2025-08-10 20:13:14,438] Trial 15 finished with value: 0.06751714493368173 and parameters: {'learning_rate': 1.8850856978015146e-05, 'classification_weight': 0.6820388395823366, 'regression_weight': 1.3253698995347996, 'detection_depth_weight': 0.1795246324432812, 'depth_map_weight': 0.39200516444060574, 'p_iou_threshold': 0.6951168950053663, 'n_iou_threshold': 0.3452036822324188}. Best is trial 7 with value: 0.014146041291846463.\n",
            "/usr/local/lib/python3.11/dist-packages/torch/nn/init.py:511: UserWarning: Initializing zero-element tensors is a no-op\n",
            "  warnings.warn(\"Initializing zero-element tensors is a no-op\")\n"
          ]
        },
        {
          "output_type": "display_data",
          "data": {
            "text/plain": [
              "<IPython.core.display.HTML object>"
            ],
            "text/html": [
              "Tracking run with wandb version 0.21.0"
            ]
          },
          "metadata": {}
        },
        {
          "output_type": "display_data",
          "data": {
            "text/plain": [
              "<IPython.core.display.HTML object>"
            ],
            "text/html": [
              "Run data is saved locally in <code>/content/wandb/run-20250810_201314-4xn7d4ux</code>"
            ]
          },
          "metadata": {}
        },
        {
          "output_type": "display_data",
          "data": {
            "text/plain": [
              "<IPython.core.display.HTML object>"
            ],
            "text/html": [
              "Syncing run <strong><a href='https://wandb.ai/mehmeteminuludag-kirikkale-university/StajProjesi/runs/4xn7d4ux' target=\"_blank\">stilted-energy-274</a></strong> to <a href='https://wandb.ai/mehmeteminuludag-kirikkale-university/StajProjesi' target=\"_blank\">Weights & Biases</a> (<a href='https://wandb.me/developer-guide' target=\"_blank\">docs</a>)<br>"
            ]
          },
          "metadata": {}
        },
        {
          "output_type": "display_data",
          "data": {
            "text/plain": [
              "<IPython.core.display.HTML object>"
            ],
            "text/html": [
              " View project at <a href='https://wandb.ai/mehmeteminuludag-kirikkale-university/StajProjesi' target=\"_blank\">https://wandb.ai/mehmeteminuludag-kirikkale-university/StajProjesi</a>"
            ]
          },
          "metadata": {}
        },
        {
          "output_type": "display_data",
          "data": {
            "text/plain": [
              "<IPython.core.display.HTML object>"
            ],
            "text/html": [
              " View run at <a href='https://wandb.ai/mehmeteminuludag-kirikkale-university/StajProjesi/runs/4xn7d4ux' target=\"_blank\">https://wandb.ai/mehmeteminuludag-kirikkale-university/StajProjesi/runs/4xn7d4ux</a>"
            ]
          },
          "metadata": {}
        },
        {
          "output_type": "stream",
          "name": "stderr",
          "text": [
            "Epoch 1/10 Train: 100%|██████████| 310/310 [03:20<00:00,  1.54it/s, Acc=0.521, ClsLoss=0.398, F1=0.518, RMSE=0.048, mAP=0.307, TotalLoss=0.530]\n",
            "Epoch 1/10 Validation: 100%|██████████| 78/78 [00:17<00:00,  4.36it/s, Acc=0.525, ClsLoss=0.180, F1=0.496, RMSE=0.033, mAP=0.362, TotalLoss=0.249]\n",
            "Epoch 2/10 Train: 100%|██████████| 310/310 [03:21<00:00,  1.54it/s, Acc=0.595, ClsLoss=0.176, F1=0.565, RMSE=0.035, mAP=0.425, TotalLoss=0.234]\n",
            "Epoch 2/10 Validation: 100%|██████████| 78/78 [00:17<00:00,  4.36it/s, Acc=0.470, ClsLoss=0.168, F1=0.469, RMSE=0.034, mAP=0.363, TotalLoss=0.224]\n",
            "Epoch 3/10 Train: 100%|██████████| 310/310 [03:20<00:00,  1.55it/s, Acc=0.609, ClsLoss=0.145, F1=0.589, RMSE=0.035, mAP=0.435, TotalLoss=0.200]\n",
            "Epoch 3/10 Validation: 100%|██████████| 78/78 [00:17<00:00,  4.36it/s, Acc=0.529, ClsLoss=0.150, F1=0.489, RMSE=0.034, mAP=0.383, TotalLoss=0.204]\n",
            "Epoch 4/10 Train: 100%|██████████| 310/310 [03:20<00:00,  1.54it/s, Acc=0.617, ClsLoss=0.121, F1=0.596, RMSE=0.035, mAP=0.453, TotalLoss=0.166]\n",
            "Epoch 4/10 Validation: 100%|██████████| 78/78 [00:17<00:00,  4.37it/s, Acc=0.525, ClsLoss=0.139, F1=0.509, RMSE=0.039, mAP=0.358, TotalLoss=0.185]\n",
            "Epoch 5/10 Train: 100%|██████████| 310/310 [03:20<00:00,  1.55it/s, Acc=0.638, ClsLoss=0.105, F1=0.624, RMSE=0.035, mAP=0.440, TotalLoss=0.145]\n",
            "Epoch 5/10 Validation: 100%|██████████| 78/78 [00:17<00:00,  4.37it/s, Acc=0.550, ClsLoss=0.123, F1=0.517, RMSE=0.035, mAP=0.384, TotalLoss=0.164]\n",
            "Epoch 6/10 Train: 100%|██████████| 310/310 [03:20<00:00,  1.55it/s, Acc=0.644, ClsLoss=0.101, F1=0.629, RMSE=0.035, mAP=0.460, TotalLoss=0.140]\n",
            "Epoch 6/10 Validation: 100%|██████████| 78/78 [00:17<00:00,  4.36it/s, Acc=0.572, ClsLoss=0.140, F1=0.530, RMSE=0.034, mAP=0.438, TotalLoss=0.185]\n",
            "Epoch 7/10 Train: 100%|██████████| 310/310 [03:20<00:00,  1.55it/s, Acc=0.641, ClsLoss=0.091, F1=0.623, RMSE=0.035, mAP=0.467, TotalLoss=0.130]\n",
            "Epoch 7/10 Validation: 100%|██████████| 78/78 [00:17<00:00,  4.37it/s, Acc=0.581, ClsLoss=0.117, F1=0.571, RMSE=0.035, mAP=0.400, TotalLoss=0.162]\n",
            "Epoch 8/10 Train: 100%|██████████| 310/310 [03:20<00:00,  1.55it/s, Acc=0.665, ClsLoss=0.089, F1=0.653, RMSE=0.035, mAP=0.481, TotalLoss=0.127]\n",
            "Epoch 8/10 Validation: 100%|██████████| 78/78 [00:17<00:00,  4.36it/s, Acc=0.597, ClsLoss=0.108, F1=0.596, RMSE=0.033, mAP=0.414, TotalLoss=0.148]\n",
            "Epoch 9/10 Train: 100%|██████████| 310/310 [03:20<00:00,  1.55it/s, Acc=0.650, ClsLoss=0.086, F1=0.640, RMSE=0.035, mAP=0.486, TotalLoss=0.122]\n",
            "Epoch 9/10 Validation: 100%|██████████| 78/78 [00:17<00:00,  4.36it/s, Acc=0.569, ClsLoss=0.113, F1=0.566, RMSE=0.036, mAP=0.428, TotalLoss=0.154]\n",
            "Epoch 10/10 Train: 100%|██████████| 310/310 [03:20<00:00,  1.55it/s, Acc=0.665, ClsLoss=0.077, F1=0.659, RMSE=0.035, mAP=0.497, TotalLoss=0.111]\n",
            "Epoch 10/10 Validation: 100%|██████████| 78/78 [00:17<00:00,  4.36it/s, Acc=0.568, ClsLoss=0.105, F1=0.565, RMSE=0.036, mAP=0.407, TotalLoss=0.143]\n"
          ]
        },
        {
          "output_type": "display_data",
          "data": {
            "text/plain": [
              "<IPython.core.display.HTML object>"
            ],
            "text/html": []
          },
          "metadata": {}
        },
        {
          "output_type": "display_data",
          "data": {
            "text/plain": [
              "<IPython.core.display.HTML object>"
            ],
            "text/html": [
              "<br>    <style><br>        .wandb-row {<br>            display: flex;<br>            flex-direction: row;<br>            flex-wrap: wrap;<br>            justify-content: flex-start;<br>            width: 100%;<br>        }<br>        .wandb-col {<br>            display: flex;<br>            flex-direction: column;<br>            flex-basis: 100%;<br>            flex: 1;<br>            padding: 10px;<br>        }<br>    </style><br><div class=\"wandb-row\"><div class=\"wandb-col\"><h3>Run history:</h3><br/><table class=\"wandb\"><tr><td>train/accuracy</td><td>▁▅▅▆▇▇▇█▇█</td></tr><tr><td>train/classification_loss</td><td>█▃▂▂▂▂▁▁▁▁</td></tr><tr><td>train/f1_score</td><td>▁▃▅▅▆▇▆█▇█</td></tr><tr><td>train/map</td><td>▁▅▆▆▆▇▇▇██</td></tr><tr><td>train/rmse</td><td>█▁▁▁▁▁▁▁▁▁</td></tr><tr><td>val/accuracy</td><td>▄▁▄▄▅▇▇█▆▆</td></tr><tr><td>val/classification_loss</td><td>█▇▅▄▃▄▂▁▂▁</td></tr><tr><td>val/f1_score</td><td>▂▁▂▃▄▄▇█▆▆</td></tr><tr><td>val/map</td><td>▁▁▃▁▃█▅▆▇▅</td></tr><tr><td>val/rmse</td><td>▁▂▂█▃▂▃▁▅▄</td></tr></table><br/></div><div class=\"wandb-col\"><h3>Run summary:</h3><br/><table class=\"wandb\"><tr><td>train/accuracy</td><td>0.66514</td></tr><tr><td>train/classification_loss</td><td>0.07738</td></tr><tr><td>train/f1_score</td><td>0.65922</td></tr><tr><td>train/map</td><td>0.49712</td></tr><tr><td>train/rmse</td><td>0.03512</td></tr><tr><td>val/accuracy</td><td>0.56773</td></tr><tr><td>val/classification_loss</td><td>0.10462</td></tr><tr><td>val/f1_score</td><td>0.56514</td></tr><tr><td>val/map</td><td>0.40685</td></tr><tr><td>val/rmse</td><td>0.03574</td></tr></table><br/></div></div>"
            ]
          },
          "metadata": {}
        },
        {
          "output_type": "display_data",
          "data": {
            "text/plain": [
              "<IPython.core.display.HTML object>"
            ],
            "text/html": [
              " View run <strong style=\"color:#cdcd00\">stilted-energy-274</strong> at: <a href='https://wandb.ai/mehmeteminuludag-kirikkale-university/StajProjesi/runs/4xn7d4ux' target=\"_blank\">https://wandb.ai/mehmeteminuludag-kirikkale-university/StajProjesi/runs/4xn7d4ux</a><br> View project at: <a href='https://wandb.ai/mehmeteminuludag-kirikkale-university/StajProjesi' target=\"_blank\">https://wandb.ai/mehmeteminuludag-kirikkale-university/StajProjesi</a><br>Synced 5 W&B file(s), 0 media file(s), 0 artifact file(s) and 0 other file(s)"
            ]
          },
          "metadata": {}
        },
        {
          "output_type": "display_data",
          "data": {
            "text/plain": [
              "<IPython.core.display.HTML object>"
            ],
            "text/html": [
              "Find logs at: <code>./wandb/run-20250810_201314-4xn7d4ux/logs</code>"
            ]
          },
          "metadata": {}
        },
        {
          "output_type": "stream",
          "name": "stderr",
          "text": [
            "[I 2025-08-10 20:49:45,826] Trial 16 finished with value: 0.14346115569666532 and parameters: {'learning_rate': 0.00042577344743492776, 'classification_weight': 1.1419386359061607, 'regression_weight': 1.7540079571057503, 'detection_depth_weight': 0.27551922012019997, 'depth_map_weight': 0.290176225622549, 'p_iou_threshold': 0.5548511474161075, 'n_iou_threshold': 0.2834195446106313}. Best is trial 7 with value: 0.014146041291846463.\n",
            "/usr/local/lib/python3.11/dist-packages/torch/nn/init.py:511: UserWarning: Initializing zero-element tensors is a no-op\n",
            "  warnings.warn(\"Initializing zero-element tensors is a no-op\")\n"
          ]
        },
        {
          "output_type": "display_data",
          "data": {
            "text/plain": [
              "<IPython.core.display.HTML object>"
            ],
            "text/html": [
              "Tracking run with wandb version 0.21.0"
            ]
          },
          "metadata": {}
        },
        {
          "output_type": "display_data",
          "data": {
            "text/plain": [
              "<IPython.core.display.HTML object>"
            ],
            "text/html": [
              "Run data is saved locally in <code>/content/wandb/run-20250810_204946-ecnxa02f</code>"
            ]
          },
          "metadata": {}
        },
        {
          "output_type": "display_data",
          "data": {
            "text/plain": [
              "<IPython.core.display.HTML object>"
            ],
            "text/html": [
              "Syncing run <strong><a href='https://wandb.ai/mehmeteminuludag-kirikkale-university/StajProjesi/runs/ecnxa02f' target=\"_blank\">crimson-moon-275</a></strong> to <a href='https://wandb.ai/mehmeteminuludag-kirikkale-university/StajProjesi' target=\"_blank\">Weights & Biases</a> (<a href='https://wandb.me/developer-guide' target=\"_blank\">docs</a>)<br>"
            ]
          },
          "metadata": {}
        },
        {
          "output_type": "display_data",
          "data": {
            "text/plain": [
              "<IPython.core.display.HTML object>"
            ],
            "text/html": [
              " View project at <a href='https://wandb.ai/mehmeteminuludag-kirikkale-university/StajProjesi' target=\"_blank\">https://wandb.ai/mehmeteminuludag-kirikkale-university/StajProjesi</a>"
            ]
          },
          "metadata": {}
        },
        {
          "output_type": "display_data",
          "data": {
            "text/plain": [
              "<IPython.core.display.HTML object>"
            ],
            "text/html": [
              " View run at <a href='https://wandb.ai/mehmeteminuludag-kirikkale-university/StajProjesi/runs/ecnxa02f' target=\"_blank\">https://wandb.ai/mehmeteminuludag-kirikkale-university/StajProjesi/runs/ecnxa02f</a>"
            ]
          },
          "metadata": {}
        },
        {
          "output_type": "stream",
          "name": "stderr",
          "text": [
            "Epoch 1/10 Train: 100%|██████████| 310/310 [03:06<00:00,  1.66it/s, Acc=0.254, ClsLoss=0.406, F1=0.289, RMSE=0.185, mAP=0.107, TotalLoss=0.630]\n",
            "Epoch 1/10 Validation: 100%|██████████| 78/78 [00:17<00:00,  4.39it/s, Acc=0.348, ClsLoss=0.223, F1=0.369, RMSE=0.068, mAP=0.116, TotalLoss=0.394]\n",
            "Epoch 2/10 Train: 100%|██████████| 310/310 [03:07<00:00,  1.66it/s, Acc=0.503, ClsLoss=0.194, F1=0.519, RMSE=0.050, mAP=0.155, TotalLoss=0.320]\n",
            "Epoch 2/10 Validation: 100%|██████████| 78/78 [00:17<00:00,  4.38it/s, Acc=0.426, ClsLoss=0.190, F1=0.435, RMSE=0.042, mAP=0.140, TotalLoss=0.328]\n",
            "Epoch 3/10 Train: 100%|██████████| 310/310 [03:06<00:00,  1.66it/s, Acc=0.545, ClsLoss=0.138, F1=0.548, RMSE=0.038, mAP=0.224, TotalLoss=0.238]\n",
            "Epoch 3/10 Validation: 100%|██████████| 78/78 [00:17<00:00,  4.37it/s, Acc=0.437, ClsLoss=0.159, F1=0.444, RMSE=0.036, mAP=0.184, TotalLoss=0.304]\n",
            "Epoch 4/10 Train: 100%|██████████| 310/310 [03:06<00:00,  1.67it/s, Acc=0.568, ClsLoss=0.095, F1=0.569, RMSE=0.035, mAP=0.304, TotalLoss=0.173]\n",
            "Epoch 4/10 Validation: 100%|██████████| 78/78 [00:17<00:00,  4.36it/s, Acc=0.444, ClsLoss=0.146, F1=0.451, RMSE=0.034, mAP=0.217, TotalLoss=0.268]\n",
            "Epoch 5/10 Train: 100%|██████████| 310/310 [03:05<00:00,  1.67it/s, Acc=0.608, ClsLoss=0.071, F1=0.606, RMSE=0.035, mAP=0.373, TotalLoss=0.132]\n",
            "Epoch 5/10 Validation: 100%|██████████| 78/78 [00:17<00:00,  4.37it/s, Acc=0.426, ClsLoss=0.141, F1=0.434, RMSE=0.034, mAP=0.256, TotalLoss=0.246]\n",
            "Epoch 6/10 Train: 100%|██████████| 310/310 [03:06<00:00,  1.66it/s, Acc=0.628, ClsLoss=0.054, F1=0.627, RMSE=0.035, mAP=0.421, TotalLoss=0.116]\n",
            "Epoch 6/10 Validation: 100%|██████████| 78/78 [00:17<00:00,  4.38it/s, Acc=0.455, ClsLoss=0.127, F1=0.461, RMSE=0.034, mAP=0.272, TotalLoss=0.230]\n",
            "Epoch 7/10 Train: 100%|██████████| 310/310 [03:05<00:00,  1.67it/s, Acc=0.637, ClsLoss=0.044, F1=0.639, RMSE=0.035, mAP=0.451, TotalLoss=0.096]\n",
            "Epoch 7/10 Validation: 100%|██████████| 78/78 [00:17<00:00,  4.37it/s, Acc=0.460, ClsLoss=0.121, F1=0.465, RMSE=0.034, mAP=0.298, TotalLoss=0.221]\n",
            "Epoch 8/10 Train: 100%|██████████| 310/310 [03:06<00:00,  1.66it/s, Acc=0.653, ClsLoss=0.032, F1=0.650, RMSE=0.035, mAP=0.477, TotalLoss=0.076]\n",
            "Epoch 8/10 Validation: 100%|██████████| 78/78 [00:17<00:00,  4.38it/s, Acc=0.479, ClsLoss=0.097, F1=0.480, RMSE=0.035, mAP=0.317, TotalLoss=0.187]\n",
            "Epoch 9/10 Train: 100%|██████████| 310/310 [03:06<00:00,  1.66it/s, Acc=0.661, ClsLoss=0.026, F1=0.660, RMSE=0.035, mAP=0.506, TotalLoss=0.069]\n",
            "Epoch 9/10 Validation: 100%|██████████| 78/78 [00:17<00:00,  4.37it/s, Acc=0.476, ClsLoss=0.102, F1=0.479, RMSE=0.035, mAP=0.328, TotalLoss=0.200]\n",
            "Epoch 10/10 Train: 100%|██████████| 310/310 [03:05<00:00,  1.67it/s, Acc=0.673, ClsLoss=0.020, F1=0.673, RMSE=0.035, mAP=0.526, TotalLoss=0.053]\n",
            "Epoch 10/10 Validation: 100%|██████████| 78/78 [00:17<00:00,  4.37it/s, Acc=0.479, ClsLoss=0.107, F1=0.479, RMSE=0.035, mAP=0.348, TotalLoss=0.189]\n"
          ]
        },
        {
          "output_type": "display_data",
          "data": {
            "text/plain": [
              "<IPython.core.display.HTML object>"
            ],
            "text/html": []
          },
          "metadata": {}
        },
        {
          "output_type": "display_data",
          "data": {
            "text/plain": [
              "<IPython.core.display.HTML object>"
            ],
            "text/html": [
              "<br>    <style><br>        .wandb-row {<br>            display: flex;<br>            flex-direction: row;<br>            flex-wrap: wrap;<br>            justify-content: flex-start;<br>            width: 100%;<br>        }<br>        .wandb-col {<br>            display: flex;<br>            flex-direction: column;<br>            flex-basis: 100%;<br>            flex: 1;<br>            padding: 10px;<br>        }<br>    </style><br><div class=\"wandb-row\"><div class=\"wandb-col\"><h3>Run history:</h3><br/><table class=\"wandb\"><tr><td>train/accuracy</td><td>▁▅▆▆▇▇▇███</td></tr><tr><td>train/classification_loss</td><td>█▄▃▂▂▂▁▁▁▁</td></tr><tr><td>train/f1_score</td><td>▁▅▆▆▇▇▇███</td></tr><tr><td>train/map</td><td>▁▂▃▄▅▆▇▇██</td></tr><tr><td>train/rmse</td><td>█▂▁▁▁▁▁▁▁▁</td></tr><tr><td>val/accuracy</td><td>▁▅▆▆▅▇▇███</td></tr><tr><td>val/classification_loss</td><td>█▆▄▄▃▃▂▁▁▂</td></tr><tr><td>val/f1_score</td><td>▁▅▆▆▅▇▇███</td></tr><tr><td>val/map</td><td>▁▂▃▄▅▆▆▇▇█</td></tr><tr><td>val/rmse</td><td>█▃▁▁▁▁▁▁▁▁</td></tr></table><br/></div><div class=\"wandb-col\"><h3>Run summary:</h3><br/><table class=\"wandb\"><tr><td>train/accuracy</td><td>0.6732</td></tr><tr><td>train/classification_loss</td><td>0.01954</td></tr><tr><td>train/f1_score</td><td>0.67338</td></tr><tr><td>train/map</td><td>0.52571</td></tr><tr><td>train/rmse</td><td>0.03504</td></tr><tr><td>val/accuracy</td><td>0.47915</td></tr><tr><td>val/classification_loss</td><td>0.10705</td></tr><tr><td>val/f1_score</td><td>0.47878</td></tr><tr><td>val/map</td><td>0.34821</td></tr><tr><td>val/rmse</td><td>0.03469</td></tr></table><br/></div></div>"
            ]
          },
          "metadata": {}
        },
        {
          "output_type": "display_data",
          "data": {
            "text/plain": [
              "<IPython.core.display.HTML object>"
            ],
            "text/html": [
              " View run <strong style=\"color:#cdcd00\">crimson-moon-275</strong> at: <a href='https://wandb.ai/mehmeteminuludag-kirikkale-university/StajProjesi/runs/ecnxa02f' target=\"_blank\">https://wandb.ai/mehmeteminuludag-kirikkale-university/StajProjesi/runs/ecnxa02f</a><br> View project at: <a href='https://wandb.ai/mehmeteminuludag-kirikkale-university/StajProjesi' target=\"_blank\">https://wandb.ai/mehmeteminuludag-kirikkale-university/StajProjesi</a><br>Synced 5 W&B file(s), 0 media file(s), 0 artifact file(s) and 0 other file(s)"
            ]
          },
          "metadata": {}
        },
        {
          "output_type": "display_data",
          "data": {
            "text/plain": [
              "<IPython.core.display.HTML object>"
            ],
            "text/html": [
              "Find logs at: <code>./wandb/run-20250810_204946-ecnxa02f/logs</code>"
            ]
          },
          "metadata": {}
        },
        {
          "output_type": "stream",
          "name": "stderr",
          "text": [
            "[I 2025-08-10 21:23:54,632] Trial 17 finished with value: 0.18662569232625315 and parameters: {'learning_rate': 2.8940539809640463e-05, 'classification_weight': 1.3253305092294358, 'regression_weight': 1.960415125795786, 'detection_depth_weight': 0.2029198023724233, 'depth_map_weight': 0.4875318820523147, 'p_iou_threshold': 0.6335037222455735, 'n_iou_threshold': 0.10083158741008455}. Best is trial 7 with value: 0.014146041291846463.\n",
            "/usr/local/lib/python3.11/dist-packages/torch/nn/init.py:511: UserWarning: Initializing zero-element tensors is a no-op\n",
            "  warnings.warn(\"Initializing zero-element tensors is a no-op\")\n"
          ]
        },
        {
          "output_type": "display_data",
          "data": {
            "text/plain": [
              "<IPython.core.display.HTML object>"
            ],
            "text/html": [
              "Tracking run with wandb version 0.21.0"
            ]
          },
          "metadata": {}
        },
        {
          "output_type": "display_data",
          "data": {
            "text/plain": [
              "<IPython.core.display.HTML object>"
            ],
            "text/html": [
              "Run data is saved locally in <code>/content/wandb/run-20250810_212355-egxkj046</code>"
            ]
          },
          "metadata": {}
        },
        {
          "output_type": "display_data",
          "data": {
            "text/plain": [
              "<IPython.core.display.HTML object>"
            ],
            "text/html": [
              "Syncing run <strong><a href='https://wandb.ai/mehmeteminuludag-kirikkale-university/StajProjesi/runs/egxkj046' target=\"_blank\">ethereal-valley-276</a></strong> to <a href='https://wandb.ai/mehmeteminuludag-kirikkale-university/StajProjesi' target=\"_blank\">Weights & Biases</a> (<a href='https://wandb.me/developer-guide' target=\"_blank\">docs</a>)<br>"
            ]
          },
          "metadata": {}
        },
        {
          "output_type": "display_data",
          "data": {
            "text/plain": [
              "<IPython.core.display.HTML object>"
            ],
            "text/html": [
              " View project at <a href='https://wandb.ai/mehmeteminuludag-kirikkale-university/StajProjesi' target=\"_blank\">https://wandb.ai/mehmeteminuludag-kirikkale-university/StajProjesi</a>"
            ]
          },
          "metadata": {}
        },
        {
          "output_type": "display_data",
          "data": {
            "text/plain": [
              "<IPython.core.display.HTML object>"
            ],
            "text/html": [
              " View run at <a href='https://wandb.ai/mehmeteminuludag-kirikkale-university/StajProjesi/runs/egxkj046' target=\"_blank\">https://wandb.ai/mehmeteminuludag-kirikkale-university/StajProjesi/runs/egxkj046</a>"
            ]
          },
          "metadata": {}
        },
        {
          "output_type": "stream",
          "name": "stderr",
          "text": [
            "Epoch 1/10 Train: 100%|██████████| 310/310 [03:15<00:00,  1.59it/s, Acc=0.517, ClsLoss=0.718, F1=0.506, RMSE=0.038, mAP=0.336, TotalLoss=1.256]\n",
            "Epoch 1/10 Validation: 100%|██████████| 78/78 [00:17<00:00,  4.37it/s, Acc=0.514, ClsLoss=0.198, F1=0.476, RMSE=0.034, mAP=0.356, TotalLoss=0.733]\n",
            "Epoch 2/10 Train: 100%|██████████| 310/310 [03:15<00:00,  1.58it/s, Acc=0.567, ClsLoss=0.211, F1=0.555, RMSE=0.035, mAP=0.381, TotalLoss=0.382]\n",
            "Epoch 2/10 Validation: 100%|██████████| 78/78 [00:17<00:00,  4.37it/s, Acc=0.431, ClsLoss=0.164, F1=0.439, RMSE=0.035, mAP=0.324, TotalLoss=0.587]\n",
            "Epoch 3/10 Train: 100%|██████████| 310/310 [03:14<00:00,  1.59it/s, Acc=0.552, ClsLoss=0.253, F1=0.546, RMSE=0.035, mAP=0.391, TotalLoss=0.596]\n",
            "Epoch 3/10 Validation: 100%|██████████| 78/78 [00:17<00:00,  4.36it/s, Acc=0.438, ClsLoss=0.388, F1=0.446, RMSE=0.035, mAP=0.340, TotalLoss=0.581]\n",
            "Epoch 4/10 Train: 100%|██████████| 310/310 [03:15<00:00,  1.59it/s, Acc=0.577, ClsLoss=0.099, F1=0.571, RMSE=0.035, mAP=0.405, TotalLoss=0.373]\n",
            "Epoch 4/10 Validation: 100%|██████████| 78/78 [00:17<00:00,  4.38it/s, Acc=0.524, ClsLoss=0.120, F1=0.515, RMSE=0.034, mAP=0.360, TotalLoss=0.170]\n",
            "Epoch 5/10 Train: 100%|██████████| 310/310 [03:15<00:00,  1.59it/s, Acc=0.587, ClsLoss=0.221, F1=0.578, RMSE=0.035, mAP=0.422, TotalLoss=1.198]\n",
            "Epoch 5/10 Validation: 100%|██████████| 78/78 [00:17<00:00,  4.39it/s, Acc=0.500, ClsLoss=0.118, F1=0.489, RMSE=0.033, mAP=0.381, TotalLoss=0.557]\n",
            "Epoch 6/10 Train: 100%|██████████| 310/310 [03:15<00:00,  1.59it/s, Acc=0.588, ClsLoss=0.352, F1=0.582, RMSE=0.036, mAP=0.429, TotalLoss=0.816]\n",
            "Epoch 6/10 Validation: 100%|██████████| 78/78 [00:17<00:00,  4.39it/s, Acc=0.523, ClsLoss=0.170, F1=0.520, RMSE=0.033, mAP=0.388, TotalLoss=0.214]\n",
            "Epoch 7/10 Train: 100%|██████████| 310/310 [03:14<00:00,  1.59it/s, Acc=0.634, ClsLoss=0.186, F1=0.627, RMSE=0.035, mAP=0.454, TotalLoss=0.634]\n",
            "Epoch 7/10 Validation: 100%|██████████| 78/78 [00:17<00:00,  4.39it/s, Acc=0.507, ClsLoss=0.126, F1=0.505, RMSE=0.035, mAP=0.373, TotalLoss=0.832]\n",
            "Epoch 8/10 Train: 100%|██████████| 310/310 [03:15<00:00,  1.58it/s, Acc=0.588, ClsLoss=1.894, F1=0.582, RMSE=0.035, mAP=0.430, TotalLoss=3.833]\n",
            "Epoch 8/10 Validation: 100%|██████████| 78/78 [00:17<00:00,  4.38it/s, Acc=0.506, ClsLoss=0.120, F1=0.510, RMSE=0.038, mAP=0.374, TotalLoss=0.154]\n",
            "Epoch 9/10 Train: 100%|██████████| 310/310 [03:15<00:00,  1.59it/s, Acc=0.598, ClsLoss=0.081, F1=0.599, RMSE=0.035, mAP=0.446, TotalLoss=0.309]\n",
            "Epoch 9/10 Validation: 100%|██████████| 78/78 [00:17<00:00,  4.38it/s, Acc=0.561, ClsLoss=0.115, F1=0.539, RMSE=0.035, mAP=0.404, TotalLoss=0.172]\n",
            "Epoch 10/10 Train: 100%|██████████| 310/310 [03:15<00:00,  1.59it/s, Acc=0.645, ClsLoss=0.459, F1=0.644, RMSE=0.035, mAP=0.471, TotalLoss=1.566]\n",
            "Epoch 10/10 Validation: 100%|██████████| 78/78 [00:17<00:00,  4.38it/s, Acc=0.550, ClsLoss=0.110, F1=0.544, RMSE=0.034, mAP=0.405, TotalLoss=0.154]\n"
          ]
        },
        {
          "output_type": "display_data",
          "data": {
            "text/plain": [
              "<IPython.core.display.HTML object>"
            ],
            "text/html": []
          },
          "metadata": {}
        },
        {
          "output_type": "display_data",
          "data": {
            "text/plain": [
              "<IPython.core.display.HTML object>"
            ],
            "text/html": [
              "<br>    <style><br>        .wandb-row {<br>            display: flex;<br>            flex-direction: row;<br>            flex-wrap: wrap;<br>            justify-content: flex-start;<br>            width: 100%;<br>        }<br>        .wandb-col {<br>            display: flex;<br>            flex-direction: column;<br>            flex-basis: 100%;<br>            flex: 1;<br>            padding: 10px;<br>        }<br>    </style><br><div class=\"wandb-row\"><div class=\"wandb-col\"><h3>Run history:</h3><br/><table class=\"wandb\"><tr><td>train/accuracy</td><td>▁▄▃▄▅▅▇▅▅█</td></tr><tr><td>train/classification_loss</td><td>▃▁▂▁▂▂▁█▁▂</td></tr><tr><td>train/f1_score</td><td>▁▃▃▄▅▅▇▅▆█</td></tr><tr><td>train/map</td><td>▁▃▄▅▅▆▇▆▇█</td></tr><tr><td>train/rmse</td><td>█▁▁▁▁▂▁▁▁▂</td></tr><tr><td>val/accuracy</td><td>▅▁▁▆▅▆▅▅█▇</td></tr><tr><td>val/classification_loss</td><td>▃▂█▁▁▃▁▁▁▁</td></tr><tr><td>val/f1_score</td><td>▃▁▁▆▄▆▅▆██</td></tr><tr><td>val/map</td><td>▄▁▂▄▆▇▅▅██</td></tr><tr><td>val/rmse</td><td>▂▃▄▂▁▁▃█▃▁</td></tr></table><br/></div><div class=\"wandb-col\"><h3>Run summary:</h3><br/><table class=\"wandb\"><tr><td>train/accuracy</td><td>0.64516</td></tr><tr><td>train/classification_loss</td><td>0.45916</td></tr><tr><td>train/f1_score</td><td>0.64361</td></tr><tr><td>train/map</td><td>0.47114</td></tr><tr><td>train/rmse</td><td>0.03548</td></tr><tr><td>val/accuracy</td><td>0.5496</td></tr><tr><td>val/classification_loss</td><td>0.10985</td></tr><tr><td>val/f1_score</td><td>0.54372</td></tr><tr><td>val/map</td><td>0.40517</td></tr><tr><td>val/rmse</td><td>0.03361</td></tr></table><br/></div></div>"
            ]
          },
          "metadata": {}
        },
        {
          "output_type": "display_data",
          "data": {
            "text/plain": [
              "<IPython.core.display.HTML object>"
            ],
            "text/html": [
              " View run <strong style=\"color:#cdcd00\">ethereal-valley-276</strong> at: <a href='https://wandb.ai/mehmeteminuludag-kirikkale-university/StajProjesi/runs/egxkj046' target=\"_blank\">https://wandb.ai/mehmeteminuludag-kirikkale-university/StajProjesi/runs/egxkj046</a><br> View project at: <a href='https://wandb.ai/mehmeteminuludag-kirikkale-university/StajProjesi' target=\"_blank\">https://wandb.ai/mehmeteminuludag-kirikkale-university/StajProjesi</a><br>Synced 5 W&B file(s), 0 media file(s), 0 artifact file(s) and 0 other file(s)"
            ]
          },
          "metadata": {}
        },
        {
          "output_type": "display_data",
          "data": {
            "text/plain": [
              "<IPython.core.display.HTML object>"
            ],
            "text/html": [
              "Find logs at: <code>./wandb/run-20250810_212355-egxkj046/logs</code>"
            ]
          },
          "metadata": {}
        },
        {
          "output_type": "stream",
          "name": "stderr",
          "text": [
            "[I 2025-08-10 21:59:31,391] Trial 18 finished with value: 0.15365224707933614 and parameters: {'learning_rate': 0.0019388437746094128, 'classification_weight': 1.059172047072042, 'regression_weight': 1.4634653141697418, 'detection_depth_weight': 0.40148055997259535, 'depth_map_weight': 0.3405956106700145, 'p_iou_threshold': 0.5873726591464528, 'n_iou_threshold': 0.22502636843501506}. Best is trial 7 with value: 0.014146041291846463.\n",
            "/usr/local/lib/python3.11/dist-packages/torch/nn/init.py:511: UserWarning: Initializing zero-element tensors is a no-op\n",
            "  warnings.warn(\"Initializing zero-element tensors is a no-op\")\n"
          ]
        },
        {
          "output_type": "display_data",
          "data": {
            "text/plain": [
              "<IPython.core.display.HTML object>"
            ],
            "text/html": [
              "Tracking run with wandb version 0.21.0"
            ]
          },
          "metadata": {}
        },
        {
          "output_type": "display_data",
          "data": {
            "text/plain": [
              "<IPython.core.display.HTML object>"
            ],
            "text/html": [
              "Run data is saved locally in <code>/content/wandb/run-20250810_215931-4gcvmjl1</code>"
            ]
          },
          "metadata": {}
        },
        {
          "output_type": "display_data",
          "data": {
            "text/plain": [
              "<IPython.core.display.HTML object>"
            ],
            "text/html": [
              "Syncing run <strong><a href='https://wandb.ai/mehmeteminuludag-kirikkale-university/StajProjesi/runs/4gcvmjl1' target=\"_blank\">dandy-shape-277</a></strong> to <a href='https://wandb.ai/mehmeteminuludag-kirikkale-university/StajProjesi' target=\"_blank\">Weights & Biases</a> (<a href='https://wandb.me/developer-guide' target=\"_blank\">docs</a>)<br>"
            ]
          },
          "metadata": {}
        },
        {
          "output_type": "display_data",
          "data": {
            "text/plain": [
              "<IPython.core.display.HTML object>"
            ],
            "text/html": [
              " View project at <a href='https://wandb.ai/mehmeteminuludag-kirikkale-university/StajProjesi' target=\"_blank\">https://wandb.ai/mehmeteminuludag-kirikkale-university/StajProjesi</a>"
            ]
          },
          "metadata": {}
        },
        {
          "output_type": "display_data",
          "data": {
            "text/plain": [
              "<IPython.core.display.HTML object>"
            ],
            "text/html": [
              " View run at <a href='https://wandb.ai/mehmeteminuludag-kirikkale-university/StajProjesi/runs/4gcvmjl1' target=\"_blank\">https://wandb.ai/mehmeteminuludag-kirikkale-university/StajProjesi/runs/4gcvmjl1</a>"
            ]
          },
          "metadata": {}
        },
        {
          "output_type": "stream",
          "name": "stderr",
          "text": [
            "Epoch 1/10 Train: 100%|██████████| 310/310 [02:56<00:00,  1.75it/s, Acc=0.341, ClsLoss=0.231, F1=0.352, RMSE=0.123, mAP=0.126, TotalLoss=0.214]\n",
            "Epoch 1/10 Validation: 100%|██████████| 78/78 [00:17<00:00,  4.40it/s, Acc=0.328, ClsLoss=0.178, F1=0.336, RMSE=0.047, mAP=0.165, TotalLoss=0.178]\n",
            "Epoch 2/10 Train: 100%|██████████| 310/310 [02:55<00:00,  1.77it/s, Acc=0.480, ClsLoss=0.077, F1=0.475, RMSE=0.039, mAP=0.308, TotalLoss=0.098]\n",
            "Epoch 2/10 Validation: 100%|██████████| 78/78 [00:17<00:00,  4.41it/s, Acc=0.386, ClsLoss=0.140, F1=0.387, RMSE=0.036, mAP=0.248, TotalLoss=0.133]\n",
            "Epoch 3/10 Train: 100%|██████████| 310/310 [02:56<00:00,  1.76it/s, Acc=0.553, ClsLoss=0.043, F1=0.553, RMSE=0.035, mAP=0.401, TotalLoss=0.063]\n",
            "Epoch 3/10 Validation: 100%|██████████| 78/78 [00:17<00:00,  4.40it/s, Acc=0.387, ClsLoss=0.121, F1=0.387, RMSE=0.034, mAP=0.289, TotalLoss=0.119]\n",
            "Epoch 4/10 Train: 100%|██████████| 310/310 [02:56<00:00,  1.76it/s, Acc=0.563, ClsLoss=0.018, F1=0.563, RMSE=0.035, mAP=0.435, TotalLoss=0.040]\n",
            "Epoch 4/10 Validation: 100%|██████████| 78/78 [00:17<00:00,  4.41it/s, Acc=0.412, ClsLoss=0.117, F1=0.413, RMSE=0.034, mAP=0.304, TotalLoss=0.119]\n",
            "Epoch 5/10 Train: 100%|██████████| 310/310 [02:55<00:00,  1.76it/s, Acc=0.581, ClsLoss=0.024, F1=0.581, RMSE=0.034, mAP=0.463, TotalLoss=0.038]\n",
            "Epoch 5/10 Validation: 100%|██████████| 78/78 [00:17<00:00,  4.40it/s, Acc=0.404, ClsLoss=0.088, F1=0.404, RMSE=0.034, mAP=0.319, TotalLoss=0.085]\n",
            "Epoch 6/10 Train: 100%|██████████| 310/310 [02:56<00:00,  1.76it/s, Acc=0.591, ClsLoss=0.028, F1=0.593, RMSE=0.035, mAP=0.474, TotalLoss=0.034]\n",
            "Epoch 6/10 Validation: 100%|██████████| 78/78 [00:17<00:00,  4.38it/s, Acc=0.395, ClsLoss=0.102, F1=0.401, RMSE=0.034, mAP=0.327, TotalLoss=0.108]\n",
            "Epoch 7/10 Train: 100%|██████████| 310/310 [02:55<00:00,  1.76it/s, Acc=0.599, ClsLoss=0.005, F1=0.600, RMSE=0.035, mAP=0.492, TotalLoss=0.014]\n",
            "Epoch 7/10 Validation: 100%|██████████| 78/78 [00:17<00:00,  4.39it/s, Acc=0.431, ClsLoss=0.109, F1=0.431, RMSE=0.034, mAP=0.332, TotalLoss=0.105]\n",
            "Epoch 8/10 Train: 100%|██████████| 310/310 [02:56<00:00,  1.76it/s, Acc=0.598, ClsLoss=0.019, F1=0.598, RMSE=0.035, mAP=0.500, TotalLoss=0.024]\n",
            "Epoch 8/10 Validation: 100%|██████████| 78/78 [00:17<00:00,  4.39it/s, Acc=0.422, ClsLoss=0.078, F1=0.422, RMSE=0.034, mAP=0.347, TotalLoss=0.091]\n",
            "Epoch 9/10 Train: 100%|██████████| 310/310 [02:56<00:00,  1.76it/s, Acc=0.603, ClsLoss=0.009, F1=0.603, RMSE=0.035, mAP=0.513, TotalLoss=0.013]\n",
            "Epoch 9/10 Validation: 100%|██████████| 78/78 [00:17<00:00,  4.39it/s, Acc=0.422, ClsLoss=0.077, F1=0.426, RMSE=0.035, mAP=0.349, TotalLoss=0.079]\n",
            "Epoch 10/10 Train: 100%|██████████| 310/310 [02:56<00:00,  1.75it/s, Acc=0.605, ClsLoss=0.002, F1=0.605, RMSE=0.035, mAP=0.519, TotalLoss=0.008]\n",
            "Epoch 10/10 Validation: 100%|██████████| 78/78 [00:17<00:00,  4.39it/s, Acc=0.421, ClsLoss=0.074, F1=0.425, RMSE=0.034, mAP=0.352, TotalLoss=0.074]\n"
          ]
        },
        {
          "output_type": "display_data",
          "data": {
            "text/plain": [
              "<IPython.core.display.HTML object>"
            ],
            "text/html": []
          },
          "metadata": {}
        },
        {
          "output_type": "display_data",
          "data": {
            "text/plain": [
              "<IPython.core.display.HTML object>"
            ],
            "text/html": [
              "<br>    <style><br>        .wandb-row {<br>            display: flex;<br>            flex-direction: row;<br>            flex-wrap: wrap;<br>            justify-content: flex-start;<br>            width: 100%;<br>        }<br>        .wandb-col {<br>            display: flex;<br>            flex-direction: column;<br>            flex-basis: 100%;<br>            flex: 1;<br>            padding: 10px;<br>        }<br>    </style><br><div class=\"wandb-row\"><div class=\"wandb-col\"><h3>Run history:</h3><br/><table class=\"wandb\"><tr><td>train/accuracy</td><td>▁▅▇▇▇█████</td></tr><tr><td>train/classification_loss</td><td>█▃▂▁▂▂▁▂▁▁</td></tr><tr><td>train/f1_score</td><td>▁▄▇▇▇█████</td></tr><tr><td>train/map</td><td>▁▄▆▆▇▇████</td></tr><tr><td>train/rmse</td><td>█▁▁▁▁▁▁▁▁▁</td></tr><tr><td>val/accuracy</td><td>▁▅▅▇▆▆█▇▇▇</td></tr><tr><td>val/classification_loss</td><td>█▅▄▄▂▃▃▁▁▁</td></tr><tr><td>val/f1_score</td><td>▁▅▅▇▆▆█▇██</td></tr><tr><td>val/map</td><td>▁▄▆▆▇▇▇███</td></tr><tr><td>val/rmse</td><td>█▂▁▁▁▁▁▁▁▁</td></tr></table><br/></div><div class=\"wandb-col\"><h3>Run summary:</h3><br/><table class=\"wandb\"><tr><td>train/accuracy</td><td>0.60484</td></tr><tr><td>train/classification_loss</td><td>0.00209</td></tr><tr><td>train/f1_score</td><td>0.60521</td></tr><tr><td>train/map</td><td>0.51877</td></tr><tr><td>train/rmse</td><td>0.035</td></tr><tr><td>val/accuracy</td><td>0.42094</td></tr><tr><td>val/classification_loss</td><td>0.07421</td></tr><tr><td>val/f1_score</td><td>0.42498</td></tr><tr><td>val/map</td><td>0.35244</td></tr><tr><td>val/rmse</td><td>0.03409</td></tr></table><br/></div></div>"
            ]
          },
          "metadata": {}
        },
        {
          "output_type": "display_data",
          "data": {
            "text/plain": [
              "<IPython.core.display.HTML object>"
            ],
            "text/html": [
              " View run <strong style=\"color:#cdcd00\">dandy-shape-277</strong> at: <a href='https://wandb.ai/mehmeteminuludag-kirikkale-university/StajProjesi/runs/4gcvmjl1' target=\"_blank\">https://wandb.ai/mehmeteminuludag-kirikkale-university/StajProjesi/runs/4gcvmjl1</a><br> View project at: <a href='https://wandb.ai/mehmeteminuludag-kirikkale-university/StajProjesi' target=\"_blank\">https://wandb.ai/mehmeteminuludag-kirikkale-university/StajProjesi</a><br>Synced 5 W&B file(s), 0 media file(s), 0 artifact file(s) and 0 other file(s)"
            ]
          },
          "metadata": {}
        },
        {
          "output_type": "display_data",
          "data": {
            "text/plain": [
              "<IPython.core.display.HTML object>"
            ],
            "text/html": [
              "Find logs at: <code>./wandb/run-20250810_215931-4gcvmjl1/logs</code>"
            ]
          },
          "metadata": {}
        },
        {
          "output_type": "stream",
          "name": "stderr",
          "text": [
            "[I 2025-08-10 22:31:57,691] Trial 19 finished with value: 0.07431056797026823 and parameters: {'learning_rate': 0.00010251016313975215, 'classification_weight': 0.7329382463081738, 'regression_weight': 1.739701486354742, 'detection_depth_weight': 0.11432038019962487, 'depth_map_weight': 0.2722463047077742, 'p_iou_threshold': 0.6643865834002174, 'n_iou_threshold': 0.16730229069057762}. Best is trial 7 with value: 0.014146041291846463.\n"
          ]
        },
        {
          "output_type": "stream",
          "name": "stdout",
          "text": [
            "En iyi parametreler: {'learning_rate': 0.00040567870430664255, 'classification_weight': 0.6361435407895153, 'regression_weight': 1.7475245789525151, 'detection_depth_weight': 0.38060624731679427, 'depth_map_weight': 0.301875722351189, 'p_iou_threshold': 0.6988018957643491, 'n_iou_threshold': 0.38633771808693684}\n"
          ]
        }
      ]
    },
    {
      "cell_type": "code",
      "source": [
        "# ön eğitim ile belirlediğimiz en iyi hiper parametreler\n",
        "#'learning_rate': 5.5292857018056875e-05,\n",
        "#'classification_weight': 1.3885316498641553,\n",
        "#'regression_weight': 0.9150176817378766,\n",
        "#'detection_depth_weight': 0.3312325962942875,\n",
        "#'depth_map_weight': 0.2194157408802837,\n",
        "#'p_iou_threshold': 0.6771717173841169,\n",
        "#'n_iou_threshold': 0.2629609545194854\n"
      ],
      "metadata": {
        "id": "MVrpeXw8aRc9"
      },
      "id": "MVrpeXw8aRc9",
      "execution_count": null,
      "outputs": []
    },
    {
      "cell_type": "code",
      "source": [
        "task_weights = {\n",
        "          'classification': 1.3885316498641553,\n",
        "          'regression': 0.9150176817378766,\n",
        "          'depth': 0.3312325962942875,\n",
        "          'depth_map': 0.2194157408802837,}\n",
        "model = CompleteMultiTaskModel(num_classes=8, num_anchors=9).to(device)\n",
        "train_model(\n",
        "    model=model,\n",
        "    train_loader=train_loader,\n",
        "    val_loader=val_loader,\n",
        "    num_epochs=20,\n",
        "    early_stop_patience=3,\n",
        "    learning_rate=1e-4,\n",
        "    device=device,\n",
        "    save_path='/content/drive/MyDrive/model_best_weights.pth',\n",
        "    class_weights=class_weights,\n",
        "    task_weights=task_weights,\n",
        "    scheduler_patience=2,\n",
        "    scheduler_factor=0.2,\n",
        "    p_iou_threshold=0.67,\n",
        "    n_iou_threshold=0.26\n",
        "    )"
      ],
      "metadata": {
        "colab": {
          "base_uri": "https://localhost:8080/",
          "height": 512
        },
        "id": "FHnI3UbTGKAa",
        "outputId": "b86978b4-f1fc-4c9b-806f-4d22092f3017"
      },
      "id": "FHnI3UbTGKAa",
      "execution_count": 6,
      "outputs": [
        {
          "output_type": "stream",
          "name": "stderr",
          "text": [
            "/usr/local/lib/python3.11/dist-packages/torch/nn/init.py:511: UserWarning: Initializing zero-element tensors is a no-op\n",
            "  warnings.warn(\"Initializing zero-element tensors is a no-op\")\n",
            "\u001b[34m\u001b[1mwandb\u001b[0m: Currently logged in as: \u001b[33mmehmeteminuludag\u001b[0m (\u001b[33mmehmeteminuludag-kirikkale-university\u001b[0m) to \u001b[32mhttps://api.wandb.ai\u001b[0m. Use \u001b[1m`wandb login --relogin`\u001b[0m to force relogin\n"
          ]
        },
        {
          "output_type": "display_data",
          "data": {
            "text/plain": [
              "<IPython.core.display.HTML object>"
            ],
            "text/html": [
              "Tracking run with wandb version 0.21.0"
            ]
          },
          "metadata": {}
        },
        {
          "output_type": "display_data",
          "data": {
            "text/plain": [
              "<IPython.core.display.HTML object>"
            ],
            "text/html": [
              "Run data is saved locally in <code>/content/wandb/run-20250811_123058-x488bw4q</code>"
            ]
          },
          "metadata": {}
        },
        {
          "output_type": "display_data",
          "data": {
            "text/plain": [
              "<IPython.core.display.HTML object>"
            ],
            "text/html": [
              "Syncing run <strong><a href='https://wandb.ai/mehmeteminuludag-kirikkale-university/StajProjesi/runs/x488bw4q' target=\"_blank\">efficient-bee-280</a></strong> to <a href='https://wandb.ai/mehmeteminuludag-kirikkale-university/StajProjesi' target=\"_blank\">Weights & Biases</a> (<a href='https://wandb.me/developer-guide' target=\"_blank\">docs</a>)<br>"
            ]
          },
          "metadata": {}
        },
        {
          "output_type": "display_data",
          "data": {
            "text/plain": [
              "<IPython.core.display.HTML object>"
            ],
            "text/html": [
              " View project at <a href='https://wandb.ai/mehmeteminuludag-kirikkale-university/StajProjesi' target=\"_blank\">https://wandb.ai/mehmeteminuludag-kirikkale-university/StajProjesi</a>"
            ]
          },
          "metadata": {}
        },
        {
          "output_type": "display_data",
          "data": {
            "text/plain": [
              "<IPython.core.display.HTML object>"
            ],
            "text/html": [
              " View run at <a href='https://wandb.ai/mehmeteminuludag-kirikkale-university/StajProjesi/runs/x488bw4q' target=\"_blank\">https://wandb.ai/mehmeteminuludag-kirikkale-university/StajProjesi/runs/x488bw4q</a>"
            ]
          },
          "metadata": {}
        },
        {
          "output_type": "stream",
          "name": "stderr",
          "text": [
            "Epoch 1/10 Train:   2%|▏         | 20/1169 [00:11<11:02,  1.73it/s, Acc=0.000, ClsLoss=0.723, F1=0.000, RMSE=0.448, mAP=0.019, TotalLoss=1.117]\n"
          ]
        },
        {
          "output_type": "error",
          "ename": "KeyboardInterrupt",
          "evalue": "",
          "traceback": [
            "\u001b[0;31m---------------------------------------------------------------------------\u001b[0m",
            "\u001b[0;31mKeyboardInterrupt\u001b[0m                         Traceback (most recent call last)",
            "\u001b[0;32m/tmp/ipython-input-3110714510.py\u001b[0m in \u001b[0;36m<cell line: 0>\u001b[0;34m()\u001b[0m\n\u001b[1;32m      5\u001b[0m           'depth_map': 0.2194157408802837,}\n\u001b[1;32m      6\u001b[0m \u001b[0mmodel\u001b[0m \u001b[0;34m=\u001b[0m \u001b[0mCompleteMultiTaskModel\u001b[0m\u001b[0;34m(\u001b[0m\u001b[0mnum_classes\u001b[0m\u001b[0;34m=\u001b[0m\u001b[0;36m8\u001b[0m\u001b[0;34m,\u001b[0m \u001b[0mnum_anchors\u001b[0m\u001b[0;34m=\u001b[0m\u001b[0;36m9\u001b[0m\u001b[0;34m)\u001b[0m\u001b[0;34m.\u001b[0m\u001b[0mto\u001b[0m\u001b[0;34m(\u001b[0m\u001b[0mdevice\u001b[0m\u001b[0;34m)\u001b[0m\u001b[0;34m\u001b[0m\u001b[0;34m\u001b[0m\u001b[0m\n\u001b[0;32m----> 7\u001b[0;31m train_model(\n\u001b[0m\u001b[1;32m      8\u001b[0m     \u001b[0mmodel\u001b[0m\u001b[0;34m=\u001b[0m\u001b[0mmodel\u001b[0m\u001b[0;34m,\u001b[0m\u001b[0;34m\u001b[0m\u001b[0;34m\u001b[0m\u001b[0m\n\u001b[1;32m      9\u001b[0m     \u001b[0mtrain_loader\u001b[0m\u001b[0;34m=\u001b[0m\u001b[0mtrain_2_loader\u001b[0m\u001b[0;34m,\u001b[0m\u001b[0;34m\u001b[0m\u001b[0;34m\u001b[0m\u001b[0m\n",
            "\u001b[0;32m/tmp/ipython-input-2353501084.py\u001b[0m in \u001b[0;36mtrain_model\u001b[0;34m(model, train_loader, val_loader, num_epochs, learning_rate, device, save_path, scheduler_patience, scheduler_factor, class_weights, task_weights, p_iou_threshold, n_iou_threshold)\u001b[0m\n\u001b[1;32m   1284\u001b[0m             \u001b[0mvalues\u001b[0m\u001b[0;34m[\u001b[0m\u001b[0;34m'targets'\u001b[0m\u001b[0;34m]\u001b[0m \u001b[0;34m=\u001b[0m \u001b[0mtargets\u001b[0m\u001b[0;34m\u001b[0m\u001b[0;34m\u001b[0m\u001b[0m\n\u001b[1;32m   1285\u001b[0m \u001b[0;34m\u001b[0m\u001b[0m\n\u001b[0;32m-> 1286\u001b[0;31m             \u001b[0mlosses\u001b[0m\u001b[0;34m,\u001b[0m \u001b[0mmetrics\u001b[0m \u001b[0;34m=\u001b[0m \u001b[0mcriterion\u001b[0m\u001b[0;34m(\u001b[0m\u001b[0mvalues\u001b[0m\u001b[0;34m)\u001b[0m\u001b[0;34m\u001b[0m\u001b[0;34m\u001b[0m\u001b[0m\n\u001b[0m\u001b[1;32m   1287\u001b[0m             \u001b[0mlosses\u001b[0m\u001b[0;34m[\u001b[0m\u001b[0;34m'total'\u001b[0m\u001b[0;34m]\u001b[0m\u001b[0;34m.\u001b[0m\u001b[0mbackward\u001b[0m\u001b[0;34m(\u001b[0m\u001b[0;34m)\u001b[0m\u001b[0;34m\u001b[0m\u001b[0;34m\u001b[0m\u001b[0m\n\u001b[1;32m   1288\u001b[0m             \u001b[0mtorch\u001b[0m\u001b[0;34m.\u001b[0m\u001b[0mnn\u001b[0m\u001b[0;34m.\u001b[0m\u001b[0mutils\u001b[0m\u001b[0;34m.\u001b[0m\u001b[0mclip_grad_norm_\u001b[0m\u001b[0;34m(\u001b[0m\u001b[0mmodel\u001b[0m\u001b[0;34m.\u001b[0m\u001b[0mparameters\u001b[0m\u001b[0;34m(\u001b[0m\u001b[0;34m)\u001b[0m\u001b[0;34m,\u001b[0m \u001b[0mmax_norm\u001b[0m\u001b[0;34m=\u001b[0m\u001b[0;36m1.0\u001b[0m\u001b[0;34m)\u001b[0m\u001b[0;34m\u001b[0m\u001b[0;34m\u001b[0m\u001b[0m\n",
            "\u001b[0;32m/usr/local/lib/python3.11/dist-packages/torch/nn/modules/module.py\u001b[0m in \u001b[0;36m_wrapped_call_impl\u001b[0;34m(self, *args, **kwargs)\u001b[0m\n\u001b[1;32m   1737\u001b[0m             \u001b[0;32mreturn\u001b[0m \u001b[0mself\u001b[0m\u001b[0;34m.\u001b[0m\u001b[0m_compiled_call_impl\u001b[0m\u001b[0;34m(\u001b[0m\u001b[0;34m*\u001b[0m\u001b[0margs\u001b[0m\u001b[0;34m,\u001b[0m \u001b[0;34m**\u001b[0m\u001b[0mkwargs\u001b[0m\u001b[0;34m)\u001b[0m  \u001b[0;31m# type: ignore[misc]\u001b[0m\u001b[0;34m\u001b[0m\u001b[0;34m\u001b[0m\u001b[0m\n\u001b[1;32m   1738\u001b[0m         \u001b[0;32melse\u001b[0m\u001b[0;34m:\u001b[0m\u001b[0;34m\u001b[0m\u001b[0;34m\u001b[0m\u001b[0m\n\u001b[0;32m-> 1739\u001b[0;31m             \u001b[0;32mreturn\u001b[0m \u001b[0mself\u001b[0m\u001b[0;34m.\u001b[0m\u001b[0m_call_impl\u001b[0m\u001b[0;34m(\u001b[0m\u001b[0;34m*\u001b[0m\u001b[0margs\u001b[0m\u001b[0;34m,\u001b[0m \u001b[0;34m**\u001b[0m\u001b[0mkwargs\u001b[0m\u001b[0;34m)\u001b[0m\u001b[0;34m\u001b[0m\u001b[0;34m\u001b[0m\u001b[0m\n\u001b[0m\u001b[1;32m   1740\u001b[0m \u001b[0;34m\u001b[0m\u001b[0m\n\u001b[1;32m   1741\u001b[0m     \u001b[0;31m# torchrec tests the code consistency with the following code\u001b[0m\u001b[0;34m\u001b[0m\u001b[0;34m\u001b[0m\u001b[0m\n",
            "\u001b[0;32m/usr/local/lib/python3.11/dist-packages/torch/nn/modules/module.py\u001b[0m in \u001b[0;36m_call_impl\u001b[0;34m(self, *args, **kwargs)\u001b[0m\n\u001b[1;32m   1748\u001b[0m                 \u001b[0;32mor\u001b[0m \u001b[0m_global_backward_pre_hooks\u001b[0m \u001b[0;32mor\u001b[0m \u001b[0m_global_backward_hooks\u001b[0m\u001b[0;34m\u001b[0m\u001b[0;34m\u001b[0m\u001b[0m\n\u001b[1;32m   1749\u001b[0m                 or _global_forward_hooks or _global_forward_pre_hooks):\n\u001b[0;32m-> 1750\u001b[0;31m             \u001b[0;32mreturn\u001b[0m \u001b[0mforward_call\u001b[0m\u001b[0;34m(\u001b[0m\u001b[0;34m*\u001b[0m\u001b[0margs\u001b[0m\u001b[0;34m,\u001b[0m \u001b[0;34m**\u001b[0m\u001b[0mkwargs\u001b[0m\u001b[0;34m)\u001b[0m\u001b[0;34m\u001b[0m\u001b[0;34m\u001b[0m\u001b[0m\n\u001b[0m\u001b[1;32m   1751\u001b[0m \u001b[0;34m\u001b[0m\u001b[0m\n\u001b[1;32m   1752\u001b[0m         \u001b[0mresult\u001b[0m \u001b[0;34m=\u001b[0m \u001b[0;32mNone\u001b[0m\u001b[0;34m\u001b[0m\u001b[0;34m\u001b[0m\u001b[0m\n",
            "\u001b[0;32m/tmp/ipython-input-2353501084.py\u001b[0m in \u001b[0;36mforward\u001b[0;34m(self, model_output)\u001b[0m\n\u001b[1;32m    952\u001b[0m           \u001b[0;31m# Depth Loss + Metrics\u001b[0m\u001b[0;34m\u001b[0m\u001b[0;34m\u001b[0m\u001b[0m\n\u001b[1;32m    953\u001b[0m           \u001b[0;32mif\u001b[0m \u001b[0mgt_depths\u001b[0m \u001b[0;32mis\u001b[0m \u001b[0;32mnot\u001b[0m \u001b[0;32mNone\u001b[0m \u001b[0;32mand\u001b[0m \u001b[0mbatch_depth_preds\u001b[0m \u001b[0;32mis\u001b[0m \u001b[0;32mnot\u001b[0m \u001b[0;32mNone\u001b[0m\u001b[0;34m:\u001b[0m\u001b[0;34m\u001b[0m\u001b[0;34m\u001b[0m\u001b[0m\n\u001b[0;32m--> 954\u001b[0;31m               depth_loss, depth_mse, depth_rmse = self._compute_depth_loss(\n\u001b[0m\u001b[1;32m    955\u001b[0m                   \u001b[0mbatch_depth_preds\u001b[0m\u001b[0;34m,\u001b[0m \u001b[0mgt_depths\u001b[0m\u001b[0;34m,\u001b[0m \u001b[0mgt_boxes\u001b[0m\u001b[0;34m\u001b[0m\u001b[0;34m\u001b[0m\u001b[0m\n\u001b[1;32m    956\u001b[0m               )\n",
            "\u001b[0;32m/tmp/ipython-input-2353501084.py\u001b[0m in \u001b[0;36m_compute_depth_loss\u001b[0;34m(self, depth_pred, gt_depths, gt_boxes)\u001b[0m\n\u001b[1;32m   1101\u001b[0m             \u001b[0mx1_pix\u001b[0m \u001b[0;34m=\u001b[0m \u001b[0mint\u001b[0m\u001b[0;34m(\u001b[0m\u001b[0mx1\u001b[0m \u001b[0;34m*\u001b[0m \u001b[0mW\u001b[0m\u001b[0;34m)\u001b[0m\u001b[0;34m\u001b[0m\u001b[0;34m\u001b[0m\u001b[0m\n\u001b[1;32m   1102\u001b[0m             \u001b[0my1_pix\u001b[0m \u001b[0;34m=\u001b[0m \u001b[0mint\u001b[0m\u001b[0;34m(\u001b[0m\u001b[0my1\u001b[0m \u001b[0;34m*\u001b[0m \u001b[0mH\u001b[0m\u001b[0;34m)\u001b[0m\u001b[0;34m\u001b[0m\u001b[0;34m\u001b[0m\u001b[0m\n\u001b[0;32m-> 1103\u001b[0;31m             \u001b[0mx2_pix\u001b[0m \u001b[0;34m=\u001b[0m \u001b[0mint\u001b[0m\u001b[0;34m(\u001b[0m\u001b[0mx2\u001b[0m \u001b[0;34m*\u001b[0m \u001b[0mW\u001b[0m\u001b[0;34m)\u001b[0m\u001b[0;34m\u001b[0m\u001b[0;34m\u001b[0m\u001b[0m\n\u001b[0m\u001b[1;32m   1104\u001b[0m             \u001b[0my2_pix\u001b[0m \u001b[0;34m=\u001b[0m \u001b[0mint\u001b[0m\u001b[0;34m(\u001b[0m\u001b[0my2\u001b[0m \u001b[0;34m*\u001b[0m \u001b[0mH\u001b[0m\u001b[0;34m)\u001b[0m\u001b[0;34m\u001b[0m\u001b[0;34m\u001b[0m\u001b[0m\n\u001b[1;32m   1105\u001b[0m \u001b[0;34m\u001b[0m\u001b[0m\n",
            "\u001b[0;31mKeyboardInterrupt\u001b[0m: "
          ]
        }
      ]
    },
    {
      "cell_type": "code",
      "source": [],
      "metadata": {
        "id": "CEX10_ZmHDhg"
      },
      "id": "CEX10_ZmHDhg",
      "execution_count": null,
      "outputs": []
    }
  ],
  "metadata": {
    "accelerator": "GPU",
    "colab": {
      "gpuType": "L4",
      "machine_shape": "hm",
      "provenance": []
    },
    "kernelspec": {
      "display_name": "PytTorch",
      "language": "python",
      "name": "pytorch"
    },
    "language_info": {
      "codemirror_mode": {
        "name": "ipython",
        "version": 3
      },
      "file_extension": ".py",
      "mimetype": "text/x-python",
      "name": "python",
      "nbconvert_exporter": "python",
      "pygments_lexer": "ipython3",
      "version": "3.9.19"
    }
  },
  "nbformat": 4,
  "nbformat_minor": 5
}