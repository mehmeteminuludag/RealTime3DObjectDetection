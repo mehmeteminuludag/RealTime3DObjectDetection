{
 "cells": [
  {
   "cell_type": "code",
   "execution_count": 75,
   "id": "f44ce32d",
   "metadata": {},
   "outputs": [],
   "source": [
    "from torchvision import models\n",
    "from torch import nn\n",
    "import torch\n",
    "from torchsummary import summary\n",
    "device = torch.device(\"cuda\" if torch.cuda.is_available() else \"cpu\")"
   ]
  },
  {
   "cell_type": "code",
   "execution_count": null,
   "id": "c78221ed",
   "metadata": {},
   "outputs": [],
   "source": [
    "class SpatialAttention(nn.Module):\n",
    "    def __init__(self, kernel_size=7):\n",
    "        super(SpatialAttention, self).__init__()\n",
    "\n",
    "        padding = (kernel_size - 1) // 2\n",
    "        self.conv1 = nn.Conv2d(2, 1, kernel_size, padding=padding, bias=False)\n",
    "        self.sigmoid = nn.Sigmoid()\n",
    "\n",
    "    def forward(self, x):\n",
    "        avg_out = torch.mean(x, dim=1, keepdim=True)  # [B, 1, H, W]\n",
    "        max_out, _ = torch.max(x, dim=1, keepdim=True)  # [B, 1, H, W]\n",
    "        \n",
    "        x_cat = torch.cat([avg_out, max_out], dim=1)  # [B, 2, H, W]\n",
    "        \n",
    "        x_out = self.conv1(x_cat)  # [B, 1, H, W]\n",
    "        attention_map = self.sigmoid(x_out)\n",
    "        \n",
    "        return x * attention_map\n",
    "    \n",
    "\n",
    "class EncoderBackBone(nn.Module):\n",
    "    def __init__(self):\n",
    "        efficient = models.efficientnet_b3()\n",
    "        self.features = efficient.features\n",
    "        self.SAttention=SpatialAttention()\n",
    "    def forward(self,x,forPose): #Backbonedan çıkan veri BiFPN ve Pose hesaplaması için 2 ye ayrılacak BiFPN e 5-9.Bloklardan veri gidecek\n",
    "        outs = []                #Pose hesaplaması için sadece son çıktı yeterli\n",
    "        for i,block in enumerate(self.features): \n",
    "            x = block(x)\n",
    "            if i>3:\n",
    "                x = self.SAttention(x)\n",
    "            if i>4 : \n",
    "                outs.append(x) # Burdaki veriler BiFPN e gönderilecek\n",
    "        if(forPose):\n",
    "            return outs\n",
    "        else :\n",
    "            return x\n",
    "                \n",
    "\n",
    "\n",
    "        \n",
    "        "
   ]
  }
 ],
 "metadata": {
  "kernelspec": {
   "display_name": "PytTorch",
   "language": "python",
   "name": "pytorch"
  },
  "language_info": {
   "codemirror_mode": {
    "name": "ipython",
    "version": 3
   },
   "file_extension": ".py",
   "mimetype": "text/x-python",
   "name": "python",
   "nbconvert_exporter": "python",
   "pygments_lexer": "ipython3",
   "version": "3.9.19"
  }
 },
 "nbformat": 4,
 "nbformat_minor": 5
}
